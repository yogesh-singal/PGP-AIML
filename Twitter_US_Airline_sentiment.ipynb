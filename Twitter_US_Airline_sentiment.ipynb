{
 "cells": [
  {
   "cell_type": "markdown",
   "metadata": {
    "id": "yX_XvIX616jo"
   },
   "source": [
    "## Project Description: Twitter US Airline Sentiment\n",
    "### Data Description:\n",
    "A sentiment analysis job about the problems of each major U.S. airline. Twitter data was scraped from February of 2015 and contributors were asked to first classify positive, negative, and neutral tweets, followed by categorizing negative reasons (such as \"late flight\" or \"rude service\").\n",
    "\n",
    "#### Dataset:\n",
    "The project is from a dataset from Kaggle.\n",
    "Link to the Kaggle project site: https://www.kaggle.com/crowdflower/twitter-airline-sentiment\n",
    "The dataset has to be downloaded from the above Kaggle website.\n",
    "\n",
    "The dataset has the following columns:\n",
    "\n",
    "        1 tweet_id\n",
    "        2 airline_sentiment\n",
    "        3 airline_sentiment_confidence\n",
    "        4 negativereason\n",
    "        5 negativereason_confidence\n",
    "        6 airline\n",
    "        7 airline_sentiment_gold\n",
    "        8 name\n",
    "        9 negativereason_gold\n",
    "        10 retweet_count\n",
    "        11 text\n",
    "        12 tweet_coord\n",
    "        13 tweet_created\n",
    "        14 tweet_location\n",
    "        15 user_timezone\n",
    "\n",
    "#### Objective:\n",
    "To implement the techniques learnt as a part of the course.\n",
    "##### Learning Outcomes:\n",
    "    1 Basic understanding of text pre-processing.\n",
    "    2 What to do after text pre-processing:\n",
    "    3 Bag of words\n",
    "    4 Tf-idf\n",
    "    5 Build the classification model.\n",
    "    6 Evaluate the Model.\n",
    "\n",
    "#### Steps and tasks:\n",
    "1. Import the libraries, load dataset, print shape of data, data description. **(5 Marks)**\n",
    "\n",
    "2. Understand of data-columns: **(5 Marks)**\n",
    "    a. Drop all other columns except “text” and “airline_sentiment”.\n",
    "    b. Check the shape of data.\n",
    "    c. Print first 5 rows of data.\n",
    "\n",
    "3. Text pre-processing: Data preparation. **(20 Marks)**\n",
    "    \n",
    "    a. Html tag removal\n",
    "    b. Tokenization.\n",
    "    c. Remove the numbers.\n",
    "    d. Removal of Special Characters and Punctuations.\n",
    "    e. Conversion to lowercase.\n",
    "    f. Lemmatize or stemming.\n",
    "    g. Join the words in the list to convert back to text string in the dataframe. (So that each row contains the data in text format.)\n",
    "    h. Print first 5 rows of data after pre-processing.\n",
    "\n",
    "4. Vectorization: **(10 Marks)**\n",
    "   \n",
    "    a. Use CountVectorizer.\n",
    "    b. Use TfidfVectorizer.\n",
    "    \n",
    "5. Fit and evaluate model using both type of vectorization. **(6+6 Marks)**\n",
    "\n",
    "6. Summarize your understanding of the application of Various Pre-processing and Vectorization and performance of your model on this dataset. **(8 Marks)**\n",
    "\n"
   ]
  },
  {
   "cell_type": "code",
   "execution_count": 99,
   "metadata": {},
   "outputs": [
    {
     "name": "stdout",
     "output_type": "stream",
     "text": [
      "Requirement already satisfied: spacy in c:\\users\\yoges\\anaconda3\\lib\\site-packages (3.0.3)\n",
      "Requirement already satisfied: numpy>=1.15.0 in c:\\users\\yoges\\anaconda3\\lib\\site-packages (from spacy) (1.19.5)\n",
      "Requirement already satisfied: jinja2 in c:\\users\\yoges\\anaconda3\\lib\\site-packages (from spacy) (2.11.1)\n",
      "Requirement already satisfied: pydantic<1.8.0,>=1.7.1 in c:\\users\\yoges\\anaconda3\\lib\\site-packages (from spacy) (1.7.3)\n",
      "Requirement already satisfied: packaging>=20.0 in c:\\users\\yoges\\anaconda3\\lib\\site-packages (from spacy) (20.1)\n",
      "Requirement already satisfied: importlib-metadata>=0.20; python_version < \"3.8\" in c:\\users\\yoges\\anaconda3\\lib\\site-packages (from spacy) (1.5.0)\n",
      "Requirement already satisfied: spacy-legacy<3.1.0,>=3.0.0 in c:\\users\\yoges\\anaconda3\\lib\\site-packages (from spacy) (3.0.1)\n",
      "Requirement already satisfied: catalogue<2.1.0,>=2.0.1 in c:\\users\\yoges\\anaconda3\\lib\\site-packages (from spacy) (2.0.1)\n",
      "Requirement already satisfied: preshed<3.1.0,>=3.0.2 in c:\\users\\yoges\\anaconda3\\lib\\site-packages (from spacy) (3.0.5)\n",
      "Requirement already satisfied: cymem<2.1.0,>=2.0.2 in c:\\users\\yoges\\anaconda3\\lib\\site-packages (from spacy) (2.0.5)\n",
      "Requirement already satisfied: blis<0.8.0,>=0.4.0 in c:\\users\\yoges\\anaconda3\\lib\\site-packages (from spacy) (0.7.4)\n",
      "Requirement already satisfied: setuptools in c:\\users\\yoges\\anaconda3\\lib\\site-packages (from spacy) (45.2.0.post20200210)\n",
      "Requirement already satisfied: murmurhash<1.1.0,>=0.28.0 in c:\\users\\yoges\\anaconda3\\lib\\site-packages (from spacy) (1.0.5)\n",
      "Requirement already satisfied: thinc<8.1.0,>=8.0.0 in c:\\users\\yoges\\anaconda3\\lib\\site-packages (from spacy) (8.0.1)\n",
      "Requirement already satisfied: pathy in c:\\users\\yoges\\anaconda3\\lib\\site-packages (from spacy) (0.4.0)\n",
      "Requirement already satisfied: wasabi<1.1.0,>=0.8.1 in c:\\users\\yoges\\anaconda3\\lib\\site-packages (from spacy) (0.8.2)\n",
      "Requirement already satisfied: tqdm<5.0.0,>=4.38.0 in c:\\users\\yoges\\anaconda3\\lib\\site-packages (from spacy) (4.42.1)\n",
      "Requirement already satisfied: typer<0.4.0,>=0.3.0 in c:\\users\\yoges\\anaconda3\\lib\\site-packages (from spacy) (0.3.2)\n",
      "Requirement already satisfied: srsly<3.0.0,>=2.4.0 in c:\\users\\yoges\\anaconda3\\lib\\site-packages (from spacy) (2.4.0)\n",
      "Requirement already satisfied: typing-extensions>=3.7.4; python_version < \"3.8\" in c:\\users\\yoges\\anaconda3\\lib\\site-packages (from spacy) (3.7.4.3)\n",
      "Requirement already satisfied: requests<3.0.0,>=2.13.0 in c:\\users\\yoges\\anaconda3\\lib\\site-packages (from spacy) (2.22.0)\n",
      "Requirement already satisfied: MarkupSafe>=0.23 in c:\\users\\yoges\\anaconda3\\lib\\site-packages (from jinja2->spacy) (1.1.1)\n",
      "Requirement already satisfied: six in c:\\users\\yoges\\anaconda3\\lib\\site-packages (from packaging>=20.0->spacy) (1.15.0)\n",
      "Requirement already satisfied: pyparsing>=2.0.2 in c:\\users\\yoges\\anaconda3\\lib\\site-packages (from packaging>=20.0->spacy) (2.4.6)\n",
      "Requirement already satisfied: zipp>=0.5 in c:\\users\\yoges\\anaconda3\\lib\\site-packages (from importlib-metadata>=0.20; python_version < \"3.8\"->spacy) (2.2.0)\n",
      "Requirement already satisfied: smart-open<4.0.0,>=2.2.0 in c:\\users\\yoges\\anaconda3\\lib\\site-packages (from pathy->spacy) (3.0.0)\n",
      "Requirement already satisfied: click<7.2.0,>=7.1.1 in c:\\users\\yoges\\anaconda3\\lib\\site-packages (from typer<0.4.0,>=0.3.0->spacy) (7.1.2)\n",
      "Requirement already satisfied: idna<2.9,>=2.5 in c:\\users\\yoges\\anaconda3\\lib\\site-packages (from requests<3.0.0,>=2.13.0->spacy) (2.8)\n",
      "Requirement already satisfied: urllib3!=1.25.0,!=1.25.1,<1.26,>=1.21.1 in c:\\users\\yoges\\anaconda3\\lib\\site-packages (from requests<3.0.0,>=2.13.0->spacy) (1.25.8)\n",
      "Requirement already satisfied: certifi>=2017.4.17 in c:\\users\\yoges\\anaconda3\\lib\\site-packages (from requests<3.0.0,>=2.13.0->spacy) (2019.11.28)\n",
      "Requirement already satisfied: chardet<3.1.0,>=3.0.2 in c:\\users\\yoges\\anaconda3\\lib\\site-packages (from requests<3.0.0,>=2.13.0->spacy) (3.0.4)\n",
      "Requirement already satisfied: en-core-web-sm==3.0.0 from https://github.com/explosion/spacy-models/releases/download/en_core_web_sm-3.0.0/en_core_web_sm-3.0.0-py3-none-any.whl#egg=en_core_web_sm==3.0.0 in c:\\users\\yoges\\anaconda3\\lib\\site-packages (3.0.0)\n",
      "Requirement already satisfied: spacy<3.1.0,>=3.0.0 in c:\\users\\yoges\\anaconda3\\lib\\site-packages (from en-core-web-sm==3.0.0) (3.0.3)\n",
      "Requirement already satisfied: spacy-legacy<3.1.0,>=3.0.0 in c:\\users\\yoges\\anaconda3\\lib\\site-packages (from spacy<3.1.0,>=3.0.0->en-core-web-sm==3.0.0) (3.0.1)\n",
      "Requirement already satisfied: pathy in c:\\users\\yoges\\anaconda3\\lib\\site-packages (from spacy<3.1.0,>=3.0.0->en-core-web-sm==3.0.0) (0.4.0)\n",
      "Requirement already satisfied: typer<0.4.0,>=0.3.0 in c:\\users\\yoges\\anaconda3\\lib\\site-packages (from spacy<3.1.0,>=3.0.0->en-core-web-sm==3.0.0) (0.3.2)\n",
      "Requirement already satisfied: typing-extensions>=3.7.4; python_version < \"3.8\" in c:\\users\\yoges\\anaconda3\\lib\\site-packages (from spacy<3.1.0,>=3.0.0->en-core-web-sm==3.0.0) (3.7.4.3)\n",
      "Requirement already satisfied: wasabi<1.1.0,>=0.8.1 in c:\\users\\yoges\\anaconda3\\lib\\site-packages (from spacy<3.1.0,>=3.0.0->en-core-web-sm==3.0.0) (0.8.2)\n",
      "Requirement already satisfied: blis<0.8.0,>=0.4.0 in c:\\users\\yoges\\anaconda3\\lib\\site-packages (from spacy<3.1.0,>=3.0.0->en-core-web-sm==3.0.0) (0.7.4)\n",
      "Requirement already satisfied: numpy>=1.15.0 in c:\\users\\yoges\\anaconda3\\lib\\site-packages (from spacy<3.1.0,>=3.0.0->en-core-web-sm==3.0.0) (1.19.5)\n",
      "Requirement already satisfied: cymem<2.1.0,>=2.0.2 in c:\\users\\yoges\\anaconda3\\lib\\site-packages (from spacy<3.1.0,>=3.0.0->en-core-web-sm==3.0.0) (2.0.5)\n",
      "Requirement already satisfied: tqdm<5.0.0,>=4.38.0 in c:\\users\\yoges\\anaconda3\\lib\\site-packages (from spacy<3.1.0,>=3.0.0->en-core-web-sm==3.0.0) (4.42.1)\n",
      "Requirement already satisfied: jinja2 in c:\\users\\yoges\\anaconda3\\lib\\site-packages (from spacy<3.1.0,>=3.0.0->en-core-web-sm==3.0.0) (2.11.1)\n",
      "Requirement already satisfied: pydantic<1.8.0,>=1.7.1 in c:\\users\\yoges\\anaconda3\\lib\\site-packages (from spacy<3.1.0,>=3.0.0->en-core-web-sm==3.0.0) (1.7.3)\n",
      "Requirement already satisfied: setuptools in c:\\users\\yoges\\anaconda3\\lib\\site-packages (from spacy<3.1.0,>=3.0.0->en-core-web-sm==3.0.0) (45.2.0.post20200210)\n",
      "Requirement already satisfied: requests<3.0.0,>=2.13.0 in c:\\users\\yoges\\anaconda3\\lib\\site-packages (from spacy<3.1.0,>=3.0.0->en-core-web-sm==3.0.0) (2.22.0)\n",
      "Requirement already satisfied: thinc<8.1.0,>=8.0.0 in c:\\users\\yoges\\anaconda3\\lib\\site-packages (from spacy<3.1.0,>=3.0.0->en-core-web-sm==3.0.0) (8.0.1)\n",
      "Requirement already satisfied: importlib-metadata>=0.20; python_version < \"3.8\" in c:\\users\\yoges\\anaconda3\\lib\\site-packages (from spacy<3.1.0,>=3.0.0->en-core-web-sm==3.0.0) (1.5.0)\n",
      "Requirement already satisfied: packaging>=20.0 in c:\\users\\yoges\\anaconda3\\lib\\site-packages (from spacy<3.1.0,>=3.0.0->en-core-web-sm==3.0.0) (20.1)\n",
      "Requirement already satisfied: murmurhash<1.1.0,>=0.28.0 in c:\\users\\yoges\\anaconda3\\lib\\site-packages (from spacy<3.1.0,>=3.0.0->en-core-web-sm==3.0.0) (1.0.5)\n",
      "Requirement already satisfied: srsly<3.0.0,>=2.4.0 in c:\\users\\yoges\\anaconda3\\lib\\site-packages (from spacy<3.1.0,>=3.0.0->en-core-web-sm==3.0.0) (2.4.0)\n",
      "Requirement already satisfied: catalogue<2.1.0,>=2.0.1 in c:\\users\\yoges\\anaconda3\\lib\\site-packages (from spacy<3.1.0,>=3.0.0->en-core-web-sm==3.0.0) (2.0.1)\n",
      "Requirement already satisfied: preshed<3.1.0,>=3.0.2 in c:\\users\\yoges\\anaconda3\\lib\\site-packages (from spacy<3.1.0,>=3.0.0->en-core-web-sm==3.0.0) (3.0.5)\n",
      "Requirement already satisfied: smart-open<4.0.0,>=2.2.0 in c:\\users\\yoges\\anaconda3\\lib\\site-packages (from pathy->spacy<3.1.0,>=3.0.0->en-core-web-sm==3.0.0) (3.0.0)\n",
      "Requirement already satisfied: click<7.2.0,>=7.1.1 in c:\\users\\yoges\\anaconda3\\lib\\site-packages (from typer<0.4.0,>=0.3.0->spacy<3.1.0,>=3.0.0->en-core-web-sm==3.0.0) (7.1.2)\n",
      "Requirement already satisfied: MarkupSafe>=0.23 in c:\\users\\yoges\\anaconda3\\lib\\site-packages (from jinja2->spacy<3.1.0,>=3.0.0->en-core-web-sm==3.0.0) (1.1.1)\n",
      "Requirement already satisfied: chardet<3.1.0,>=3.0.2 in c:\\users\\yoges\\anaconda3\\lib\\site-packages (from requests<3.0.0,>=2.13.0->spacy<3.1.0,>=3.0.0->en-core-web-sm==3.0.0) (3.0.4)\n",
      "Requirement already satisfied: idna<2.9,>=2.5 in c:\\users\\yoges\\anaconda3\\lib\\site-packages (from requests<3.0.0,>=2.13.0->spacy<3.1.0,>=3.0.0->en-core-web-sm==3.0.0) (2.8)\n",
      "Requirement already satisfied: urllib3!=1.25.0,!=1.25.1,<1.26,>=1.21.1 in c:\\users\\yoges\\anaconda3\\lib\\site-packages (from requests<3.0.0,>=2.13.0->spacy<3.1.0,>=3.0.0->en-core-web-sm==3.0.0) (1.25.8)\n",
      "Requirement already satisfied: certifi>=2017.4.17 in c:\\users\\yoges\\anaconda3\\lib\\site-packages (from requests<3.0.0,>=2.13.0->spacy<3.1.0,>=3.0.0->en-core-web-sm==3.0.0) (2019.11.28)\n",
      "Requirement already satisfied: zipp>=0.5 in c:\\users\\yoges\\anaconda3\\lib\\site-packages (from importlib-metadata>=0.20; python_version < \"3.8\"->spacy<3.1.0,>=3.0.0->en-core-web-sm==3.0.0) (2.2.0)\n",
      "Requirement already satisfied: pyparsing>=2.0.2 in c:\\users\\yoges\\anaconda3\\lib\\site-packages (from packaging>=20.0->spacy<3.1.0,>=3.0.0->en-core-web-sm==3.0.0) (2.4.6)\n",
      "Requirement already satisfied: six in c:\\users\\yoges\\anaconda3\\lib\\site-packages (from packaging>=20.0->spacy<3.1.0,>=3.0.0->en-core-web-sm==3.0.0) (1.15.0)\n",
      "[+] Download and installation successful\n",
      "You can now load the package via spacy.load('en_core_web_sm')\n"
     ]
    },
    {
     "name": "stderr",
     "output_type": "stream",
     "text": [
      "2021-03-10 11:20:52.845676: W tensorflow/stream_executor/platform/default/dso_loader.cc:60] Could not load dynamic library 'cudart64_110.dll'; dlerror: cudart64_110.dll not found\n",
      "2021-03-10 11:20:52.845708: I tensorflow/stream_executor/cuda/cudart_stub.cc:29] Ignore above cudart dlerror if you do not have a GPU set up on your machine.\n"
     ]
    }
   ],
   "source": [
    "!pip install spacy\n",
    "!python -m spacy download en_core_web_sm"
   ]
  },
  {
   "cell_type": "markdown",
   "metadata": {
    "id": "gnEmMBzlJALf"
   },
   "source": [
    "1.Import the libraries, load dataset, print shape of data, data description. **(5 Marks)**"
   ]
  },
  {
   "cell_type": "code",
   "execution_count": 100,
   "metadata": {
    "id": "62wXt6ybXVMx"
   },
   "outputs": [
    {
     "name": "stderr",
     "output_type": "stream",
     "text": [
      "[nltk_data] Downloading package stopwords to\n",
      "[nltk_data]     C:\\Users\\yoges\\AppData\\Roaming\\nltk_data...\n",
      "[nltk_data]   Package stopwords is already up-to-date!\n"
     ]
    }
   ],
   "source": [
    "import math\n",
    "import pandas as pd\n",
    "import numpy as np\n",
    "from glob import glob\n",
    "from sklearn.model_selection import train_test_split\n",
    "from sklearn import preprocessing\n",
    "from sklearn.metrics import accuracy_score, confusion_matrix, precision_score, recall_score, f1_score, precision_recall_curve, auc, classification_report\n",
    "import matplotlib.pyplot as plt\n",
    "\n",
    "from bs4 import BeautifulSoup\n",
    "import nltk\n",
    "from nltk.tokenize.toktok import ToktokTokenizer\n",
    "import unicodedata\n",
    "import re\n",
    "import spacy\n",
    "from nltk.corpus import stopwords\n",
    "nltk.download('stopwords')\n",
    "nlp = spacy.load('en_core_web_sm')"
   ]
  },
  {
   "cell_type": "code",
   "execution_count": 101,
   "metadata": {
    "colab": {
     "base_uri": "https://localhost:8080/"
    },
    "id": "5GYlJ7bBdrS6",
    "outputId": "dd6a4600-c02c-4c9e-fe77-cf8171fe38e3"
   },
   "outputs": [],
   "source": [
    "data = pd.read_csv('Tweets.csv');"
   ]
  },
  {
   "cell_type": "code",
   "execution_count": 102,
   "metadata": {},
   "outputs": [
    {
     "data": {
      "text/plain": [
       "(14640, 15)"
      ]
     },
     "execution_count": 102,
     "metadata": {},
     "output_type": "execute_result"
    }
   ],
   "source": [
    "data.shape"
   ]
  },
  {
   "cell_type": "code",
   "execution_count": 103,
   "metadata": {},
   "outputs": [
    {
     "name": "stdout",
     "output_type": "stream",
     "text": [
      "<class 'pandas.core.frame.DataFrame'>\n",
      "RangeIndex: 14640 entries, 0 to 14639\n",
      "Data columns (total 15 columns):\n",
      " #   Column                        Non-Null Count  Dtype  \n",
      "---  ------                        --------------  -----  \n",
      " 0   tweet_id                      14640 non-null  int64  \n",
      " 1   airline_sentiment             14640 non-null  object \n",
      " 2   airline_sentiment_confidence  14640 non-null  float64\n",
      " 3   negativereason                9178 non-null   object \n",
      " 4   negativereason_confidence     10522 non-null  float64\n",
      " 5   airline                       14640 non-null  object \n",
      " 6   airline_sentiment_gold        40 non-null     object \n",
      " 7   name                          14640 non-null  object \n",
      " 8   negativereason_gold           32 non-null     object \n",
      " 9   retweet_count                 14640 non-null  int64  \n",
      " 10  text                          14640 non-null  object \n",
      " 11  tweet_coord                   1019 non-null   object \n",
      " 12  tweet_created                 14640 non-null  object \n",
      " 13  tweet_location                9907 non-null   object \n",
      " 14  user_timezone                 9820 non-null   object \n",
      "dtypes: float64(2), int64(2), object(11)\n",
      "memory usage: 1.7+ MB\n"
     ]
    }
   ],
   "source": [
    "data.info()"
   ]
  },
  {
   "cell_type": "markdown",
   "metadata": {},
   "source": [
    "2. Understand of data-columns: **(5 Marks)**\n",
    "    \n",
    "    a. Drop all other columns except “text” and “airline_sentiment”. \n",
    "    \n",
    "    b. Check the shape of data. \n",
    "    \n",
    "    c. Print first 5 rows of data."
   ]
  },
  {
   "cell_type": "code",
   "execution_count": 104,
   "metadata": {},
   "outputs": [],
   "source": [
    "data = data[['text', 'airline_sentiment']]"
   ]
  },
  {
   "cell_type": "code",
   "execution_count": 105,
   "metadata": {},
   "outputs": [
    {
     "data": {
      "text/plain": [
       "(14640, 2)"
      ]
     },
     "execution_count": 105,
     "metadata": {},
     "output_type": "execute_result"
    }
   ],
   "source": [
    "data.shape"
   ]
  },
  {
   "cell_type": "code",
   "execution_count": 106,
   "metadata": {},
   "outputs": [
    {
     "data": {
      "text/html": [
       "<div>\n",
       "<style scoped>\n",
       "    .dataframe tbody tr th:only-of-type {\n",
       "        vertical-align: middle;\n",
       "    }\n",
       "\n",
       "    .dataframe tbody tr th {\n",
       "        vertical-align: top;\n",
       "    }\n",
       "\n",
       "    .dataframe thead th {\n",
       "        text-align: right;\n",
       "    }\n",
       "</style>\n",
       "<table border=\"1\" class=\"dataframe\">\n",
       "  <thead>\n",
       "    <tr style=\"text-align: right;\">\n",
       "      <th></th>\n",
       "      <th>text</th>\n",
       "      <th>airline_sentiment</th>\n",
       "    </tr>\n",
       "  </thead>\n",
       "  <tbody>\n",
       "    <tr>\n",
       "      <th>count</th>\n",
       "      <td>14640</td>\n",
       "      <td>14640</td>\n",
       "    </tr>\n",
       "    <tr>\n",
       "      <th>unique</th>\n",
       "      <td>14427</td>\n",
       "      <td>3</td>\n",
       "    </tr>\n",
       "    <tr>\n",
       "      <th>top</th>\n",
       "      <td>@united thanks</td>\n",
       "      <td>negative</td>\n",
       "    </tr>\n",
       "    <tr>\n",
       "      <th>freq</th>\n",
       "      <td>6</td>\n",
       "      <td>9178</td>\n",
       "    </tr>\n",
       "  </tbody>\n",
       "</table>\n",
       "</div>"
      ],
      "text/plain": [
       "                  text airline_sentiment\n",
       "count            14640             14640\n",
       "unique           14427                 3\n",
       "top     @united thanks          negative\n",
       "freq                 6              9178"
      ]
     },
     "execution_count": 106,
     "metadata": {},
     "output_type": "execute_result"
    }
   ],
   "source": [
    "data.describe()"
   ]
  },
  {
   "cell_type": "code",
   "execution_count": 107,
   "metadata": {},
   "outputs": [
    {
     "data": {
      "text/html": [
       "<div>\n",
       "<style scoped>\n",
       "    .dataframe tbody tr th:only-of-type {\n",
       "        vertical-align: middle;\n",
       "    }\n",
       "\n",
       "    .dataframe tbody tr th {\n",
       "        vertical-align: top;\n",
       "    }\n",
       "\n",
       "    .dataframe thead th {\n",
       "        text-align: right;\n",
       "    }\n",
       "</style>\n",
       "<table border=\"1\" class=\"dataframe\">\n",
       "  <thead>\n",
       "    <tr style=\"text-align: right;\">\n",
       "      <th></th>\n",
       "      <th>text</th>\n",
       "      <th>airline_sentiment</th>\n",
       "    </tr>\n",
       "  </thead>\n",
       "  <tbody>\n",
       "    <tr>\n",
       "      <th>0</th>\n",
       "      <td>@VirginAmerica What @dhepburn said.</td>\n",
       "      <td>neutral</td>\n",
       "    </tr>\n",
       "    <tr>\n",
       "      <th>1</th>\n",
       "      <td>@VirginAmerica plus you've added commercials t...</td>\n",
       "      <td>positive</td>\n",
       "    </tr>\n",
       "    <tr>\n",
       "      <th>2</th>\n",
       "      <td>@VirginAmerica I didn't today... Must mean I n...</td>\n",
       "      <td>neutral</td>\n",
       "    </tr>\n",
       "    <tr>\n",
       "      <th>3</th>\n",
       "      <td>@VirginAmerica it's really aggressive to blast...</td>\n",
       "      <td>negative</td>\n",
       "    </tr>\n",
       "    <tr>\n",
       "      <th>4</th>\n",
       "      <td>@VirginAmerica and it's a really big bad thing...</td>\n",
       "      <td>negative</td>\n",
       "    </tr>\n",
       "  </tbody>\n",
       "</table>\n",
       "</div>"
      ],
      "text/plain": [
       "                                                text airline_sentiment\n",
       "0                @VirginAmerica What @dhepburn said.           neutral\n",
       "1  @VirginAmerica plus you've added commercials t...          positive\n",
       "2  @VirginAmerica I didn't today... Must mean I n...           neutral\n",
       "3  @VirginAmerica it's really aggressive to blast...          negative\n",
       "4  @VirginAmerica and it's a really big bad thing...          negative"
      ]
     },
     "execution_count": 107,
     "metadata": {},
     "output_type": "execute_result"
    }
   ],
   "source": [
    "data.head()"
   ]
  },
  {
   "cell_type": "code",
   "execution_count": 108,
   "metadata": {},
   "outputs": [
    {
     "data": {
      "text/plain": [
       "text                 0\n",
       "airline_sentiment    0\n",
       "dtype: int64"
      ]
     },
     "execution_count": 108,
     "metadata": {},
     "output_type": "execute_result"
    }
   ],
   "source": [
    "data.isnull().sum()"
   ]
  },
  {
   "cell_type": "code",
   "execution_count": 109,
   "metadata": {},
   "outputs": [
    {
     "data": {
      "text/plain": [
       "text                 0\n",
       "airline_sentiment    0\n",
       "dtype: int64"
      ]
     },
     "execution_count": 109,
     "metadata": {},
     "output_type": "execute_result"
    }
   ],
   "source": [
    "data.isna().sum()"
   ]
  },
  {
   "cell_type": "code",
   "execution_count": 110,
   "metadata": {},
   "outputs": [
    {
     "data": {
      "text/plain": [
       "'@VirginAmerica it\\'s really aggressive to blast obnoxious \"entertainment\" in your guests\\' faces &amp; they have little recourse'"
      ]
     },
     "execution_count": 110,
     "metadata": {},
     "output_type": "execute_result"
    }
   ],
   "source": [
    "data.text[3]"
   ]
  },
  {
   "cell_type": "markdown",
   "metadata": {},
   "source": [
    "3. Text pre-processing: Data preparation. **(20 Marks)**\n",
    "    \n",
    "    a. Html tag removal\n",
    "    \n",
    "    b. Tokenization.\n",
    "    \n",
    "    c. Remove the numbers.\n",
    "    \n",
    "    d. Removal of Special Characters and Punctuations.\n",
    "    \n",
    "    e. Conversion to lowercase.\n",
    "    \n",
    "    f. Lemmatize or stemming.\n",
    "    \n",
    "    g. Join the words in the list to convert back to text string in the dataframe. (So that each row contains the data in text format.)\n",
    "    \n",
    "    h. Print first 5 rows of data after pre-processing."
   ]
  },
  {
   "cell_type": "code",
   "execution_count": 111,
   "metadata": {},
   "outputs": [
    {
     "data": {
      "text/plain": [
       "'@VirginAmerica trying to add my boy Prince to my ressie. SF this Thursday @VirginAmerica from LAX http://t.co/GsB2J3c4gM'"
      ]
     },
     "execution_count": 111,
     "metadata": {},
     "output_type": "execute_result"
    }
   ],
   "source": [
    "def strip_html_tags(text):\n",
    "    soup = BeautifulSoup(text, \"html.parser\")\n",
    "    stripped_text = soup.get_text()\n",
    "    return stripped_text\n",
    "\n",
    "strip_html_tags(data.text[100])"
   ]
  },
  {
   "cell_type": "code",
   "execution_count": 112,
   "metadata": {},
   "outputs": [
    {
     "name": "stdout",
     "output_type": "stream",
     "text": [
      "['@VirginAmerica', 'trying', 'to', 'add', 'my', 'boy', 'Prince', 'to', 'my', 'ressie.', 'SF', 'this', 'Thursday', '@VirginAmerica', 'from', 'LAX', 'http://t.co/GsB2J3c4gM']\n"
     ]
    }
   ],
   "source": [
    "#tokenization\n",
    "tokenizer=ToktokTokenizer()\n",
    "tokens=tokenizer.tokenize(data.text[100])\n",
    "print(tokens)"
   ]
  },
  {
   "cell_type": "code",
   "execution_count": 113,
   "metadata": {},
   "outputs": [
    {
     "data": {
      "text/plain": [
       "'@VirginAmerica trying to add my boy Prince to my ressie. SF this Thursday @VirginAmerica from LAX http://t.co/GsB2J3c4gM'"
      ]
     },
     "execution_count": 113,
     "metadata": {},
     "output_type": "execute_result"
    }
   ],
   "source": [
    "#remove accented characters\n",
    "def remove_accented_chars(text):\n",
    "    text = unicodedata.normalize('NFKD', text).encode('ascii', 'ignore').decode('utf-8', 'ignore')\n",
    "    return text\n",
    "\n",
    "remove_accented_chars(data.text[100])"
   ]
  },
  {
   "cell_type": "code",
   "execution_count": 114,
   "metadata": {},
   "outputs": [
    {
     "data": {
      "text/plain": [
       "'VirginAmerica trying to add my boy Prince to my ressie SF this Thursday VirginAmerica from LAX httptcoGsBJcgM'"
      ]
     },
     "execution_count": 114,
     "metadata": {},
     "output_type": "execute_result"
    }
   ],
   "source": [
    "def remove_special_characters(text, remove_digits=False):\n",
    "    pattern = r'[^a-zA-z0-9\\s]' if not remove_digits else r'[^a-zA-z\\s]'\n",
    "    text = re.sub(pattern, '', text)\n",
    "    return text\n",
    "\n",
    "remove_special_characters(data.text[100], remove_digits=True)"
   ]
  },
  {
   "cell_type": "code",
   "execution_count": 115,
   "metadata": {},
   "outputs": [],
   "source": [
    "# Convert to lower case, split into individual words\n",
    "words = (data.text[100]).lower().split()   "
   ]
  },
  {
   "cell_type": "code",
   "execution_count": 116,
   "metadata": {},
   "outputs": [
    {
     "data": {
      "text/plain": [
       "'@VirginAmerica try to add my boy Prince to my ressie . SF this Thursday @VirginAmerica from LAX http://t.co/GsB2J3c4gM'"
      ]
     },
     "execution_count": 116,
     "metadata": {},
     "output_type": "execute_result"
    }
   ],
   "source": [
    "def lemmatize_text(text):\n",
    "    text = nlp(text)\n",
    "    text = ' '.join([word.lemma_ if word.lemma_ != '-PRON-' else word.text for word in text])\n",
    "    return text\n",
    "\n",
    "lemmatize_text(data.text[100])"
   ]
  },
  {
   "cell_type": "code",
   "execution_count": 117,
   "metadata": {},
   "outputs": [],
   "source": [
    "def comment_to_words( raw_comment ):\n",
    "    # Function to convert a raw string to a string of words\n",
    "    # The input is a single string (a raw twitter comment), and \n",
    "    # the output is a single string (a preprocessed comment)\n",
    "    #\n",
    "    # 1. Remove HTML & web links\n",
    "    #\n",
    "    new_text = BeautifulSoup(raw_comment).get_text()\n",
    "    comment_text = re.sub(\"http://[a-zA-Z0-9\\/\\.]+\", '', new_text)\n",
    "    #\n",
    "    # 2. Remove non-letters\n",
    "    #\n",
    "    letters_only = re.sub(\"[^a-zA-Z]\", \" \", remove_accented_chars(comment_text)) \n",
    "    #\n",
    "    # 3. Remove numbers, special characters and punctuations\n",
    "    #\n",
    "    simple_text = remove_special_characters(letters_only, remove_digits=True)\n",
    "    # 4. Convert to lower case, split into individual words\n",
    "    words = simple_text.lower()\n",
    "    #.split()                             \n",
    "    #\n",
    "    # 5. Lemmatize text\n",
    "    #\n",
    "    lemmatized_text = lemmatize_text(words)\n",
    "    #\n",
    "    # 6. Create the set of stop words\n",
    "    #\n",
    "    stops = set(stopwords.words(\"english\"))                  \n",
    "    #\n",
    "    # 7. Tokenize\n",
    "    #\n",
    "    tokenizer=ToktokTokenizer()\n",
    "    words=tokenizer.tokenize(lemmatized_text)\n",
    "    # \n",
    "    # 8. Remove stop words\n",
    "    #\n",
    "    meaningful_words = [w for w in words if not w in stops] \n",
    "    #\n",
    "    # 9. Join the words back into one string separated by space and return the result.\n",
    "    #\n",
    "    return ( \" \".join(meaningful_words))"
   ]
  },
  {
   "cell_type": "code",
   "execution_count": 118,
   "metadata": {},
   "outputs": [
    {
     "data": {
      "text/plain": [
       "'virginamerica try add boy prince ressie sf thursday virginamerica lax'"
      ]
     },
     "execution_count": 118,
     "metadata": {},
     "output_type": "execute_result"
    }
   ],
   "source": [
    "comment_to_words(data.text[100])"
   ]
  },
  {
   "cell_type": "code",
   "execution_count": 119,
   "metadata": {},
   "outputs": [],
   "source": [
    "# Get the number of comments based on the dataframe column size\n",
    "num_texts = data[\"text\"].size\n",
    "\n",
    "# Initialize an empty list to hold the clean comments\n",
    "clean_text = []\n",
    "\n",
    "# Loop over each comment; create an index i that goes from 0 to the length of the list \n",
    "for i in range( 0, num_texts ):\n",
    "    # Call our function for each one, and add the result to the list of\n",
    "    # clean comments\n",
    "    clean_text.append( comment_to_words(data[\"text\"][i] ) )"
   ]
  },
  {
   "cell_type": "code",
   "execution_count": 120,
   "metadata": {},
   "outputs": [],
   "source": [
    "x_train, x_test, y_train, y_test = train_test_split(clean_text, data['airline_sentiment'], test_size=0.3, random_state=1)"
   ]
  },
  {
   "cell_type": "markdown",
   "metadata": {},
   "source": [
    "4. Vectorization: **(10 Marks)**\n",
    "   \n",
    "    a. Use CountVectorizer.\n",
    "    \n",
    "    b. Use TfidfVectorizer."
   ]
  },
  {
   "cell_type": "code",
   "execution_count": 121,
   "metadata": {},
   "outputs": [
    {
     "name": "stdout",
     "output_type": "stream",
     "text": [
      "Creating the bag of words...\n",
      "\n"
     ]
    }
   ],
   "source": [
    "print (\"Creating the bag of words...\\n\")\n",
    "from sklearn.feature_extraction.text import CountVectorizer\n",
    "\n",
    "# Initialize the \"CountVectorizer\"  \n",
    "count_vectorizer = CountVectorizer(analyzer = \"word\",   \\\n",
    "                             tokenizer = None,    \\\n",
    "                             preprocessor = None, \\\n",
    "                             stop_words = None,   \\\n",
    "                             max_features = 5000) \n",
    "\n",
    "# fit_transform() fits the model and learns the vocabulary; it also transforms our training data into feature vectors.\n",
    "train_data_features = count_vectorizer.fit_transform(x_train)\n",
    "\n",
    "# Convert the result to an array\n",
    "train_data_features = train_data_features.toarray()"
   ]
  },
  {
   "cell_type": "code",
   "execution_count": 122,
   "metadata": {},
   "outputs": [
    {
     "name": "stdout",
     "output_type": "stream",
     "text": [
      "(10248, 5000)\n"
     ]
    }
   ],
   "source": [
    "print (train_data_features.shape)"
   ]
  },
  {
   "cell_type": "code",
   "execution_count": 123,
   "metadata": {},
   "outputs": [
    {
     "name": "stdout",
     "output_type": "stream",
     "text": [
      "['aa', 'aaadvantage', 'aacustomerservice', 'aadavantage', 'aadelay', 'aadv', 'aadvantage', 'aafail', 'aal', 'aaron', 'aarp', 'aay', 'ab', 'abandon', 'abandonment', 'abc', 'abcnetwork', 'ability', 'able', 'aboard', 'abq', 'abroad', 'absolute', 'absolutely', 'absurd', 'abt', 'abuse', 'abysmal', 'ac', 'accept', 'acceptable', 'access', 'accident', 'accidentally', 'accommodate', 'accommodation', 'accomplish', 'accord', 'accordingly', 'account', 'accountability', 'acct', 'accurate', 'acknowledge', 'acknowledgment', 'acquire', 'acquisition', 'across', 'act', 'action', 'activate', 'active', 'actively', 'activity', 'actual', 'actually', 'actualy', 'acu', 'ad', 'ada', 'adam', 'adapt', 'add', 'addair', 'addition', 'additional', 'additionally', 'additonal', 'addl', 'addr', 'address', 'addtl', 'adjacent', 'adjustment', 'admin', 'admiral', 'admit', 'adolfo', 'adopt', 'adore', 'adult', 'adv', 'advan', 'advance', 'advantage', 'adve', 'adventure', 'advertise', 'advertising', 'advice', 'advis', 'advise', 'advisory', 'advsry', 'aerojobmarket', 'aesthetic', 'aex', 'af', 'affect', 'affiliate', 'afford', 'affordable', 'afiliate', 'aflame', 'aforementioned', 'afraid', 'african', 'aft', 'afterall', 'afternoon', 'afterward', 'aftr', 'age', 'agency', 'agent', 'aggravate', 'aggravating', 'aggressive', 'agian', 'agnt', 'ago', 'agoodlife', 'agree', 'agreement', 'agt', 'agts', 'ah', 'aha', 'ahah', 'ahead', 'ahem', 'ahhhh', 'ahold', 'ahoy', 'aiecraft', 'ail', 'aim', 'air', 'airborne', 'airbus', 'aircanada', 'aircraft', 'aire', 'airfare', 'airline', 'airlinegave', 'airlinegeek', 'airlineguy', 'airlinequality', 'airliner', 'airlinesecurity', 'airnzusa', 'airplane', 'airplanemodewason', 'airport', 'airportcardio', 'airpt', 'airway', 'aisle', 'aka', 'al', 'alan', 'alaska', 'alaskaair', 'albany', 'albuquerque', 'alcohol', 'alert', 'alex', 'ali', 'alive', 'allergy', 'alliance', 'allow', 'almost', 'alone', 'along', 'alot', 'already', 'alreadyrebookedonce', 'alright', 'also', 'alstdi', 'alternate', 'alternative', 'although', 'altitude', 'always', 'amateur', 'amateurish', 'amaze', 'amazed', 'amazing', 'amazingflightcrew', 'amazingly', 'amazon', 'ambassador', 'ambivalence', 'amend', 'amenity', 'america', 'american', 'americanair', 'americanairbr', 'americanairline', 'americanairlinesfail', 'americanview', 'amex', 'among', 'amount', 'amsterdam', 'amybruni', 'ana', 'analystdoc', 'analytic', 'anamarketer', 'anaphylaxis', 'anarchy', 'anchorage', 'andchexmix', 'anderson', 'andrew', 'andrewfalli', 'andrews', 'android', 'andthewinneris', 'andyellwood', 'angel', 'angele', 'angelo', 'anger', 'angle', 'angry', 'angryairtravel', 'angrybird', 'angrycustomer', 'angrytraveler', 'angst', 'anhour', 'animal', 'ann', 'anna', 'anniversary', 'annnnddddd', 'announce', 'announced', 'announcement', 'announcer', 'annoy', 'annoyed', 'annoying', 'annricord', 'annual', 'another', 'anotherdisappointment', 'anotherfail', 'answer', 'answerthephone', 'ant', 'anthony', 'anti', 'anticipate', 'anticipation', 'antigua', 'antitrust', 'antonio', 'anxiety', 'anxious', 'anybody', 'anyhelp', 'anymore', 'anyone', 'anythin', 'anything', 'anytime', 'anyway', 'anyways', 'anywhere', 'ap', 'apart', 'apathy', 'apeare', 'api', 'apologise', 'apologize', 'apology', 'apostrophe', 'apostrophefail', 'app', 'appal', 'appalled', 'apparent', 'apparently', 'appeal', 'appear', 'appease', 'applaud', 'applause', 'apple', 'applepay', 'appleton', 'application', 'apply', 'appoint', 'appointment', 'appreciate', 'appreciated', 'appreciation', 'approach', 'appropriate', 'approval', 'approve', 'approx', 'approximate', 'approximately', 'appt', 'apr', 'april', 'apron', 'apt', 'apx', 'aquadilla', 'ar', 'arab', 'arbitrary', 'ardent', 'area', 'argentina', 'argue', 'argument', 'arkansa', 'arm', 'armrest', 'army', 'around', 'arrange', 'arrangement', 'arrival', 'arrive', 'art', 'article', 'asap', 'ase', 'ashamed', 'ashley', 'ask', 'askpaypal', 'asleep', 'aspen', 'ass', 'assault', 'asset', 'asshole', 'assign', 'assignment', 'assist', 'assistance', 'assult', 'assume', 'assure', 'astounding', 'atc', 'athlete', 'atl', 'atlanta', 'atlantic', 'atrocious', 'attach', 'attempt', 'attend', 'attendant', 'attendent', 'attention', 'attentiveness', 'attitude', 'atx', 'au', 'aug', 'august', 'auh', 'aus', 'austin', 'australia', 'austrian', 'auto', 'automate', 'automatically', 'av', 'avail', 'availability', 'available', 'average', 'avgeek', 'aviation', 'aviv', 'avoid', 'aw', 'await', 'awake', 'award', 'aware', 'away', 'awe', 'awesome', 'awful', 'awkward', 'aww', 'awww', 'az', 'ba', 'baby', 'back', 'backlog', 'backpack', 'backup', 'bad', 'badcustomerservice', 'badge', 'badly', 'badpolicy', 'badservice', 'bae', 'bag', 'bagage', 'baggage', 'baggagelost', 'bahama', 'bait', 'balance', 'ball', 'baltimore', 'band', 'bangkok', 'bank', 'bankrupt', 'bankruptcy', 'bar', 'barbado', 'barbara', 'barclay', 'barely', 'base', 'basic', 'basically', 'basket', 'bat', 'bathroom', 'battery', 'battierccipuppy', 'battle', 'bay', 'bc', 'bday', 'bdl', 'beach', 'beamske', 'beanie', 'bear', 'beat', 'beautiful', 'beautifully', 'beauty', 'become', 'bed', 'beer', 'beg', 'begin', 'beginning', 'behalf', 'behind', 'bein', 'believe', 'belize', 'belonging', 'belt', 'beneficial', 'benefit', 'bereavement', 'bergstrom', 'besides', 'bestairline', 'bestairlineever', 'bestfriend', 'besty', 'bet', 'betsy', 'beware', 'beyond', 'bf', 'bff', 'bg', 'bgm', 'bhm', 'bicycle', 'big', 'bike', 'bill', 'billing', 'billion', 'bin', 'bind', 'bio', 'bird', 'birmingham', 'birth', 'birthdate', 'birthday', 'bit', 'bitch', 'biz', 'bk', 'bkk', 'black', 'blackhistorymonth', 'blacklist', 'blah', 'blame', 'blank', 'blanket', 'blast', 'blasting', 'bless', 'blizzard', 'block', 'blog', 'bloody', 'blow', 'blue', 'bluemanity', 'bna', 'bo', 'board', 'boarding', 'boat', 'boeingairplane', 'bogota', 'boise', 'bonus', 'boo', 'book', 'booking', 'boom', 'boooo', 'boot', 'booze', 'border', 'bos', 'boss', 'boston', 'bostonlogan', 'bot', 'bother', 'bottle', 'bottom', 'bounce', 'bout', 'box', 'boy', 'boycott', 'boyfriend', 'bqn', 'bradley', 'brag', 'brain', 'brand', 'brandloveaffair', 'brandmance', 'brave', 'brazil', 'break', 'breakdown', 'breakfast', 'breast', 'breath', 'breeze', 'bretharold', 'brian', 'bridge', 'bright', 'brilliant', 'bring', 'british', 'bro', 'broke', 'broken', 'brokenpromise', 'brother', 'browser', 'bruh', 'brush', 'brutal', 'bs', 'btr', 'btv', 'btw', 'btwn', 'buck', 'buddy', 'budget', 'bueno', 'buf', 'buffalo', 'bug', 'build', 'bulb', 'bulkhead', 'bull', 'bullshit', 'bummer', 'bump', 'bumper', 'bunch', 'burger', 'burn', 'burningman', 'bus', 'bush', 'business', 'businessfirst', 'bussey', 'busy', 'butt', 'button', 'buy', 'buyer', 'bwi', 'bye', 'ca', 'cab', 'cabin', 'cabo', 'cache', 'cae', 'caffeine', 'cake', 'calgary', 'cali', 'california', 'call', 'callback', 'caller', 'calling', 'camera', 'campilley', 'canada', 'canadian', 'cancel', 'cancer', 'cancun', 'canned', 'canx', 'capability', 'capital', 'capt', 'captain', 'captive', 'capture', 'car', 'card', 'cardholder', 'care', 'career', 'cargo', 'caribbean', 'carol', 'carolina', 'carousel', 'carpet', 'carrier', 'carrieunderwood', 'carry', 'carryon', 'carseat', 'cart', 'case', 'cash', 'casimir', 'cat', 'catch', 'cater', 'catering', 'cattle', 'cause', 'cc', 'celebrate', 'cell', 'cellphone', 'center', 'central', 'centricity', 'century', 'ceo', 'certain', 'certainly', 'certificate', 'cessna', 'chain', 'chair', 'chairman', 'challenge', 'chance', 'change', 'channel', 'chaos', 'character', 'charge', 'charger', 'charity', 'charle', 'charleston', 'charlotte', 'charm', 'chart', 'chase', 'chasefoster', 'chat', 'cheap', 'cheapflight', 'cheat', 'check', 'checkin', 'checkout', 'checkpoint', 'cheer', 'cheertymedad', 'cheese', 'chge', 'chi', 'chicago', 'chicagotribune', 'chicken', 'chief', 'child', 'childish', 'chill', 'china', 'chkd', 'chng', 'cho', 'chocolate', 'choice', 'choose', 'choppy', 'chrome', 'cincy', 'cinnabon', 'circle', 'circumstance', 'cite', 'citizen', 'city', 'cke', 'claim', 'clarification', 'clarify', 'class', 'classy', 'cld', 'cldnt', 'cle', 'clean', 'clear', 'clearly', 'cleveland', 'clever', 'click', 'client', 'cll', 'close', 'closed', 'closing', 'clothe', 'clothing', 'cloud', 'clown', 'clt', 'club', 'clue', 'clutch', 'cmh', 'cmon', 'cng', 'cnn', 'cnnbrk', 'cnnmoney', 'cnx', 'cnxn', 'co', 'coach', 'coast', 'coat', 'cockpit', 'cocktail', 'code', 'codeshare', 'coffee', 'coincidence', 'coke', 'cold', 'colleague', 'collect', 'college', 'colombia', 'color', 'columbia', 'columbus', 'com', 'combination', 'combine', 'comcast', 'come', 'comedy', 'comfort', 'comfortable', 'comm', 'command', 'comment', 'commercial', 'commit', 'commitment', 'common', 'comms', 'communicate', 'communication', 'community', 'comp', 'companion', 'company', 'compare', 'compassion', 'compatible', 'compe', 'compensate', 'compensation', 'compete', 'competent', 'competitor', 'complain', 'complaint', 'complete', 'completely', 'complicated', 'compliment', 'complimentary', 'compound', 'computer', 'con', 'concept', 'concern', 'concerned', 'concert', 'concourse', 'condition', 'condom', 'conection', 'conf', 'conference', 'confidence', 'confident', 'confirm', 'confirmation', 'conflict', 'confuse', 'confused', 'confusion', 'congrat', 'congratulation', 'connect', 'connection', 'connector', 'consecutive', 'consider', 'considerable', 'consideration', 'consistency', 'consistent', 'consistently', 'constant', 'constantly', 'consumer', 'cont', 'contact', 'contain', 'contd', 'content', 'contest', 'context', 'continental', 'contingency', 'continue', 'continuous', 'contract', 'control', 'controller', 'convenient', 'conveniently', 'conversation', 'conveyer', 'convince', 'convo', 'cookie', 'cool', 'copilot', 'copy', 'corner', 'corp', 'corporate', 'corporation', 'correct', 'correctly', 'cost', 'costa', 'costumer', 'cough', 'could', 'count', 'counter', 'counting', 'country', 'county', 'couple', 'coupon', 'courier', 'course', 'court', 'courteous', 'courtesy', 'cousin', 'cover', 'cowboycerrone', 'coworker', 'cp', 'cr', 'cracker', 'cramp', 'cranky', 'crap', 'crappy', 'crash', 'crated', 'crave', 'craziness', 'crazy', 'cream', 'create', 'credit', 'crew', 'crewmember', 'criminal', 'crisis', 'cross', 'crowd', 'crowded', 'cruel', 'cruise', 'cry', 'cs', 'csr', 'css', 'ct', 'ctl', 'cuba', 'cue', 'culture', 'cun', 'cup', 'curb', 'curbside', 'curious', 'current', 'currently', 'cushion', 'cust', 'custom', 'customer', 'customerservice', 'custserv', 'cut', 'cute', 'cutting', 'cuz', 'cvg', 'cvgairport', 'cx', 'cxl', 'cxld', 'cycle', 'dad', 'daily', 'dakota', 'dal', 'dalla', 'dallas', 'damage', 'damn', 'dance', 'dancing', 'dang', 'danger', 'dare', 'dark', 'darn', 'date', 'datum', 'daughter', 'david', 'dawn', 'day', 'daytona', 'dc', 'dca', 'de', 'deactivate', 'dead', 'deadhead', 'deal', 'deane', 'dear', 'death', 'debacle', 'debate', 'december', 'decency', 'decent', 'decide', 'decision', 'deck', 'decline', 'deep', 'def', 'defend', 'define', 'definitely', 'degree', 'deice', 'del', 'delay', 'delayed', 'delete', 'delicious', 'deliver', 'delivery', 'delta', 'deltaassist', 'demand', 'demo', 'den', 'denver', 'deny', 'deodorant', 'dep', 'depart', 'department', 'departure', 'depend', 'deplane', 'deplorable', 'dept', 'derrick', 'describe', 'desert', 'deserve', 'design', 'desire', 'desk', 'desktop', 'desperately', 'despite', 'destination', 'destinationdragon', 'destroy', 'detail', 'detroit', 'develop', 'developer', 'development', 'device', 'dfw', 'dfwairport', 'dia', 'diabetic', 'dial', 'dialing', 'dialogue', 'diamond', 'diaper', 'dick', 'die', 'diego', 'diff', 'difference', 'different', 'difficult', 'difficulty', 'digital', 'dim', 'dime', 'dining', 'dinner', 'dinosaur', 'direct', 'directly', 'directtv', 'dirty', 'disabled', 'disappear', 'disappoint', 'disappointed', 'disappointing', 'disappointment', 'disaster', 'disconnect', 'disconnection', 'discount', 'discover', 'discrimination', 'discuss', 'disgrace', 'disgraceful', 'disgruntle', 'disgust', 'disgusted', 'disgusting', 'dislike', 'dismissive', 'disney', 'disorganized', 'dispatch', 'display', 'dispute', 'disregard', 'disrespect', 'disrespectful', 'disrupt', 'disruption', 'dissatisfaction', 'dissatisfied', 'dissatisfy', 'distance', 'distribution', 'div', 'diversion', 'divert', 'dividend', 'dl', 'dm', 'dmd', 'dme', 'dnt', 'dobetter', 'doctor', 'document', 'dog', 'doke', 'doll', 'dollar', 'domestic', 'donate', 'done', 'donkey', 'donut', 'door', 'dot', 'double', 'doubt', 'doubtful', 'doug', 'downgrade', 'downhill', 'download', 'downtown', 'dozen', 'dpt', 'dr', 'dragon', 'dragonss', 'draw', 'dre', 'dread', 'dream', 'dreamliner', 'drink', 'drive', 'driver', 'drop', 'drunk', 'dry', 'dsm', 'dtw', 'dub', 'dude', 'due', 'duffle', 'duh', 'dull', 'dulle', 'dumb', 'dump', 'dupe', 'durango', 'duty', 'eagle', 'early', 'earlybird', 'earn', 'earth', 'earthquake', 'easily', 'east', 'eastern', 'easy', 'eat', 'economy', 'ed', 'edit', 'efficiency', 'efficient', 'effort', 'eh', 'eight', 'either', 'el', 'elderly', 'elevate', 'eligible', 'elite', 'eliz', 'ella', 'ellahenderson', 'elm', 'else', 'elsewhere', 'em', 'email', 'embarrass', 'embarrassed', 'embarrassing', 'embarrassment', 'emboss', 'emerald', 'emergency', 'empathize', 'empathy', 'employee', 'empty', 'en', 'encounter', 'encourage', 'end', 'endless', 'energy', 'enforce', 'engagement', 'engine', 'english', 'enjoy', 'enjoyable', 'enough', 'enquire', 'enroll', 'enroute', 'ensure', 'enter', 'entertain', 'entertaining', 'entertainment', 'entire', 'entirely', 'entitle', 'entrance', 'entry', 'enuf', 'environment', 'ep', 'epic', 'epicfail', 'epicfailunite', 'equal', 'equally', 'equip', 'equipment', 'er', 'eri', 'err', 'error', 'errore', 'es', 'esp', 'especially', 'est', 'establish', 'estimate', 'eta', 'etc', 'ethiopia', 'etihad', 'eu', 'europe', 'evaluate', 'even', 'evening', 'event', 'eventually', 'ever', 'every', 'everybody', 'everyone', 'everything', 'everytime', 'everywhere', 'evry', 'ewr', 'ex', 'exact', 'exactly', 'example', 'excellent', 'except', 'exception', 'exceptional', 'exchange', 'excite', 'excited', 'exclusively', 'excuse', 'exec', 'executive', 'exercise', 'exhausted', 'exist', 'existence', 'existent', 'exit', 'exp', 'expand', 'expect', 'expectation', 'expedia', 'expedite', 'expense', 'expensive', 'experience', 'expiration', 'expire', 'explain', 'explanation', 'explorer', 'express', 'extend', 'extension', 'extra', 'extreme', 'extremely', 'ey', 'eye', 'eyw', 'fa', 'faa', 'faanew', 'fabulous', 'face', 'facebook', 'fact', 'fail', 'failure', 'fair', 'fairly', 'faith', 'fake', 'fall', 'fallow', 'false', 'fam', 'family', 'fan', 'fantastic', 'far', 'fare', 'farecompare', 'fast', 'fat', 'father', 'fault', 'faulty', 'fav', 'fave', 'favorite', 'fax', 'fb', 'fc', 'fe', 'fear', 'feature', 'feb', 'february', 'fece', 'federal', 'fee', 'feed', 'feedback', 'feel', 'feeling', 'fella', 'female', 'fend', 'ferry', 'festival', 'ff', 'ffl', 'fi', 'fiance', 'fiancee', 'field', 'fight', 'figure', 'file', 'fill', 'film', 'filmcrew', 'filmjobnoequipment', 'filthyplane', 'final', 'finally', 'financial', 'find', 'finder', 'fine', 'finger', 'finish', 'fioretti', 'fire', 'first', 'firstclass', 'firstworldproblem', 'fit', 'five', 'fix', 'fl', 'flashlight', 'flat', 'flaw', 'fleek', 'fleet', 'flex', 'flexibility', 'flexible', 'flght', 'flier', 'flierfriendly', 'flight', 'flightation', 'flightaware', 'flightd', 'flighted', 'flighting', 'flightlation', 'flightle', 'flightled', 'flightledflight', 'flightling', 'flightly', 'flightr', 'flightst', 'flip', 'flite', 'fll', 'floor', 'florida', 'flower', 'flt', 'fly', 'flydelta', 'flyer', 'flyerfriendly', 'flyfi', 'flying', 'flyingitforward', 'flyitforward', 'flylaxairport', 'flysaa', 'flysfo', 'flysouthw', 'flyswa', 'flytpa', 'flyunite', 'flyyow', 'focus', 'folder', 'folk', 'follow', 'followback', 'follower', 'food', 'foot', 'force', 'forecast', 'forever', 'forfeit', 'forget', 'forgive', 'form', 'formal', 'formally', 'former', 'formula', 'fort', 'forth', 'fortunately', 'fortunemagazine', 'forward', 'four', 'fr', 'fra', 'fran', 'france', 'franchise', 'francisco', 'frank', 'frankfurt', 'fraud', 'freak', 'free', 'freeze', 'freezing', 'french', 'freq', 'frequent', 'frequentflyer', 'fresh', 'fresno', 'freyabevan', 'freyasfund', 'fri', 'friday', 'friend', 'friendly', 'friendlyskie', 'frigid', 'frm', 'fron', 'front', 'frontier', 'frontrunner', 'frozen', 'frustrate', 'frustrated', 'frustrating', 'frustration', 'ft', 'ftw', 'fuck', 'fucken', 'fucking', 'fuel', 'fuk', 'full', 'fully', 'fun', 'function', 'functionality', 'fund', 'funeral', 'funny', 'furious', 'furrow', 'fustrate', 'future', 'fwiw', 'fyi', 'gain', 'galley', 'game', 'garbage', 'garcia', 'gary', 'gas', 'gate', 'gear', 'gee', 'geez', 'gem', 'general', 'generate', 'generic', 'gent', 'george', 'get', 'getaway', 'getittogether', 'gets', 'gettin', 'getting', 'gf', 'gg', 'gift', 'girl', 'girlfriend', 'give', 'gj', 'glad', 'gladly', 'glass', 'glitch', 'global', 'globe', 'glove', 'gluten', 'gma', 'gmail', 'gng', 'gnv', 'go', 'god', 'gogh', 'gogo', 'goingforgreat', 'goingforgreatnessfail', 'gold', 'golf', 'gon', 'good', 'goodbye', 'goodflight', 'goodness', 'goodwill', 'google', 'gopro', 'gorgeous', 'gosh', 'got', 'gotcha', 'gr', 'grab', 'grand', 'grandfather', 'grandma', 'grant', 'graphic', 'grateful', 'gratitude', 'great', 'greatservice', 'greedy', 'green', 'greenville', 'greet', 'greeting', 'grk', 'gross', 'ground', 'group', 'grow', 'grown', 'grp', 'grr', 'gso', 'gsp', 'guarantee', 'guess', 'guest', 'guidance', 'guide', 'guideline', 'guitar', 'gun', 'gunna', 'guy', 'ha', 'hack', 'hah', 'haha', 'hahaha', 'hail', 'haiti', 'half', 'halfway', 'hand', 'handle', 'handler', 'handling', 'hang', 'hanger', 'hangup', 'happen', 'happily', 'happiness', 'happy', 'harbor', 'hard', 'hardly', 'hardworke', 'hare', 'hartford', 'hashtag', 'hassle', 'hat', 'hate', 'haul', 'havana', 'hawaii', 'hayden', 'hayleymad', 'hdn', 'head', 'headache', 'headphone', 'health', 'hear', 'heart', 'heat', 'heathrow', 'heathrowairport', 'heavily', 'heavy', 'heck', 'helacohlc', 'hell', 'hello', 'help', 'helpful', 'hence', 'hep', 'herman', 'hero', 'hey', 'hi', 'hide', 'high', 'highlight', 'highly', 'hilarious', 'hint', 'hire', 'history', 'hit', 'hmmm', 'hnl', 'ho', 'hold', 'holder', 'holdup', 'hole', 'holiday', 'holy', 'home', 'hometown', 'honest', 'honestly', 'honesty', 'honey', 'honeymoon', 'honolulu', 'honor', 'hook', 'hoop', 'hop', 'hope', 'hopeful', 'hopefully', 'hopeidonotgetsick', 'hopeless', 'horrendous', 'horrible', 'horriblecustomerservice', 'horrid', 'horrific', 'horror', 'hospitality', 'host', 'hostage', 'hot', 'hotel', 'hotline', 'hotmail', 'hotspot', 'hou', 'hour', 'hourdelay', 'house', 'housing', 'houston', 'however', 'hp', 'hpn', 'hr', 'hrl', 'hrs', 'hs', 'hsv', 'https', 'hub', 'hubby', 'hug', 'huge', 'hugely', 'huh', 'human', 'humiliate', 'humor', 'humour', 'hundred', 'hungry', 'hunt', 'huntsville', 'hurry', 'hurt', 'husband', 'huston', 'hv', 'hve', 'hypocrisy', 'iad', 'iah', 'iberia', 'ice', 'iceland', 'icing', 'icy', 'idea', 'ideal', 'identical', 'idiot', 'idk', 'iflyswa', 'ignorant', 'ignore', 'ilc', 'ill', 'illegal', 'imagine', 'imaginedragon', 'immediately', 'imo', 'impact', 'impending', 'important', 'impossible', 'impress', 'impressed', 'impression', 'impressive', 'improve', 'improvement', 'inaccurate', 'inadequate', 'inbound', 'inbox', 'incentive', 'inch', 'incident', 'inclement', 'include', 'income', 'incoming', 'incompetence', 'incompetent', 'inconsiderate', 'inconvenience', 'inconvenient', 'incorrect', 'incorrectly', 'increase', 'incredible', 'incredibly', 'incur', 'ind', 'indeed', 'indianapolis', 'indicate', 'indication', 'individual', 'industry', 'indy', 'inefficient', 'inevitable', 'inexcusable', 'infant', 'inferior', 'inflight', 'info', 'inform', 'information', 'ing', 'initial', 'injure', 'injury', 'innovation', 'inquire', 'insane', 'insanity', 'inside', 'insist', 'inspect', 'inspire', 'instagram', 'instead', 'instruct', 'instrument', 'insult', 'int', 'intact', 'integrate', 'integration', 'intend', 'intention', 'intentionally', 'interaction', 'interest', 'interested', 'interesting', 'interfere', 'interior', 'intern', 'internal', 'international', 'internationally', 'internet', 'internship', 'interview', 'intl', 'invalid', 'invest', 'investigate', 'investor', 'invite', 'invoice', 'involve', 'io', 'ios', 'iowa', 'ipad', 'iphone', 'irresponsible', 'irritate', 'irritated', 'ish', 'isis', 'island', 'issue', 'italy', 'item', 'itin', 'itinerary', 'itunesmusic', 'ivr', 'iwantmymoneyback', 'jac', 'jack', 'jacket', 'jacksonville', 'jacquie', 'jam', 'jamaica', 'jan', 'jane', 'janet', 'january', 'jason', 'jax', 'jayvig', 'jb', 'jblu', 'jeanine', 'jedediahbila', 'jeff', 'jenniferwalshpr', 'jeokoo', 'jerk', 'jet', 'jetbae', 'jetblue', 'jetbluefail', 'jetbluerock', 'jetway', 'jfk', 'jh', 'jimcramer', 'jkf', 'jms', 'joanna', 'job', 'joe', 'john', 'join', 'joke', 'jose', 'journal', 'journey', 'jp', 'jt', 'jtrexsocial', 'juan', 'julie', 'july', 'jump', 'june', 'justify', 'justynmoro', 'jvmchat', 'karen', 'kate', 'kay', 'kc', 'kci', 'kciairport', 'keep', 'kelly', 'kelsey', 'kentuckymbb', 'kevin', 'key', 'kick', 'kid', 'kidding', 'kill', 'kim', 'kind', 'kinda', 'kindle', 'kindness', 'king', 'kiosk', 'kit', 'kitty', 'kn', 'knee', 'know', 'knowledge', 'known', 'knoxville', 'kp', 'kphl', 'ktn', 'kudo', 'kul', 'kylejudah', 'la', 'labor', 'lack', 'lady', 'ladygaga', 'lag', 'laguardia', 'lake', 'lame', 'lan', 'land', 'landing', 'lane', 'lap', 'laptop', 'large', 'larry', 'las', 'last', 'late', 'latime', 'lauderdale', 'laugh', 'lauren', 'lavatory', 'law', 'lax', 'layover', 'lazy', 'lb', 'lbs', 'ld', 'lead', 'leadership', 'league', 'leak', 'learn', 'least', 'leave', 'leaving', 'left', 'leg', 'legal', 'legally', 'legit', 'legitimate', 'legroom', 'lemme', 'less', 'lesson', 'let', 'letdown', 'letsgo', 'letter', 'level', 'lex', 'lexington', 'lfulcbq', 'lga', 'lgb', 'lh', 'lhr', 'license', 'lie', 'life', 'lifetime', 'lift', 'light', 'like', 'likelihood', 'likely', 'lil', 'limit', 'limited', 'lindsey', 'line', 'link', 'lisa', 'list', 'listen', 'lit', 'literally', 'little', 'littlebird', 'live', 'livery', 'livid', 'lmao', 'lmfao', 'lo', 'load', 'loan', 'loc', 'local', 'locate', 'location', 'locator', 'lodge', 'log', 'logan', 'logic', 'login', 'logistic', 'logo', 'lol', 'london', 'lone', 'long', 'look', 'loop', 'loose', 'lord', 'lose', 'loss', 'lost', 'lostluggage', 'lot', 'loud', 'louis', 'louisville', 'lounge', 'lousy', 'love', 'lovejetblue', 'lovely', 'lovesongfriday', 'low', 'lower', 'loyal', 'loyalty', 'lpalumbo', 'lucia', 'luck', 'luckily', 'lucky', 'lufthansa', 'luggage', 'lung', 'luv', 'luvswa', 'luxury', 'maatkare', 'mac', 'machine', 'mad', 'madden', 'madness', 'madrid', 'magazine', 'magic', 'magically', 'maiden', 'mail', 'maimi', 'main', 'maint', 'maintain', 'maintenance', 'major', 'make', 'male', 'malfunction', 'man', 'manage', 'management', 'manager', 'manch', 'manchester', 'mandarinjourney', 'maneuver', 'manner', 'manually', 'many', 'map', 'march', 'mardigra', 'maria', 'marie', 'mark', 'market', 'marketing', 'markie', 'married', 'marry', 'marshal', 'martysg', 'mary', 'maryella', 'mass', 'massive', 'master', 'mastercard', 'match', 'matter', 'max', 'may', 'maybe', 'mayweatherpacquiao', 'mc', 'mce', 'mci', 'mco', 'md', 'mdw', 'meal', 'mean', 'meaning', 'meaningful', 'meantime', 'meanwhile', 'measure', 'mech', 'mechanic', 'mechanical', 'med', 'medal', 'medical', 'medium', 'meelan', 'meet', 'meeting', 'mel', 'mem', 'member', 'membership', 'memo', 'memorial', 'memory', 'memphis', 'mention', 'menu', 'mercy', 'merge', 'merger', 'mess', 'message', 'metal', 'method', 'metro', 'mex', 'mexico', 'mgr', 'mht', 'mi', 'mia', 'miami', 'mid', 'middle', 'middleeast', 'midland', 'midnight', 'midway', 'might', 'mike', 'mile', 'mileage', 'mileageplus', 'miler', 'military', 'million', 'min', 'mind', 'mine', 'minimum', 'minor', 'mint', 'minute', 'miracle', 'miriam', 'mis', 'miserable', 'mislead', 'misplace', 'misplaced', 'miss', 'missing', 'mission', 'mistake', 'misunderstood', 'mitchell', 'mke', 'mn', 'mnl', 'mobile', 'model', 'modification', 'modify', 'mold', 'mom', 'moment', 'momma', 'momsgoodeat', 'mon', 'monday', 'money', 'monitor', 'montego', 'month', 'monthly', 'mood', 'morn', 'morning', 'morrow', 'mos', 'mosaic', 'mostly', 'mother', 'motion', 'mountain', 'mouse', 'move', 'movie', 'mp', 'mph', 'mr', 'ms', 'msg', 'msp', 'msy', 'mt', 'mtg', 'mth', 'much', 'multi', 'multiple', 'murder', 'music', 'musician', 'must', 'mvp', 'myer', 'myrtle', 'na', 'nah', 'name', 'nantucket', 'narita', 'nasdaq', 'nashville', 'nassau', 'nasty', 'national', 'nature', 'nbc', 'nbr', 'nburnside', 'nc', 'nd', 'ndward', 'near', 'nearby', 'nearly', 'necessary', 'necessity', 'need', 'needcoffee', 'neglect', 'negotiate', 'neither', 'neptune', 'nerdbird', 'nervous', 'never', 'neveragain', 'neverflyvirginforbusiness', 'new', 'newark', 'newly', 'neworlean', 'news', 'newyork', 'next', 'nexus', 'nh', 'nice', 'nicely', 'nigga', 'night', 'nightmare', 'ninadavuluri', 'nine', 'nite', 'nitrogen', 'nj', 'njairport', 'nm', 'nobody', 'nocrew', 'nocustomerservice', 'nolove', 'non', 'none', 'nonexistent', 'nonprofit', 'nonsense', 'nonstop', 'noon', 'noooo', 'nope', 'norfolk', 'norm', 'norma', 'normal', 'normally', 'north', 'northeast', 'noservice', 'notch', 'notcool', 'note', 'notgoodenough', 'nothank', 'nothappy', 'nothin', 'nothing', 'notice', 'notification', 'notify', 'notimpresse', 'notmyfault', 'november', 'nowhere', 'nrosenb', 'nrt', 'nt', 'ntrustopen', 'number', 'numerical', 'numerous', 'nut', 'nuts', 'nvr', 'nxt', 'ny', 'nyc', 'nytime', 'oaaret', 'oak', 'oakland', 'obj', 'observe', 'obvious', 'obviously', 'occupy', 'occur', 'oct', 'october', 'odd', 'offer', 'office', 'officer', 'official', 'officially', 'offload', 'often', 'ogg', 'oh', 'ohare', 'ohio', 'ok', 'okay', 'okc', 'old', 'oma', 'omaha', 'omg', 'onboard', 'one', 'oneworld', 'onholdwith', 'online', 'ont', 'ontime', 'onto', 'ooh', 'oop', 'oops', 'op', 'opal', 'open', 'operate', 'operation', 'operational', 'operator', 'opinion', 'opportunity', 'opposite', 'opt', 'option', 'orange', 'orangecounty', 'orbitz', 'ord', 'order', 'oregon', 'orf', 'organization', 'orig', 'origin', 'original', 'originally', 'orl', 'orlando', 'orlean', 'oscar', 'otherwise', 'otis', 'ourprincess', 'outbound', 'outdated', 'outlet', 'outrageous', 'outside', 'outsource', 'outstanding', 'overall', 'overbook', 'overbooke', 'overbooked', 'overcharge', 'overflight', 'overflow', 'overhead', 'overhear', 'overheat', 'overnight', 'overseas', 'oversell', 'overselle', 'oversize', 'oversized', 'overweight', 'overwhelm', 'owe', 'owner', 'oy', 'oz', 'pa', 'pacific', 'pack', 'package', 'pafe', 'page', 'pain', 'painful', 'painless', 'paint', 'pair', 'palm', 'panamerican', 'pandora', 'pant', 'paper', 'paperwork', 'parent', 'paris', 'park', 'parker', 'parking', 'part', 'partial', 'particular', 'particularly', 'partly', 'partner', 'partnership', 'party', 'pass', 'passbook', 'passenger', 'passport', 'password', 'past', 'paste', 'pat', 'patch', 'pathetic', 'patience', 'patient', 'patiently', 'patrick', 'pattern', 'pattonoswalt', 'paulgordonbrown', 'paulo', 'pax', 'pay', 'payment', 'paypal', 'pbi', 'pdx', 'peace', 'peanut', 'peep', 'pen', 'penalty', 'pende', 'people', 'per', 'perfect', 'perfectomobile', 'perform', 'performance', 'perhaps', 'period', 'perk', 'permission', 'person', 'personal', 'personalized', 'personally', 'personnel', 'pet', 'pgatour', 'pgh', 'ph', 'phi', 'phil', 'philadelphia', 'philippine', 'philly', 'phl', 'phlairport', 'phoenix', 'phone', 'photo', 'photography', 'phrase', 'phx', 'physical', 'pia', 'pic', 'pick', 'picture', 'piece', 'pig', 'pile', 'pillow', 'pilot', 'pin', 'ping', 'pink', 'piss', 'pissed', 'pit', 'pita', 'pitt', 'pittsburgh', 'pity', 'pj', 'pjs', 'place', 'plague', 'plain', 'plan', 'plane', 'planet', 'planning', 'plastic', 'plat', 'platinum', 'play', 'playa', 'player', 'playlist', 'plead', 'pleasant', 'pleasantly', 'please', 'pleasecomeback', 'pleased', 'pleaseeeeee', 'pleasegod', 'pleasehelp', 'pleasure', 'pleeeease', 'pleeeeease', 'plenty', 'plitt', 'pln', 'plot', 'plough', 'plow', 'pls', 'plse', 'plt', 'plug', 'plus', 'plz', 'pm', 'pn', 'poc', 'pocket', 'point', 'pointer', 'pointy', 'poisoning', 'poisonpill', 'poker', 'pole', 'police', 'policy', 'politely', 'pooch', 'pool', 'pooling', 'poop', 'poor', 'poorcustomerservice', 'poorcustumerservice', 'poorform', 'poorly', 'poorlyhandle', 'poorplanne', 'poorservice', 'pop', 'popular', 'populate', 'porde', 'porn', 'port', 'portable', 'portal', 'portcolumbuscmh', 'portfolio', 'portion', 'portland', 'portlandjetport', 'portsmouth', 'pos', 'position', 'positive', 'possession', 'possiable', 'possibility', 'possible', 'possibly', 'post', 'postpone', 'postsecret', 'potable', 'poteettj', 'potential', 'potentially', 'poughkeepsie', 'pound', 'pout', 'powder', 'power', 'ppl', 'pple', 'pqd', 'pqds', 'pqm', 'pqms', 'pr', 'practical', 'practice', 'praise', 'pray', 'praywinn', 'prchase', 'pre', 'preboard', 'preboarde', 'prebook', 'prebooke', 'precheck', 'prechk', 'preciate', 'preciation', 'precious', 'precioustime', 'precipitation', 'preclude', 'predict', 'predictive', 'preemptive', 'preexisting', 'pref', 'prefer', 'preferably', 'preference', 'preferred', 'prefference', 'preflight', 'prefundia', 'pregame', 'preggo', 'pregnant', 'pregnantwithtwin', 'prem', 'premier', 'premiere', 'premium', 'preparation', 'prepare', 'preparedness', 'prerecord', 'preregistration', 'present', 'presentation', 'president', 'presidential', 'press', 'pressure', 'pressurecooker', 'pressurization', 'presumably', 'pretend', 'pretty', 'prettyplease', 'pretzel', 'prev', 'prevent', 'preventable', 'preventative', 'prevention', 'previous', 'previously', 'price', 'pricediscrimination', 'priceless', 'priceline', 'pricewise', 'pricey', 'pricing', 'pride', 'prime', 'prince', 'princess', 'princesshalf', 'principle', 'print', 'printer', 'prior', 'prioritize', 'priority', 'prison', 'priv', 'private', 'privilege', 'prize', 'prn', 'pro', 'proactive', 'proactively', 'prob', 'probability', 'probably', 'problem', 'problemss', 'probls', 'procedure', 'proceed', 'process', 'product', 'prof', 'professional', 'professorpaul', 'profile', 'profit', 'profitability', 'profitable', 'profitbeforepeople', 'profiting', 'program', 'programmer', 'programming', 'progress', 'prohibit', 'project', 'prolly', 'prom', 'promise', 'promo', 'promos', 'promote', 'promotion', 'prompt', 'promptly', 'proof', 'prop', 'proper', 'properly', 'property', 'proposition', 'prospective', 'protect', 'protection', 'protest', 'protocol', 'proud', 'prove', 'provide', 'providence', 'providenciale', 'provider', 'provo', 'ps', 'pseudo', 'psgrs', 'psngrs', 'psp', 'pssgrs', 'pssngrs', 'pst', 'psych', 'psychological', 'pt', 'pto', 'pty', 'pu', 'public', 'publicly', 'puerto', 'puj', 'pull', 'pulse', 'pummel', 'pump', 'punish', 'punishedforflye', 'punta', 'puppy', 'pura', 'purchase', 'pure', 'purely', 'purpose', 'push', 'pushback', 'put', 'pv', 'pvd', 'pvg', 'pvr', 'pwm', 'qc', 'qlyss', 'qro', 'qs', 'qsvgru', 'quadruple', 'qualify', 'quality', 'quanta', 'quarter', 'que', 'question', 'queue', 'quiche', 'quick', 'quickie', 'quickly', 'quiet', 'quintana', 'quit', 'quite', 'quito', 'quote', 'qyezhjgsb', 'race', 'rachel', 'rachelle', 'racist', 'rack', 'rad', 'radio', 'raeann', 'rag', 'ragandisney', 'rage', 'rain', 'rainy', 'raise', 'rajuchinthala', 'raleigh', 'ram', 'ramada', 'ramp', 'ramper', 'random', 'randomactsofcorporategree', 'randomly', 'range', 'rank', 'rant', 'rap', 'rapid', 'rapidly', 'rapidreward', 'rare', 'rarely', 'ratchet', 'rate', 'rather', 'rating', 'ray', 'razor', 'rcd', 'rcvd', 'rd', 'rdu', 'reaccommodation', 'reach', 'reachingnewlow', 'react', 'reaction', 'reactivate', 'reactive', 'read', 'readde', 'reader', 'readily', 'ready', 'reagan', 'real', 'realise', 'realistic', 'realistically', 'reality', 'realize', 'really', 'reallytallchris', 'realtime', 'rearrange', 'reason', 'reasonable', 'reasonably', 'reassign', 'reativation', 'reboarde', 'rebook', 'rebooke', 'rebooked', 'reboot', 'rebuild', 'rec', 'recap', 'reccewife', 'receipt', 'receive', 'recent', 'recently', 'recharge', 'recheck', 'rechecke', 'recieve', 'reciprocate', 'reclaim', 'recline', 'recognition', 'recognize', 'recommend', 'recommendation', 'reconsider', 'record', 'recording', 'recoup', 'recourse', 'recover', 'recovery', 'recruit', 'recruiter', 'rectify', 'recvd', 'recycle', 'red', 'redcarpet', 'reddit', 'redeem', 'redemption', 'redesign', 'redirect', 'redo', 'redreserve', 'redsox', 'reduce', 'redwineisbetter', 'reebok', 'reek', 'ref', 'refer', 'reference', 'reflect', 'reflection', 'reflight', 'reform', 'refrain', 'refresh', 'refreshing', 'refsd', 'refuel', 'refueling', 'refund', 'refundable', 'refunded', 'refundprocedurenottoopainful', 'refurbish', 'refuse', 'regard', 'regardless', 'regional', 'register', 'registration', 'regrade', 'regret', 'regular', 'regularly', 'regulation', 'rehman', 'reign', 'reimburse', 'reimbursement', 'reinforcement', 'reinstate', 'reinvest', 'reissue', 'reiterate', 'reject', 'relate', 'relation', 'relationship', 'relative', 'relax', 'relay', 'release', 'relevant', 'reliability', 'reliable', 'relief', 'relieved', 'reload', 'rely', 'remain', 'remark', 'remedy', 'remember', 'remind', 'reminder', 'remorse', 'remote', 'remotely', 'removal', 'remove', 'renhotel', 'reno', 'renoairport', 'rent', 'rental', 'reopen', 'rep', 'repaint', 'repair', 'repartee', 'repay', 'repeat', 'repeatably', 'repeatedly', 'replace', 'replacement', 'replicate', 'reply', 'report', 'reposte', 'reprehensible', 'represent', 'representative', 'reproach', 'republic', 'republican', 'reputation', 'req', 'request', 'require', 'requirement', 'reroute', 'res', 'resch', 'resche', 'reschedule', 'rescheduled', 'rescheduling', 'rescue', 'research', 'reseat', 'resend', 'resent', 'reserv', 'reservation', 'reserve', 'reserved', 'reset', 'reside', 'reso', 'resole', 'resolution', 'resolve', 'resort', 'resource', 'respect', 'respectful', 'respond', 'response', 'responsibility', 'responsible', 'responsive', 'responsiveness', 'ressie', 'rest', 'restate', 'restless', 'restore', 'restr', 'restriction', 'restrm', 'restroom', 'restructure', 'result', 'resume', 'retailbagholder', 'retailer', 'retain', 'retard', 'rethink', 'retire', 'retook', 'retract', 'retrain', 'retribution', 'retrieve', 'retrn', 'retroactively', 'rett', 'return', 'retweet', 'retweete', 'reunion', 'reunite', 'reveal', 'revenue', 'reverse', 'revert', 'review', 'revisit', 'revive', 'revs', 'revue', 'reward', 'rez', 'rhonda', 'rhz', 'ri', 'ric', 'rica', 'ricardo', 'richard', 'rick', 'rico', 'ricoh', 'rid', 'ride', 'ridiculous', 'rifle', 'right', 'rikrik', 'rim', 'ring', 'rip', 'ripme', 'ripoff', 'rise', 'risk', 'rita', 'ritacomo', 'rito', 'ritz', 'rival', 'rizzilient', 'rldelahunty', 'rly', 'rmoug', 'rmpkogwu', 'rn', 'rncahill', 'rnd', 'rndtrp', 'rno', 'rnp', 'road', 'roadtrip', 'roadwarrior', 'roanoke', 'roast', 'rob', 'robbogart', 'robcnyc', 'robert', 'robertdwyer', 'robertfor', 'robin', 'robinreda', 'robinson', 'robocall', 'robot', 'robotic', 'robprice', 'robthecameraman', 'robyn', 'roc', 'rock', 'rockie', 'rockingthetweet', 'rockinwellness', 'rockstar', 'rocky', 'rodeo', 'roe', 'roger', 'role', 'roll', 'rollerboard', 'rollercoaster', 'rolling', 'roo', 'rookie', 'room', 'rotten', 'rough', 'round', 'roundtrip', 'route', 'router', 'routine', 'routing', 'row', 'roxydigital', 'royal', 'royally', 'rozana', 'rps', 'rqc', 'rqstd', 'rr', 'rs', 'rsw', 'rt', 'rtrn', 'rtw', 'rub', 'rubber', 'rubbish', 'rude', 'rudely', 'rudeness', 'rudeservice', 'rudest', 'ruin', 'ruiningmy', 'rule', 'rulesshouldbend', 'rum', 'rumor', 'run', 'runaround', 'rundisney', 'runner', 'running', 'runningonthreehoursofsleep', 'runway', 'rush', 'russ', 'russellswrite', 'russia', 'rwrd', 'rx', 'ryand', 'rylietolbert', 'sa', 'sabe', 'sabre', 'sac', 'sacintlairport', 'sacramento', 'sad', 'sadden', 'saddening', 'sadie', 'sadly', 'safari', 'safe', 'safely', 'safety', 'safetyconcern', 'safetyfirst', 'saga', 'sagerooski', 'saharasam', 'saianel', 'saidi', 'sail', 'sailor', 'saipan', 'sal', 'salad', 'sale', 'salem', 'salisbury', 'sally', 'salt', 'salvage', 'sam', 'samantha', 'samartzi', 'samchampion', 'sample', 'samsonite', 'san', 'sand', 'sandiego', 'sandra', 'sandwich', 'sanfrancisco', 'sanitize', 'sanitizer', 'sanity', 'santa', 'sao', 'sapphire', 'sarcasm', 'sat', 'satisfaction', 'saturday', 'sauce', 'savannah', 'save', 'saver', 'saving', 'say', 'sb', 'sc', 'scale', 'scam', 'scan', 'scared', 'scatter', 'scavenger', 'scenario', 'scene', 'sch', 'sche', 'schedule', 'scheduling', 'scheme', 'school', 'science', 'scream', 'screen', 'screening', 'screw', 'sd', 'sdf', 'sea', 'sean', 'search', 'season', 'seat', 'seatac', 'seatbelt', 'seating', 'seattle', 'sec', 'second', 'section', 'secure', 'security', 'sedholm', 'see', 'seek', 'seem', 'seg', 'segment', 'select', 'selection', 'self', 'selfie', 'sell', 'send', 'senior', 'sense', 'senseless', 'sensitive', 'sentiment', 'sep', 'separate', 'separately', 'sept', 'september', 'series', 'serious', 'seriously', 'serv', 'serve', 'service', 'servicefail', 'set', 'settle', 'seven', 'several', 'severe', 'severely', 'sexual', 'sexy', 'sf', 'sfo', 'shade', 'shady', 'shake', 'shall', 'shame', 'shameful', 'shameonyou', 'shampoo', 'shannon', 'share', 'shawn', 'shift', 'ship', 'shirt', 'shit', 'shitty', 'shld', 'shock', 'shocked', 'shoddy', 'shoe', 'shopping', 'short', 'shortcoming', 'shortly', 'shot', 'shoulder', 'shouldhaveflowndelta', 'shout', 'shoutout', 'show', 'shrug', 'shuffle', 'shut', 'shuttle', 'shv', 'sick', 'side', 'sigh', 'sight', 'sign', 'signal', 'significant', 'silence', 'silly', 'silver', 'silverairway', 'similar', 'simple', 'simply', 'since', 'sincere', 'sincerely', 'sing', 'singe', 'singer', 'single', 'sink', 'sinus', 'siouxfall', 'sir', 'sis', 'sister', 'sit', 'site', 'siteit', 'sitter', 'sittin', 'sitting', 'sittingontheplane', 'situation', 'six', 'size', 'sized', 'sizer', 'sj', 'sjc', 'sjd', 'sjo', 'sju', 'skateboard', 'ske', 'sked', 'ski', 'skift', 'skiing', 'skill', 'skilled', 'skin', 'skip', 'skipper', 'sky', 'skycap', 'skys', 'skyscanner', 'skytrax', 'slacksoft', 'slap', 'slapintheface', 'slash', 'slaughter', 'slc', 'slcairport', 'sld', 'sledge', 'sleekmoney', 'sleep', 'sleepless', 'sleet', 'slew', 'slide', 'slight', 'slightly', 'slime', 'slip', 'sliver', 'slog', 'sloooooow', 'sloooowresponse', 'slope', 'sloppy', 'slow', 'slowdown', 'slowly', 'slowness', 'sm', 'sma', 'small', 'smart', 'smash', 'smell', 'smelly', 'smf', 'smfh', 'smh', 'smile', 'smisek', 'smitten', 'smm', 'smoke', 'smooooth', 'smooth', 'smoothflight', 'smoothie', 'smoothly', 'smoothtransition', 'smth', 'smugsmirk', 'smusportmgt', 'smybag', 'sna', 'snack', 'snag', 'snapchat', 'sneak', 'sneaky', 'sneverstoppe', 'snobby', 'snoop', 'snow', 'snowball', 'snowboard', 'snowbound', 'snowfall', 'snowforce', 'snowstorm', 'snowwillnevermelt', 'snowy', 'soak', 'sob', 'sobewff', 'soc', 'social', 'socialtantrum', 'sock', 'sodone', 'soft', 'software', 'solid', 'solo', 'solution', 'solve', 'somebody', 'somehow', 'someone', 'something', 'sometime', 'sometimes', 'somewhat', 'somewhere', 'son', 'song', 'soon', 'soooo', 'sop', 'sorry', 'sorrynotsorry', 'sort', 'sorta', 'sos', 'sound', 'sour', 'south', 'southern', 'southw', 'southwest', 'southwestair', 'southwestairline', 'space', 'spaced', 'spagnuolo', 'spam', 'spanish', 'spare', 'speak', 'spec', 'special', 'specialist', 'specialolympic', 'specific', 'specifically', 'specify', 'spectacular', 'speed', 'speedy', 'spell', 'spelling', 'spend', 'spending', 'spf', 'spiced', 'spill', 'spin', 'spirit', 'spiritairline', 'spiritairpr', 'spirited', 'spite', 'split', 'splitting', 'spoil', 'sponsor', 'sponsorship', 'spontaneously', 'spook', 'spooky', 'sporadically', 'sport', 'sportsbiz', 'spot', 'spotify', 'spotty', 'spousal', 'sprawl', 'spread', 'spreadtheword', 'spring', 'sprinkle', 'sprint', 'spruce', 'spvsr', 'square', 'squashed', 'squawk', 'squish', 'sre', 'srq', 'srsly', 'srv', 'srvc', 'st', 'stable', 'stacey', 'stacy', 'stacycrossb', 'staduim', 'staff', 'staffer', 'stair', 'stall', 'stand', 'standard', 'standby', 'standbye', 'standing', 'star', 'staralliance', 'starbuck', 'stare', 'start', 'starve', 'stat', 'state', 'statement', 'station', 'status', 'stay', 'steal', 'steamboat', 'steel', 'stellar', 'step', 'stewardess', 'sti', 'stick', 'sticker', 'still', 'stillnobag', 'stillwaite', 'stink', 'stl', 'stndby', 'stock', 'stocker', 'stoke', 'stone', 'stop', 'store', 'storm', 'story', 'stow', 'straight', 'straighten', 'strand', 'strange', 'stranger', 'strategy', 'streaming', 'street', 'stress', 'stressful', 'stretch', 'strike', 'strip', 'strive', 'stroller', 'strong', 'strongly', 'struggle', 'stt', 'stuck', 'student', 'stuff', 'stun', 'stupid', 'style', 'submit', 'subpar', 'success', 'suck', 'sudden', 'suffer', 'suggest', 'suggestion', 'suicide', 'suit', 'suitcase', 'summer', 'sun', 'sunday', 'sunglass', 'sunny', 'sunrise', 'sunset', 'sunshine', 'super', 'superior', 'supervisor', 'superyan', 'supply', 'support', 'suppose', 'supposedly', 'sure', 'surely', 'surgery', 'surly', 'surprise', 'surprised', 'survey', 'survive', 'suspect', 'svc', 'sw', 'swa', 'swadiversity', 'swag', 'swap', 'swear', 'sweet', 'sweetheart', 'sweetingr', 'switch', 'sxm', 'sydney', 'sylvie', 'sympathetic', 'sympathy', 'syracuse', 'sys', 'system', 'ta', 'tab', 'table', 'tablet', 'tag', 'tail', 'tailwind', 'take', 'takeoff', 'talent', 'talk', 'tamara', 'tammy', 'tampa', 'tank', 'tape', 'target', 'tarmac', 'tarmack', 'taste', 'tatianake', 'tax', 'taxi', 'taylor', 'tb', 'tcf', 'te', 'tea', 'teach', 'team', 'tear', 'tech', 'technical', 'technically', 'technology', 'teen', 'tel', 'telephone', 'television', 'tell', 'temp', 'temperature', 'ten', 'term', 'terminal', 'terrible', 'terribleservice', 'terribly', 'terrific', 'terry', 'test', 'texas', 'text', 'texte', 'tfw', 'th', 'thank', 'thankful', 'thankfully', 'thanks', 'thankyou', 'thanx', 'theacademy', 'theellenshow', 'theft', 'thenationaluae', 'thenewamerican', 'therefore', 'thewayoftheid', 'theworst', 'thick', 'thin', 'thing', 'think', 'thinking', 'third', 'thirty', 'thnx', 'tho', 'thoma', 'though', 'thought', 'thousand', 'thparty', 'thread', 'threaten', 'three', 'throughout', 'throw', 'thru', 'thur', 'thursday', 'thus', 'thx', 'tick', 'ticket', 'tide', 'tight', 'til', 'till', 'time', 'timely', 'tiny', 'tip', 'tire', 'tired', 'tiredofwaite', 'tisk', 'tix', 'tixs', 'tjtmo', 'tjycqh', 'tk', 'tke', 'tks', 'tkt', 'tkts', 'tkvmhbkec', 'tlc', 'tld', 'tlh', 'tmm', 'tmr', 'tmrw', 'tmw', 'tnx', 'toby', 'tock', 'today', 'toddler', 'together', 'toilet', 'toiletry', 'tok', 'token', 'tokyo', 'told', 'toledo', 'tolerable', 'toll', 'tollfree', 'tom', 'tomorrow', 'tomrw', 'ton', 'tone', 'tonic', 'tonight', 'tonite', 'tonne', 'tonysimsmma', 'tool', 'toolittletoolate', 'tooooo', 'toothpaste', 'top', 'toplay', 'topnew', 'topping', 'tori', 'toronto', 'torture', 'tortured', 'tos', 'toss', 'total', 'totalfail', 'totally', 'totallyconfuse', 'touch', 'touchdown', 'touching', 'tough', 'toughtomakeplan', 'tour', 'tourist', 'toward', 'towards', 'tower', 'town', 'toyingwithouremotion', 'tpa', 'tpallini', 'trace', 'track', 'tracker', 'tracking', 'trade', 'trading', 'tradition', 'traditionally', 'traffic', 'train', 'training', 'transaction', 'transactional', 'transatlantic', 'transcontinental', 'transfer', 'transferable', 'transit', 'transition', 'translation', 'transparency', 'transparent', 'transport', 'transportation', 'trap', 'trappedhouston', 'trash', 'travel', 'travelbank', 'traveler', 'travelfail', 'travelhelp', 'travelingwithsmallkid', 'traveller', 'travelocity', 'traveloneworld', 'travelproblem', 'travelpulse', 'travelzoo', 'travi', 'travisamex', 'tray', 'treasure', 'treat', 'treatment', 'tree', 'treenut', 'tremendous', 'tremendously', 'triage', 'trial', 'tribute', 'trick', 'trickle', 'triflight', 'trip', 'tripitpro', 'tripofalifetime', 'trite', 'trivia', 'trivialize', 'trk', 'tropic', 'troubadour', 'trouble', 'troubleshoot', 'troy', 'tru', 'truck', 'true', 'trueblue', 'truebluecolor', 'truebluelove', 'truebluemember', 'truebluepoint', 'truly', 'trump', 'trust', 'truth', 'truthful', 'trv', 'trvl', 'try', 'tryin', 'tryn', 'tryna', 'ts', 'tsa', 'tsaprecheck', 'tsk', 'ttg', 'tuck', 'tucson', 'tue', 'tuesday', 'tuftsenergyconf', 'tulsa', 'tumitravel', 'tune', 'turbulence', 'turkish', 'turn', 'turnaround', 'turrible', 'tus', 'tux', 'tv', 'tvs', 'tweak', 'tweet', 'tweetin', 'twelve', 'twenty', 'twice', 'twiiter', 'twin', 'twist', 'twitter', 'twitterhug', 'two', 'twtr', 'tx', 'txfd', 'txt', 'txte', 'ty', 'type', 'typical', 'typically', 'typo', 'tyr', 'tys', 'tysvm', 'tyvm', 'ua', 'ual', 'ubetter', 'uctraveladvisor', 'ucvnilmb', 'ud', 'udub', 'ugh', 'uh', 'uhuh', 'uk', 'ultimately', 'um', 'umm', 'umosaicmecrazy', 'un', 'unable', 'unacceptable', 'unaccomidate', 'unaccompanied', 'unaccounte', 'unamerican', 'unanswered', 'unansweredquestion', 'unanticipated', 'unapologetic', 'unavailable', 'unavoidable', 'unaware', 'unbalanced', 'unbelievable', 'unbelievably', 'uncalled', 'uncaring', 'uncertainty', 'uncharacteristic', 'uncle', 'uncomfortable', 'uncompromise', 'unconscionable', 'uncontrollable', 'uncontrollably', 'uncool', 'uncvsduke', 'und', 'undefined', 'undergo', 'undermine', 'underserved', 'understaffe', 'understaffed', 'understaffing', 'understand', 'understandable', 'understandably', 'understanding', 'understatement', 'underweight', 'undetermined', 'undie', 'undignified', 'undo', 'undrstnd', 'undue', 'unemployment', 'unexpactable', 'unexpected', 'unexplained', 'unfair', 'unfamiliar', 'unfold', 'unfollowe', 'unforeseeable', 'unfortunate', 'unfortunately', 'unfriendly', 'unfriendlyskie', 'unhappy', 'unhappycustomer', 'unhappytraveler', 'unheard', 'unhelpful', 'unhelpfulness', 'uniform', 'uninformed', 'unite', 'united', 'unitedagainstunited', 'unitedairline', 'unitedairlinessuck', 'unitedairlinessux', 'unitedappeal', 'unitedbreaksguitar', 'unitedfail', 'unitedfirst', 'unitedflightsever', 'unitedflyerhd', 'unitedhatesusall', 'unitedsuck', 'unitedsucksdick', 'unitedvusa', 'unitedwithivy', 'unitedworstever', 'universalorl', 'university', 'unknowledgeable', 'unknown', 'unless', 'unlike', 'unlikely', 'unload', 'unlucky', 'unmanned', 'unmet', 'unmonitored', 'unmove', 'unnecessarily', 'unnecessary', 'unnoticed', 'uno', 'unorganized', 'unplanned', 'unpleasant', 'unplease', 'unprecedented', 'unpredictable', 'unprepared', 'unproductive', 'unprofessional', 'unprofessionally', 'unreal', 'unreasonable', 'unrelate', 'unreliable', 'unrivalle', 'unsafe', 'unsat', 'unscheduled', 'unsecured', 'unserved', 'unsettling', 'unspecified', 'unsuccessful', 'unsuitable', 'unsure', 'unsympathetic', 'unt', 'untd', 'untrue', 'untruthful', 'untz', 'unusable', 'unused', 'unusual', 'unveil', 'unwilling', 'unwise', 'upc', 'upcoming', 'update', 'upgd', 'upgrade', 'upgrademe', 'uphold', 'uplink', 'upload', 'upon', 'uppp', 'upset', 'upsetting', 'upstate', 'upwherewebelong', 'ur', 'urge', 'urgency', 'urgent', 'urgently', 'urself', 'usa', 'usable', 'usage', 'usair', 'usaireay', 'usairhead', 'usairsuck', 'usairway', 'usairways', 'usairwayscenter', 'usairwaysfail', 'usairwaysfailscustomer', 'usairwaysfflyer', 'usairwaysmobile', 'usairwayssuck', 'usaiway', 'usatoday', 'usaw', 'usb', 'usdelay', 'use', 'useful', 'usele', 'useless', 'user', 'username', 'usnavy', 'usual', 'usually', 'usurious', 'usxlon', 'utah', 'utdalla', 'ute', 'utevgw', 'utmost', 'utterly', 'uvf', 'uw', 'uwon', 'ux', 'uxzj', 'va', 'vabeatsjblue', 'vaca', 'vacate', 'vacatime', 'vacation', 'vacationfail', 'vacay', 'vague', 'vail', 'vainglorygame', 'valentine', 'valentinesday', 'valid', 'validity', 'vallarta', 'valley', 'valuable', 'value', 'van', 'vancouver', 'vanessaannz', 'vanish', 'vanity', 'vape', 'various', 'vary', 'vastly', 'vbrq', 'vc', 'vcp', 'vday', 'vebeen', 'veer', 'veg', 'vegan', 'vegas', 'vegetarian', 'veggie', 'vein', 'velcro', 'velour', 'velourlive', 'venezuela', 'vent', 'ventilation', 'venture', 'verbiage', 'verification', 'verify', 'verizonwireless', 'vermont', 'versa', 'versace', 'version', 'versus', 'veryloyalcustomer', 'vet', 'veteran', 'vetr', 'via', 'viable', 'vibe', 'vibrant', 'vice', 'vicky', 'victim', 'vida', 'video', 'vieg', 'vieque', 'view', 'vigil', 'vile', 'village', 'vincenzolandino', 'vincesview', 'vindictive', 'vineyard', 'vino', 'vinyl', 'vinylvegas', 'violation', 'vip', 'vipliveinthevieyard', 'vipswagbag', 'viraltech', 'virgin', 'virginamerica', 'virginatlantic', 'virginia', 'virginmedia', 'virtual', 'visa', 'visible', 'visibly', 'vision', 'visit', 'visor', 'visualclubconcept', 'vital', 'vm', 'vmsg', 'vnmb', 'vocab', 'voice', 'voicemail', 'void', 'volkswagen', 'volt', 'volume', 'voluntarily', 'volunteer', 'vomit', 'vote', 'voucher', 'vow', 'vp', 'vrm', 'vs', 'vsffrd', 'vuelo', 'vulnerable', 'vx', 'vxsafetydance', 'vyil', 'wa', 'waa', 'wack', 'wage', 'wager', 'wail', 'wait', 'waitin', 'waiting', 'waitingagain', 'waitingforbag', 'waitinginphilly', 'waitingonapilot', 'waive', 'waiver', 'waivethefee', 'wake', 'wakinginmemphis', 'walk', 'walkway', 'wall', 'wallet', 'wallstreet', 'wallstslumlord', 'waltdisneyworld', 'walton', 'wamo', 'wander', 'wanna', 'wannaa', 'wannagohome', 'want', 'wantcharge', 'wantmymoneyback', 'ward', 'warehouse', 'warm', 'warmth', 'warn', 'warning', 'warrant', 'warrior', 'washington', 'wasila', 'waste', 'wastedeffort', 'wastedtime', 'wasteoftime', 'wat', 'watch', 'watching', 'wate', 'water', 'waterbury', 'watson', 'wave', 'way', 'wayne', 'wd', 'wdw', 'weak', 'weakservice', 'weaktea', 'wear', 'weary', 'weasel', 'weather', 'weatherless', 'weave', 'web', 'webbernatural', 'weblink', 'webs', 'website', 'wed', 'wedding', 'wednesday', 'wedontcarebecauseyoupaidalready', 'week', 'weekday', 'weekend', 'weeklycommuteonaa', 'weigh', 'weight', 'weird', 'welcome', 'welfare', 'well', 'welldone', 'wellplaye', 'welp', 'wemosaictogether', 'wen', 'wendell', 'wendi', 'wentook', 'werenot', 'werenotincalianymore', 'werin', 'wernicke', 'west', 'westchester', 'western', 'westjet', 'westpalmbeachbound', 'wet', 'wether', 'wewantcomp', 'wewanttoknow', 'wewillsee', 'weyburn', 'whack', 'whammie', 'whatacluster', 'whatajoke', 'whatever', 'whatfrozenpipe', 'whatgive', 'whatsoever', 'whatstheholdup', 'whch', 'wheel', 'wheelchair', 'wheelchairs', 'wheelsup', 'wheeze', 'whenever', 'whenitsnowsitpour', 'whereas', 'whereismybag', 'whereisthelove', 'wheresmyrefund', 'wheresthecustomerserviceat', 'wheresthepilot', 'whether', 'whichever', 'whichisworsedenordfw', 'whilst', 'whip', 'whiplash', 'whiskey', 'whisper', 'white', 'whitterbug', 'whoa', 'whoever', 'whole', 'wholly', 'whoooo', 'whoot', 'whose', 'whrsthecoach', 'wht', 'whyabcwhy', 'whyairtravelsuck', 'whyareyouyelle', 'whybeaaff', 'whydidntiflysouthwest', 'whyfly', 'whyisusairalwaysdelaye', 'whyjeff', 'whyyounoloveme', 'whyyy', 'wi', 'wichita', 'wide', 'wife', 'wifey', 'wifi', 'wifiless', 'wikipearl', 'wilco', 'william', 'willie', 'willing', 'wilmington', 'wilson', 'win', 'wind', 'windchill', 'window', 'wine', 'wing', 'wink', 'winkwink', 'winner', 'winnipeg', 'winston', 'winter', 'winterop', 'winterstorm', 'winterweather', 'winwin', 'wipe', 'wire', 'wireless', 'wise', 'wiser', 'wish', 'wishmyflightwaslonger', 'wit', 'within', 'without', 'witness', 'witty', 'wiyh', 'wk', 'wknd', 'wkrb', 'wks', 'wlcm', 'wld', 'wmcactionnew', 'wmn', 'wn', 'wnqvm', 'wo', 'woase', 'woaw', 'woeful', 'woman', 'wonder', 'wonderful', 'wonderfully', 'wong', 'wonke', 'woo', 'woodland', 'woof', 'woohoo', 'word', 'work', 'workaround', 'worker', 'working', 'workout', 'worksnicely', 'world', 'worldwide', 'worried', 'worrisome', 'worry', 'worse', 'worst', 'worstairline', 'worstairlineever', 'worstairlineinamerica', 'worstcustomerservice', 'worstcustomerserviceever', 'worstever', 'worstflight', 'worstflightever', 'worstthingever', 'worsttraveldayever', 'worsttripofmylife', 'worth', 'worthless', 'worthy', 'would', 'woulda', 'wouldt', 'wound', 'wow', 'wpg', 'wrap', 'wrath', 'wreck', 'wrench', 'wrestle', 'write', 'wrong', 'wrongansw', 'wrongfully', 'wrongiswrong', 'ws', 'wsj', 'wsjplus', 'wtf', 'wtfodd', 'wth', 'wtop', 'wtw', 'wudda', 'wut', 'wwr', 'wx', 'wylie', 'wyome', 'xaowkv', 'xb', 'xd', 'xdaily', 'xgfs', 'xjare', 'xklrog', 'xld', 'xmas', 'xna', 'xox', 'xoxo', 'xt', 'xweekly', 'xx', 'xxx', 'xzmscw', 'ya', 'yaayy', 'yard', 'yasss', 'yay', 'yayayay', 'yb', 'ybv', 'yday', 'yea', 'yeah', 'year', 'yearly', 'yearslate', 'yeehaw', 'yeg', 'yell', 'yellow', 'yep', 'yepuse', 'yer', 'yes', 'yeseniahernandez', 'yessir', 'yest', 'yesterday', 'yet', 'yhz', 'yike', 'yo', 'yoga', 'yogurt', 'york', 'youareonyourown', 'youdidit', 'young', 'youragentshavenoclue', 'yourairlinesuck', 'youredoingitwrong', 'youretheworst', 'yourlocalnyer', 'yourock', 'yourphonesystemsuck', 'yousuck', 'yout', 'youth', 'yow', 'yr', 'yrs', 'ystday', 'ystrdy', 'yucki', 'yul', 'yuma', 'yup', 'yvonne', 'yvonneokaka', 'yvr', 'yxe', 'yxu', 'yyc', 'yyj', 'yyz', 'yyzua', 'yzxfe', 'za', 'zack', 'zakkohane', 'zero', 'zfv', 'zgoqoxjbqy', 'zip', 'zkatcher', 'zombie', 'zone', 'zoom', 'zrh', 'zuke', 'zurich']\n"
     ]
    }
   ],
   "source": [
    "# Take a look at the words in the vocabulary\n",
    "vocab = count_vectorizer.get_feature_names()\n",
    "print (vocab)"
   ]
  },
  {
   "cell_type": "code",
   "execution_count": 124,
   "metadata": {},
   "outputs": [
    {
     "name": "stdout",
     "output_type": "stream",
     "text": [
      "['aa', 'aaadvantage', 'aacustomerservice', 'aadavantage', 'aadelay', 'aadv', 'aadvantage', 'aafail', 'aal', 'aaron', 'aarp', 'aay', 'ab', 'abandon', 'abandonment', 'abc', 'abcnetwork', 'ability', 'able', 'aboard', 'abq', 'abroad', 'absolute', 'absolutely', 'absurd', 'abt', 'abuse', 'abysmal', 'ac', 'accept', 'acceptable', 'access', 'accident', 'accidentally', 'accommodate', 'accommodation', 'accomplish', 'accord', 'accordingly', 'account', 'accountability', 'acct', 'accurate', 'acknowledge', 'acknowledgment', 'acquire', 'acquisition', 'across', 'act', 'action', 'activate', 'active', 'actively', 'activity', 'actual', 'actually', 'actualy', 'acu', 'ad', 'ada', 'adam', 'adapt', 'add', 'addair', 'addition', 'additional', 'additionally', 'additonal', 'addl', 'addr', 'address', 'addtl', 'adjacent', 'adjustment', 'admin', 'admiral', 'admit', 'adolfo', 'adopt', 'adore', 'adult', 'adv', 'advan', 'advance', 'advantage', 'adve', 'adventure', 'advertise', 'advertising', 'advice', 'advis', 'advise', 'advisory', 'advsry', 'aerojobmarket', 'aesthetic', 'aex', 'af', 'affect', 'affiliate', 'afford', 'affordable', 'afiliate', 'aflame', 'aforementioned', 'afraid', 'african', 'aft', 'afterall', 'afternoon', 'afterward', 'aftr', 'age', 'agency', 'agent', 'aggravate', 'aggravating', 'aggressive', 'agian', 'agnt', 'ago', 'agoodlife', 'agree', 'agreement', 'agt', 'agts', 'ah', 'aha', 'ahah', 'ahead', 'ahem', 'ahhhh', 'ahold', 'ahoy', 'aiecraft', 'ail', 'aim', 'air', 'airborne', 'airbus', 'aircanada', 'aircraft', 'aire', 'airfare', 'airline', 'airlinegave', 'airlinegeek', 'airlineguy', 'airlinequality', 'airliner', 'airlinesecurity', 'airnzusa', 'airplane', 'airplanemodewason', 'airport', 'airportcardio', 'airpt', 'airway', 'aisle', 'aka', 'al', 'alan', 'alaska', 'alaskaair', 'albany', 'albuquerque', 'alcohol', 'alert', 'alex', 'ali', 'alive', 'allergy', 'alliance', 'allow', 'almost', 'alone', 'along', 'alot', 'already', 'alreadyrebookedonce', 'alright', 'also', 'alstdi', 'alternate', 'alternative', 'although', 'altitude', 'always', 'amateur', 'amateurish', 'amaze', 'amazed', 'amazing', 'amazingflightcrew', 'amazingly', 'amazon', 'ambassador', 'ambivalence', 'amend', 'amenity', 'america', 'american', 'americanair', 'americanairbr', 'americanairline', 'americanairlinesfail', 'americanview', 'amex', 'among', 'amount', 'amsterdam', 'amybruni', 'ana', 'analystdoc', 'analytic', 'anamarketer', 'anaphylaxis', 'anarchy', 'anchorage', 'andchexmix', 'anderson', 'andrew', 'andrewfalli', 'andrews', 'android', 'andthewinneris', 'andyellwood', 'angel', 'angele', 'angelo', 'anger', 'angle', 'angry', 'angryairtravel', 'angrybird', 'angrycustomer', 'angrytraveler', 'angst', 'anhour', 'animal', 'ann', 'anna', 'anniversary', 'annnnddddd', 'announce', 'announced', 'announcement', 'announcer', 'annoy', 'annoyed', 'annoying', 'annricord', 'annual', 'another', 'anotherdisappointment', 'anotherfail', 'answer', 'answerthephone', 'ant', 'anthony', 'anti', 'anticipate', 'anticipation', 'antigua', 'antitrust', 'antonio', 'anxiety', 'anxious', 'anybody', 'anyhelp', 'anymore', 'anyone', 'anythin', 'anything', 'anytime', 'anyway', 'anyways', 'anywhere', 'ap', 'apart', 'apathy', 'apeare', 'api', 'apologise', 'apologize', 'apology', 'apostrophe', 'apostrophefail', 'app', 'appal', 'appalled', 'apparent', 'apparently', 'appeal', 'appear', 'appease', 'applaud', 'applause', 'apple', 'applepay', 'appleton', 'application', 'apply', 'appoint', 'appointment', 'appreciate', 'appreciated', 'appreciation', 'approach', 'appropriate', 'approval', 'approve', 'approx', 'approximate', 'approximately', 'appt', 'apr', 'april', 'apron', 'apt', 'apx', 'aquadilla', 'ar', 'arab', 'arbitrary', 'ardent', 'area', 'argentina', 'argue', 'argument', 'arkansa', 'arm', 'armrest', 'army', 'around', 'arrange', 'arrangement', 'arrival', 'arrive', 'art', 'article', 'asap', 'ase', 'ashamed', 'ashley', 'ask', 'askpaypal', 'asleep', 'aspen', 'ass', 'assault', 'asset', 'asshole', 'assign', 'assignment', 'assist', 'assistance', 'assult', 'assume', 'assure', 'astounding', 'atc', 'athlete', 'atl', 'atlanta', 'atlantic', 'atrocious', 'attach', 'attempt', 'attend', 'attendant', 'attendent', 'attention', 'attentiveness', 'attitude', 'atx', 'au', 'aug', 'august', 'auh', 'aus', 'austin', 'australia', 'austrian', 'auto', 'automate', 'automatically', 'av', 'avail', 'availability', 'available', 'average', 'avgeek', 'aviation', 'aviv', 'avoid', 'aw', 'await', 'awake', 'award', 'aware', 'away', 'awe', 'awesome', 'awful', 'awkward', 'aww', 'awww', 'az', 'ba', 'baby', 'back', 'backlog', 'backpack', 'backup', 'bad', 'badcustomerservice', 'badge', 'badly', 'badpolicy', 'badservice', 'bae', 'bag', 'bagage', 'baggage', 'baggagelost', 'bahama', 'bait', 'balance', 'ball', 'baltimore', 'band', 'bangkok', 'bank', 'bankrupt', 'bankruptcy', 'bar', 'barbado', 'barbara', 'barclay', 'barely', 'base', 'basic', 'basically', 'basket', 'bat', 'bathroom', 'battery', 'battierccipuppy', 'battle', 'bay', 'bc', 'bday', 'bdl', 'beach', 'beamske', 'beanie', 'bear', 'beat', 'beautiful', 'beautifully', 'beauty', 'become', 'bed', 'beer', 'beg', 'begin', 'beginning', 'behalf', 'behind', 'bein', 'believe', 'belize', 'belonging', 'belt', 'beneficial', 'benefit', 'bereavement', 'bergstrom', 'besides', 'bestairline', 'bestairlineever', 'bestfriend', 'besty', 'bet', 'betsy', 'beware', 'beyond', 'bf', 'bff', 'bg', 'bgm', 'bhm', 'bicycle', 'big', 'bike', 'bill', 'billing', 'billion', 'bin', 'bind', 'bio', 'bird', 'birmingham', 'birth', 'birthdate', 'birthday', 'bit', 'bitch', 'biz', 'bk', 'bkk', 'black', 'blackhistorymonth', 'blacklist', 'blah', 'blame', 'blank', 'blanket', 'blast', 'blasting', 'bless', 'blizzard', 'block', 'blog', 'bloody', 'blow', 'blue', 'bluemanity', 'bna', 'bo', 'board', 'boarding', 'boat', 'boeingairplane', 'bogota', 'boise', 'bonus', 'boo', 'book', 'booking', 'boom', 'boooo', 'boot', 'booze', 'border', 'bos', 'boss', 'boston', 'bostonlogan', 'bot', 'bother', 'bottle', 'bottom', 'bounce', 'bout', 'box', 'boy', 'boycott', 'boyfriend', 'bqn', 'bradley', 'brag', 'brain', 'brand', 'brandloveaffair', 'brandmance', 'brave', 'brazil', 'break', 'breakdown', 'breakfast', 'breast', 'breath', 'breeze', 'bretharold', 'brian', 'bridge', 'bright', 'brilliant', 'bring', 'british', 'bro', 'broke', 'broken', 'brokenpromise', 'brother', 'browser', 'bruh', 'brush', 'brutal', 'bs', 'btr', 'btv', 'btw', 'btwn', 'buck', 'buddy', 'budget', 'bueno', 'buf', 'buffalo', 'bug', 'build', 'bulb', 'bulkhead', 'bull', 'bullshit', 'bummer', 'bump', 'bumper', 'bunch', 'burger', 'burn', 'burningman', 'bus', 'bush', 'business', 'businessfirst', 'bussey', 'busy', 'butt', 'button', 'buy', 'buyer', 'bwi', 'bye', 'ca', 'cab', 'cabin', 'cabo', 'cache', 'cae', 'caffeine', 'cake', 'calgary', 'cali', 'california', 'call', 'callback', 'caller', 'calling', 'camera', 'campilley', 'canada', 'canadian', 'cancel', 'cancer', 'cancun', 'canned', 'canx', 'capability', 'capital', 'capt', 'captain', 'captive', 'capture', 'car', 'card', 'cardholder', 'care', 'career', 'cargo', 'caribbean', 'carol', 'carolina', 'carousel', 'carpet', 'carrier', 'carrieunderwood', 'carry', 'carryon', 'carseat', 'cart', 'case', 'cash', 'casimir', 'cat', 'catch', 'cater', 'catering', 'cattle', 'cause', 'cc', 'celebrate', 'cell', 'cellphone', 'center', 'central', 'centricity', 'century', 'ceo', 'certain', 'certainly', 'certificate', 'cessna', 'chain', 'chair', 'chairman', 'challenge', 'chance', 'change', 'channel', 'chaos', 'character', 'charge', 'charger', 'charity', 'charle', 'charleston', 'charlotte', 'charm', 'chart', 'chase', 'chasefoster', 'chat', 'cheap', 'cheapflight', 'cheat', 'check', 'checkin', 'checkout', 'checkpoint', 'cheer', 'cheertymedad', 'cheese', 'chge', 'chi', 'chicago', 'chicagotribune', 'chicken', 'chief', 'child', 'childish', 'chill', 'china', 'chkd', 'chng', 'cho', 'chocolate', 'choice', 'choose', 'choppy', 'chrome', 'cincy', 'cinnabon', 'circle', 'circumstance', 'cite', 'citizen', 'city', 'cke', 'claim', 'clarification', 'clarify', 'class', 'classy', 'cld', 'cldnt', 'cle', 'clean', 'clear', 'clearly', 'cleveland', 'clever', 'click', 'client', 'cll', 'close', 'closed', 'closing', 'clothe', 'clothing', 'cloud', 'clown', 'clt', 'club', 'clue', 'clutch', 'cmh', 'cmon', 'cng', 'cnn', 'cnnbrk', 'cnnmoney', 'cnx', 'cnxn', 'co', 'coach', 'coast', 'coat', 'cockpit', 'cocktail', 'code', 'codeshare', 'coffee', 'coincidence', 'coke', 'cold', 'colleague', 'collect', 'college', 'colombia', 'color', 'columbia', 'columbus', 'com', 'combination', 'combine', 'comcast', 'come', 'comedy', 'comfort', 'comfortable', 'comm', 'command', 'comment', 'commercial', 'commit', 'commitment', 'common', 'comms', 'communicate', 'communication', 'community', 'comp', 'companion', 'company', 'compare', 'compassion', 'compatible', 'compe', 'compensate', 'compensation', 'compete', 'competent', 'competitor', 'complain', 'complaint', 'complete', 'completely', 'complicated', 'compliment', 'complimentary', 'compound', 'computer', 'con', 'concept', 'concern', 'concerned', 'concert', 'concourse', 'condition', 'condom', 'conection', 'conf', 'conference', 'confidence', 'confident', 'confirm', 'confirmation', 'conflict', 'confuse', 'confused', 'confusion', 'congrat', 'congratulation', 'connect', 'connection', 'connector', 'consecutive', 'consider', 'considerable', 'consideration', 'consistency', 'consistent', 'consistently', 'constant', 'constantly', 'consumer', 'cont', 'contact', 'contain', 'contd', 'content', 'contest', 'context', 'continental', 'contingency', 'continue', 'continuous', 'contract', 'control', 'controller', 'convenient', 'conveniently', 'conversation', 'conveyer', 'convince', 'convo', 'cookie', 'cool', 'copilot', 'copy', 'corner', 'corp', 'corporate', 'corporation', 'correct', 'correctly', 'cost', 'costa', 'costumer', 'cough', 'could', 'count', 'counter', 'counting', 'country', 'county', 'couple', 'coupon', 'courier', 'course', 'court', 'courteous', 'courtesy', 'cousin', 'cover', 'cowboycerrone', 'coworker', 'cp', 'cr', 'cracker', 'cramp', 'cranky', 'crap', 'crappy', 'crash', 'crated', 'crave', 'craziness', 'crazy', 'cream', 'create', 'credit', 'crew', 'crewmember', 'criminal', 'crisis', 'cross', 'crowd', 'crowded', 'cruel', 'cruise', 'cry', 'cs', 'csr', 'css', 'ct', 'ctl', 'cuba', 'cue', 'culture', 'cun', 'cup', 'curb', 'curbside', 'curious', 'current', 'currently', 'cushion', 'cust', 'custom', 'customer', 'customerservice', 'custserv', 'cut', 'cute', 'cutting', 'cuz', 'cvg', 'cvgairport', 'cx', 'cxl', 'cxld', 'cycle', 'dad', 'daily', 'dakota', 'dal', 'dalla', 'dallas', 'damage', 'damn', 'dance', 'dancing', 'dang', 'danger', 'dare', 'dark', 'darn', 'date', 'datum', 'daughter', 'david', 'dawn', 'day', 'daytona', 'dc', 'dca', 'de', 'deactivate', 'dead', 'deadhead', 'deal', 'deane', 'dear', 'death', 'debacle', 'debate', 'december', 'decency', 'decent', 'decide', 'decision', 'deck', 'decline', 'deep', 'def', 'defend', 'define', 'definitely', 'degree', 'deice', 'del', 'delay', 'delayed', 'delete', 'delicious', 'deliver', 'delivery', 'delta', 'deltaassist', 'demand', 'demo', 'den', 'denver', 'deny', 'deodorant', 'dep', 'depart', 'department', 'departure', 'depend', 'deplane', 'deplorable', 'dept', 'derrick', 'describe', 'desert', 'deserve', 'design', 'desire', 'desk', 'desktop', 'desperately', 'despite', 'destination', 'destinationdragon', 'destroy', 'detail', 'detroit', 'develop', 'developer', 'development', 'device', 'dfw', 'dfwairport', 'dia', 'diabetic', 'dial', 'dialing', 'dialogue', 'diamond', 'diaper', 'dick', 'die', 'diego', 'diff', 'difference', 'different', 'difficult', 'difficulty', 'digital', 'dim', 'dime', 'dining', 'dinner', 'dinosaur', 'direct', 'directly', 'directtv', 'dirty', 'disabled', 'disappear', 'disappoint', 'disappointed', 'disappointing', 'disappointment', 'disaster', 'disconnect', 'disconnection', 'discount', 'discover', 'discrimination', 'discuss', 'disgrace', 'disgraceful', 'disgruntle', 'disgust', 'disgusted', 'disgusting', 'dislike', 'dismissive', 'disney', 'disorganized', 'dispatch', 'display', 'dispute', 'disregard', 'disrespect', 'disrespectful', 'disrupt', 'disruption', 'dissatisfaction', 'dissatisfied', 'dissatisfy', 'distance', 'distribution', 'div', 'diversion', 'divert', 'dividend', 'dl', 'dm', 'dmd', 'dme', 'dnt', 'dobetter', 'doctor', 'document', 'dog', 'doke', 'doll', 'dollar', 'domestic', 'donate', 'done', 'donkey', 'donut', 'door', 'dot', 'double', 'doubt', 'doubtful', 'doug', 'downgrade', 'downhill', 'download', 'downtown', 'dozen', 'dpt', 'dr', 'dragon', 'dragonss', 'draw', 'dre', 'dread', 'dream', 'dreamliner', 'drink', 'drive', 'driver', 'drop', 'drunk', 'dry', 'dsm', 'dtw', 'dub', 'dude', 'due', 'duffle', 'duh', 'dull', 'dulle', 'dumb', 'dump', 'dupe', 'durango', 'duty', 'eagle', 'early', 'earlybird', 'earn', 'earth', 'earthquake', 'easily', 'east', 'eastern', 'easy', 'eat', 'economy', 'ed', 'edit', 'efficiency', 'efficient', 'effort', 'eh', 'eight', 'either', 'el', 'elderly', 'elevate', 'eligible', 'elite', 'eliz', 'ella', 'ellahenderson', 'elm', 'else', 'elsewhere', 'em', 'email', 'embarrass', 'embarrassed', 'embarrassing', 'embarrassment', 'emboss', 'emerald', 'emergency', 'empathize', 'empathy', 'employee', 'empty', 'en', 'encounter', 'encourage', 'end', 'endless', 'energy', 'enforce', 'engagement', 'engine', 'english', 'enjoy', 'enjoyable', 'enough', 'enquire', 'enroll', 'enroute', 'ensure', 'enter', 'entertain', 'entertaining', 'entertainment', 'entire', 'entirely', 'entitle', 'entrance', 'entry', 'enuf', 'environment', 'ep', 'epic', 'epicfail', 'epicfailunite', 'equal', 'equally', 'equip', 'equipment', 'er', 'eri', 'err', 'error', 'errore', 'es', 'esp', 'especially', 'est', 'establish', 'estimate', 'eta', 'etc', 'ethiopia', 'etihad', 'eu', 'europe', 'evaluate', 'even', 'evening', 'event', 'eventually', 'ever', 'every', 'everybody', 'everyone', 'everything', 'everytime', 'everywhere', 'evry', 'ewr', 'ex', 'exact', 'exactly', 'example', 'excellent', 'except', 'exception', 'exceptional', 'exchange', 'excite', 'excited', 'exclusively', 'excuse', 'exec', 'executive', 'exercise', 'exhausted', 'exist', 'existence', 'existent', 'exit', 'exp', 'expand', 'expect', 'expectation', 'expedia', 'expedite', 'expense', 'expensive', 'experience', 'expiration', 'expire', 'explain', 'explanation', 'explorer', 'express', 'extend', 'extension', 'extra', 'extreme', 'extremely', 'ey', 'eye', 'eyw', 'fa', 'faa', 'faanew', 'fabulous', 'face', 'facebook', 'fact', 'fail', 'failure', 'fair', 'fairly', 'faith', 'fake', 'fall', 'fallow', 'false', 'fam', 'family', 'fan', 'fantastic', 'far', 'fare', 'farecompare', 'fast', 'fat', 'father', 'fault', 'faulty', 'fav', 'fave', 'favorite', 'fax', 'fb', 'fc', 'fe', 'fear', 'feature', 'feb', 'february', 'fece', 'federal', 'fee', 'feed', 'feedback', 'feel', 'feeling', 'fella', 'female', 'fend', 'ferry', 'festival', 'ff', 'ffl', 'fi', 'fiance', 'fiancee', 'field', 'fight', 'figure', 'file', 'fill', 'film', 'filmcrew', 'filmjobnoequipment', 'filthyplane', 'final', 'finally', 'financial', 'find', 'finder', 'fine', 'finger', 'finish', 'fioretti', 'fire', 'first', 'firstclass', 'firstworldproblem', 'fit', 'five', 'fix', 'fl', 'flashlight', 'flat', 'flaw', 'fleek', 'fleet', 'flex', 'flexibility', 'flexible', 'flght', 'flier', 'flierfriendly', 'flight', 'flightation', 'flightaware', 'flightd', 'flighted', 'flighting', 'flightlation', 'flightle', 'flightled', 'flightledflight', 'flightling', 'flightly', 'flightr', 'flightst', 'flip', 'flite', 'fll', 'floor', 'florida', 'flower', 'flt', 'fly', 'flydelta', 'flyer', 'flyerfriendly', 'flyfi', 'flying', 'flyingitforward', 'flyitforward', 'flylaxairport', 'flysaa', 'flysfo', 'flysouthw', 'flyswa', 'flytpa', 'flyunite', 'flyyow', 'focus', 'folder', 'folk', 'follow', 'followback', 'follower', 'food', 'foot', 'force', 'forecast', 'forever', 'forfeit', 'forget', 'forgive', 'form', 'formal', 'formally', 'former', 'formula', 'fort', 'forth', 'fortunately', 'fortunemagazine', 'forward', 'four', 'fr', 'fra', 'fran', 'france', 'franchise', 'francisco', 'frank', 'frankfurt', 'fraud', 'freak', 'free', 'freeze', 'freezing', 'french', 'freq', 'frequent', 'frequentflyer', 'fresh', 'fresno', 'freyabevan', 'freyasfund', 'fri', 'friday', 'friend', 'friendly', 'friendlyskie', 'frigid', 'frm', 'fron', 'front', 'frontier', 'frontrunner', 'frozen', 'frustrate', 'frustrated', 'frustrating', 'frustration', 'ft', 'ftw', 'fuck', 'fucken', 'fucking', 'fuel', 'fuk', 'full', 'fully', 'fun', 'function', 'functionality', 'fund', 'funeral', 'funny', 'furious', 'furrow', 'fustrate', 'future', 'fwiw', 'fyi', 'gain', 'galley', 'game', 'garbage', 'garcia', 'gary', 'gas', 'gate', 'gear', 'gee', 'geez', 'gem', 'general', 'generate', 'generic', 'gent', 'george', 'get', 'getaway', 'getittogether', 'gets', 'gettin', 'getting', 'gf', 'gg', 'gift', 'girl', 'girlfriend', 'give', 'gj', 'glad', 'gladly', 'glass', 'glitch', 'global', 'globe', 'glove', 'gluten', 'gma', 'gmail', 'gng', 'gnv', 'go', 'god', 'gogh', 'gogo', 'goingforgreat', 'goingforgreatnessfail', 'gold', 'golf', 'gon', 'good', 'goodbye', 'goodflight', 'goodness', 'goodwill', 'google', 'gopro', 'gorgeous', 'gosh', 'got', 'gotcha', 'gr', 'grab', 'grand', 'grandfather', 'grandma', 'grant', 'graphic', 'grateful', 'gratitude', 'great', 'greatservice', 'greedy', 'green', 'greenville', 'greet', 'greeting', 'grk', 'gross', 'ground', 'group', 'grow', 'grown', 'grp', 'grr', 'gso', 'gsp', 'guarantee', 'guess', 'guest', 'guidance', 'guide', 'guideline', 'guitar', 'gun', 'gunna', 'guy', 'ha', 'hack', 'hah', 'haha', 'hahaha', 'hail', 'haiti', 'half', 'halfway', 'hand', 'handle', 'handler', 'handling', 'hang', 'hanger', 'hangup', 'happen', 'happily', 'happiness', 'happy', 'harbor', 'hard', 'hardly', 'hardworke', 'hare', 'hartford', 'hashtag', 'hassle', 'hat', 'hate', 'haul', 'havana', 'hawaii', 'hayden', 'hayleymad', 'hdn', 'head', 'headache', 'headphone', 'health', 'hear', 'heart', 'heat', 'heathrow', 'heathrowairport', 'heavily', 'heavy', 'heck', 'helacohlc', 'hell', 'hello', 'help', 'helpful', 'hence', 'hep', 'herman', 'hero', 'hey', 'hi', 'hide', 'high', 'highlight', 'highly', 'hilarious', 'hint', 'hire', 'history', 'hit', 'hmmm', 'hnl', 'ho', 'hold', 'holder', 'holdup', 'hole', 'holiday', 'holy', 'home', 'hometown', 'honest', 'honestly', 'honesty', 'honey', 'honeymoon', 'honolulu', 'honor', 'hook', 'hoop', 'hop', 'hope', 'hopeful', 'hopefully', 'hopeidonotgetsick', 'hopeless', 'horrendous', 'horrible', 'horriblecustomerservice', 'horrid', 'horrific', 'horror', 'hospitality', 'host', 'hostage', 'hot', 'hotel', 'hotline', 'hotmail', 'hotspot', 'hou', 'hour', 'hourdelay', 'house', 'housing', 'houston', 'however', 'hp', 'hpn', 'hr', 'hrl', 'hrs', 'hs', 'hsv', 'https', 'hub', 'hubby', 'hug', 'huge', 'hugely', 'huh', 'human', 'humiliate', 'humor', 'humour', 'hundred', 'hungry', 'hunt', 'huntsville', 'hurry', 'hurt', 'husband', 'huston', 'hv', 'hve', 'hypocrisy', 'iad', 'iah', 'iberia', 'ice', 'iceland', 'icing', 'icy', 'idea', 'ideal', 'identical', 'idiot', 'idk', 'iflyswa', 'ignorant', 'ignore', 'ilc', 'ill', 'illegal', 'imagine', 'imaginedragon', 'immediately', 'imo', 'impact', 'impending', 'important', 'impossible', 'impress', 'impressed', 'impression', 'impressive', 'improve', 'improvement', 'inaccurate', 'inadequate', 'inbound', 'inbox', 'incentive', 'inch', 'incident', 'inclement', 'include', 'income', 'incoming', 'incompetence', 'incompetent', 'inconsiderate', 'inconvenience', 'inconvenient', 'incorrect', 'incorrectly', 'increase', 'incredible', 'incredibly', 'incur', 'ind', 'indeed', 'indianapolis', 'indicate', 'indication', 'individual', 'industry', 'indy', 'inefficient', 'inevitable', 'inexcusable', 'infant', 'inferior', 'inflight', 'info', 'inform', 'information', 'ing', 'initial', 'injure', 'injury', 'innovation', 'inquire', 'insane', 'insanity', 'inside', 'insist', 'inspect', 'inspire', 'instagram', 'instead', 'instruct', 'instrument', 'insult', 'int', 'intact', 'integrate', 'integration', 'intend', 'intention', 'intentionally', 'interaction', 'interest', 'interested', 'interesting', 'interfere', 'interior', 'intern', 'internal', 'international', 'internationally', 'internet', 'internship', 'interview', 'intl', 'invalid', 'invest', 'investigate', 'investor', 'invite', 'invoice', 'involve', 'io', 'ios', 'iowa', 'ipad', 'iphone', 'irresponsible', 'irritate', 'irritated', 'ish', 'isis', 'island', 'issue', 'italy', 'item', 'itin', 'itinerary', 'itunesmusic', 'ivr', 'iwantmymoneyback', 'jac', 'jack', 'jacket', 'jacksonville', 'jacquie', 'jam', 'jamaica', 'jan', 'jane', 'janet', 'january', 'jason', 'jax', 'jayvig', 'jb', 'jblu', 'jeanine', 'jedediahbila', 'jeff', 'jenniferwalshpr', 'jeokoo', 'jerk', 'jet', 'jetbae', 'jetblue', 'jetbluefail', 'jetbluerock', 'jetway', 'jfk', 'jh', 'jimcramer', 'jkf', 'jms', 'joanna', 'job', 'joe', 'john', 'join', 'joke', 'jose', 'journal', 'journey', 'jp', 'jt', 'jtrexsocial', 'juan', 'julie', 'july', 'jump', 'june', 'justify', 'justynmoro', 'jvmchat', 'karen', 'kate', 'kay', 'kc', 'kci', 'kciairport', 'keep', 'kelly', 'kelsey', 'kentuckymbb', 'kevin', 'key', 'kick', 'kid', 'kidding', 'kill', 'kim', 'kind', 'kinda', 'kindle', 'kindness', 'king', 'kiosk', 'kit', 'kitty', 'kn', 'knee', 'know', 'knowledge', 'known', 'knoxville', 'kp', 'kphl', 'ktn', 'kudo', 'kul', 'kylejudah', 'la', 'labor', 'lack', 'lady', 'ladygaga', 'lag', 'laguardia', 'lake', 'lame', 'lan', 'land', 'landing', 'lane', 'lap', 'laptop', 'large', 'larry', 'las', 'last', 'late', 'latime', 'lauderdale', 'laugh', 'lauren', 'lavatory', 'law', 'lax', 'layover', 'lazy', 'lb', 'lbs', 'ld', 'lead', 'leadership', 'league', 'leak', 'learn', 'least', 'leave', 'leaving', 'left', 'leg', 'legal', 'legally', 'legit', 'legitimate', 'legroom', 'lemme', 'less', 'lesson', 'let', 'letdown', 'letsgo', 'letter', 'level', 'lex', 'lexington', 'lfulcbq', 'lga', 'lgb', 'lh', 'lhr', 'license', 'lie', 'life', 'lifetime', 'lift', 'light', 'like', 'likelihood', 'likely', 'lil', 'limit', 'limited', 'lindsey', 'line', 'link', 'lisa', 'list', 'listen', 'lit', 'literally', 'little', 'littlebird', 'live', 'livery', 'livid', 'lmao', 'lmfao', 'lo', 'load', 'loan', 'loc', 'local', 'locate', 'location', 'locator', 'lodge', 'log', 'logan', 'logic', 'login', 'logistic', 'logo', 'lol', 'london', 'lone', 'long', 'look', 'loop', 'loose', 'lord', 'lose', 'loss', 'lost', 'lostluggage', 'lot', 'loud', 'louis', 'louisville', 'lounge', 'lousy', 'love', 'lovejetblue', 'lovely', 'lovesongfriday', 'low', 'lower', 'loyal', 'loyalty', 'lpalumbo', 'lucia', 'luck', 'luckily', 'lucky', 'lufthansa', 'luggage', 'lung', 'luv', 'luvswa', 'luxury', 'maatkare', 'mac', 'machine', 'mad', 'madden', 'madness', 'madrid', 'magazine', 'magic', 'magically', 'maiden', 'mail', 'maimi', 'main', 'maint', 'maintain', 'maintenance', 'major', 'make', 'male', 'malfunction', 'man', 'manage', 'management', 'manager', 'manch', 'manchester', 'mandarinjourney', 'maneuver', 'manner', 'manually', 'many', 'map', 'march', 'mardigra', 'maria', 'marie', 'mark', 'market', 'marketing', 'markie', 'married', 'marry', 'marshal', 'martysg', 'mary', 'maryella', 'mass', 'massive', 'master', 'mastercard', 'match', 'matter', 'max', 'may', 'maybe', 'mayweatherpacquiao', 'mc', 'mce', 'mci', 'mco', 'md', 'mdw', 'meal', 'mean', 'meaning', 'meaningful', 'meantime', 'meanwhile', 'measure', 'mech', 'mechanic', 'mechanical', 'med', 'medal', 'medical', 'medium', 'meelan', 'meet', 'meeting', 'mel', 'mem', 'member', 'membership', 'memo', 'memorial', 'memory', 'memphis', 'mention', 'menu', 'mercy', 'merge', 'merger', 'mess', 'message', 'metal', 'method', 'metro', 'mex', 'mexico', 'mgr', 'mht', 'mi', 'mia', 'miami', 'mid', 'middle', 'middleeast', 'midland', 'midnight', 'midway', 'might', 'mike', 'mile', 'mileage', 'mileageplus', 'miler', 'military', 'million', 'min', 'mind', 'mine', 'minimum', 'minor', 'mint', 'minute', 'miracle', 'miriam', 'mis', 'miserable', 'mislead', 'misplace', 'misplaced', 'miss', 'missing', 'mission', 'mistake', 'misunderstood', 'mitchell', 'mke', 'mn', 'mnl', 'mobile', 'model', 'modification', 'modify', 'mold', 'mom', 'moment', 'momma', 'momsgoodeat', 'mon', 'monday', 'money', 'monitor', 'montego', 'month', 'monthly', 'mood', 'morn', 'morning', 'morrow', 'mos', 'mosaic', 'mostly', 'mother', 'motion', 'mountain', 'mouse', 'move', 'movie', 'mp', 'mph', 'mr', 'ms', 'msg', 'msp', 'msy', 'mt', 'mtg', 'mth', 'much', 'multi', 'multiple', 'murder', 'music', 'musician', 'must', 'mvp', 'myer', 'myrtle', 'na', 'nah', 'name', 'nantucket', 'narita', 'nasdaq', 'nashville', 'nassau', 'nasty', 'national', 'nature', 'nbc', 'nbr', 'nburnside', 'nc', 'nd', 'ndward', 'near', 'nearby', 'nearly', 'necessary', 'necessity', 'need', 'needcoffee', 'neglect', 'negotiate', 'neither', 'neptune', 'nerdbird', 'nervous', 'never', 'neveragain', 'neverflyvirginforbusiness', 'new', 'newark', 'newly', 'neworlean', 'news', 'newyork', 'next', 'nexus', 'nh', 'nice', 'nicely', 'nigga', 'night', 'nightmare', 'ninadavuluri', 'nine', 'nite', 'nitrogen', 'nj', 'njairport', 'nm', 'nobody', 'nocrew', 'nocustomerservice', 'nolove', 'non', 'none', 'nonexistent', 'nonprofit', 'nonsense', 'nonstop', 'noon', 'noooo', 'nope', 'norfolk', 'norm', 'norma', 'normal', 'normally', 'north', 'northeast', 'noservice', 'notch', 'notcool', 'note', 'notgoodenough', 'nothank', 'nothappy', 'nothin', 'nothing', 'notice', 'notification', 'notify', 'notimpresse', 'notmyfault', 'november', 'nowhere', 'nrosenb', 'nrt', 'nt', 'ntrustopen', 'number', 'numerical', 'numerous', 'nut', 'nuts', 'nvr', 'nxt', 'ny', 'nyc', 'nytime', 'oaaret', 'oak', 'oakland', 'obj', 'observe', 'obvious', 'obviously', 'occupy', 'occur', 'oct', 'october', 'odd', 'offer', 'office', 'officer', 'official', 'officially', 'offload', 'often', 'ogg', 'oh', 'ohare', 'ohio', 'ok', 'okay', 'okc', 'old', 'oma', 'omaha', 'omg', 'onboard', 'one', 'oneworld', 'onholdwith', 'online', 'ont', 'ontime', 'onto', 'ooh', 'oop', 'oops', 'op', 'opal', 'open', 'operate', 'operation', 'operational', 'operator', 'opinion', 'opportunity', 'opposite', 'opt', 'option', 'orange', 'orangecounty', 'orbitz', 'ord', 'order', 'oregon', 'orf', 'organization', 'orig', 'origin', 'original', 'originally', 'orl', 'orlando', 'orlean', 'oscar', 'otherwise', 'otis', 'ourprincess', 'outbound', 'outdated', 'outlet', 'outrageous', 'outside', 'outsource', 'outstanding', 'overall', 'overbook', 'overbooke', 'overbooked', 'overcharge', 'overflight', 'overflow', 'overhead', 'overhear', 'overheat', 'overnight', 'overseas', 'oversell', 'overselle', 'oversize', 'oversized', 'overweight', 'overwhelm', 'owe', 'owner', 'oy', 'oz', 'pa', 'pacific', 'pack', 'package', 'pafe', 'page', 'pain', 'painful', 'painless', 'paint', 'pair', 'palm', 'panamerican', 'pandora', 'pant', 'paper', 'paperwork', 'parent', 'paris', 'park', 'parker', 'parking', 'part', 'partial', 'particular', 'particularly', 'partly', 'partner', 'partnership', 'party', 'pass', 'passbook', 'passenger', 'passport', 'password', 'past', 'paste', 'pat', 'patch', 'pathetic', 'patience', 'patient', 'patiently', 'patrick', 'pattern', 'pattonoswalt', 'paulgordonbrown', 'paulo', 'pax', 'pay', 'payment', 'paypal', 'pbi', 'pdx', 'peace', 'peanut', 'peep', 'pen', 'penalty', 'pende', 'people', 'per', 'perfect', 'perfectomobile', 'perform', 'performance', 'perhaps', 'period', 'perk', 'permission', 'person', 'personal', 'personalized', 'personally', 'personnel', 'pet', 'pgatour', 'pgh', 'ph', 'phi', 'phil', 'philadelphia', 'philippine', 'philly', 'phl', 'phlairport', 'phoenix', 'phone', 'photo', 'photography', 'phrase', 'phx', 'physical', 'pia', 'pic', 'pick', 'picture', 'piece', 'pig', 'pile', 'pillow', 'pilot', 'pin', 'ping', 'pink', 'piss', 'pissed', 'pit', 'pita', 'pitt', 'pittsburgh', 'pity', 'pj', 'pjs', 'place', 'plague', 'plain', 'plan', 'plane', 'planet', 'planning', 'plastic', 'plat', 'platinum', 'play', 'playa', 'player', 'playlist', 'plead', 'pleasant', 'pleasantly', 'please', 'pleasecomeback', 'pleased', 'pleaseeeeee', 'pleasegod', 'pleasehelp', 'pleasure', 'pleeeease', 'pleeeeease', 'plenty', 'plitt', 'pln', 'plot', 'plough', 'plow', 'pls', 'plse', 'plt', 'plug', 'plus', 'plz', 'pm', 'pn', 'poc', 'pocket', 'point', 'pointer', 'pointy', 'poisoning', 'poisonpill', 'poker', 'pole', 'police', 'policy', 'politely', 'pooch', 'pool', 'pooling', 'poop', 'poor', 'poorcustomerservice', 'poorcustumerservice', 'poorform', 'poorly', 'poorlyhandle', 'poorplanne', 'poorservice', 'pop', 'popular', 'populate', 'porde', 'porn', 'port', 'portable', 'portal', 'portcolumbuscmh', 'portfolio', 'portion', 'portland', 'portlandjetport', 'portsmouth', 'pos', 'position', 'positive', 'possession', 'possiable', 'possibility', 'possible', 'possibly', 'post', 'postpone', 'postsecret', 'potable', 'poteettj', 'potential', 'potentially', 'poughkeepsie', 'pound', 'pout', 'powder', 'power', 'ppl', 'pple', 'pqd', 'pqds', 'pqm', 'pqms', 'pr', 'practical', 'practice', 'praise', 'pray', 'praywinn', 'prchase', 'pre', 'preboard', 'preboarde', 'prebook', 'prebooke', 'precheck', 'prechk', 'preciate', 'preciation', 'precious', 'precioustime', 'precipitation', 'preclude', 'predict', 'predictive', 'preemptive', 'preexisting', 'pref', 'prefer', 'preferably', 'preference', 'preferred', 'prefference', 'preflight', 'prefundia', 'pregame', 'preggo', 'pregnant', 'pregnantwithtwin', 'prem', 'premier', 'premiere', 'premium', 'preparation', 'prepare', 'preparedness', 'prerecord', 'preregistration', 'present', 'presentation', 'president', 'presidential', 'press', 'pressure', 'pressurecooker', 'pressurization', 'presumably', 'pretend', 'pretty', 'prettyplease', 'pretzel', 'prev', 'prevent', 'preventable', 'preventative', 'prevention', 'previous', 'previously', 'price', 'pricediscrimination', 'priceless', 'priceline', 'pricewise', 'pricey', 'pricing', 'pride', 'prime', 'prince', 'princess', 'princesshalf', 'principle', 'print', 'printer', 'prior', 'prioritize', 'priority', 'prison', 'priv', 'private', 'privilege', 'prize', 'prn', 'pro', 'proactive', 'proactively', 'prob', 'probability', 'probably', 'problem', 'problemss', 'probls', 'procedure', 'proceed', 'process', 'product', 'prof', 'professional', 'professorpaul', 'profile', 'profit', 'profitability', 'profitable', 'profitbeforepeople', 'profiting', 'program', 'programmer', 'programming', 'progress', 'prohibit', 'project', 'prolly', 'prom', 'promise', 'promo', 'promos', 'promote', 'promotion', 'prompt', 'promptly', 'proof', 'prop', 'proper', 'properly', 'property', 'proposition', 'prospective', 'protect', 'protection', 'protest', 'protocol', 'proud', 'prove', 'provide', 'providence', 'providenciale', 'provider', 'provo', 'ps', 'pseudo', 'psgrs', 'psngrs', 'psp', 'pssgrs', 'pssngrs', 'pst', 'psych', 'psychological', 'pt', 'pto', 'pty', 'pu', 'public', 'publicly', 'puerto', 'puj', 'pull', 'pulse', 'pummel', 'pump', 'punish', 'punishedforflye', 'punta', 'puppy', 'pura', 'purchase', 'pure', 'purely', 'purpose', 'push', 'pushback', 'put', 'pv', 'pvd', 'pvg', 'pvr', 'pwm', 'qc', 'qlyss', 'qro', 'qs', 'qsvgru', 'quadruple', 'qualify', 'quality', 'quanta', 'quarter', 'que', 'question', 'queue', 'quiche', 'quick', 'quickie', 'quickly', 'quiet', 'quintana', 'quit', 'quite', 'quito', 'quote', 'qyezhjgsb', 'race', 'rachel', 'rachelle', 'racist', 'rack', 'rad', 'radio', 'raeann', 'rag', 'ragandisney', 'rage', 'rain', 'rainy', 'raise', 'rajuchinthala', 'raleigh', 'ram', 'ramada', 'ramp', 'ramper', 'random', 'randomactsofcorporategree', 'randomly', 'range', 'rank', 'rant', 'rap', 'rapid', 'rapidly', 'rapidreward', 'rare', 'rarely', 'ratchet', 'rate', 'rather', 'rating', 'ray', 'razor', 'rcd', 'rcvd', 'rd', 'rdu', 'reaccommodation', 'reach', 'reachingnewlow', 'react', 'reaction', 'reactivate', 'reactive', 'read', 'readde', 'reader', 'readily', 'ready', 'reagan', 'real', 'realise', 'realistic', 'realistically', 'reality', 'realize', 'really', 'reallytallchris', 'realtime', 'rearrange', 'reason', 'reasonable', 'reasonably', 'reassign', 'reativation', 'reboarde', 'rebook', 'rebooke', 'rebooked', 'reboot', 'rebuild', 'rec', 'recap', 'reccewife', 'receipt', 'receive', 'recent', 'recently', 'recharge', 'recheck', 'rechecke', 'recieve', 'reciprocate', 'reclaim', 'recline', 'recognition', 'recognize', 'recommend', 'recommendation', 'reconsider', 'record', 'recording', 'recoup', 'recourse', 'recover', 'recovery', 'recruit', 'recruiter', 'rectify', 'recvd', 'recycle', 'red', 'redcarpet', 'reddit', 'redeem', 'redemption', 'redesign', 'redirect', 'redo', 'redreserve', 'redsox', 'reduce', 'redwineisbetter', 'reebok', 'reek', 'ref', 'refer', 'reference', 'reflect', 'reflection', 'reflight', 'reform', 'refrain', 'refresh', 'refreshing', 'refsd', 'refuel', 'refueling', 'refund', 'refundable', 'refunded', 'refundprocedurenottoopainful', 'refurbish', 'refuse', 'regard', 'regardless', 'regional', 'register', 'registration', 'regrade', 'regret', 'regular', 'regularly', 'regulation', 'rehman', 'reign', 'reimburse', 'reimbursement', 'reinforcement', 'reinstate', 'reinvest', 'reissue', 'reiterate', 'reject', 'relate', 'relation', 'relationship', 'relative', 'relax', 'relay', 'release', 'relevant', 'reliability', 'reliable', 'relief', 'relieved', 'reload', 'rely', 'remain', 'remark', 'remedy', 'remember', 'remind', 'reminder', 'remorse', 'remote', 'remotely', 'removal', 'remove', 'renhotel', 'reno', 'renoairport', 'rent', 'rental', 'reopen', 'rep', 'repaint', 'repair', 'repartee', 'repay', 'repeat', 'repeatably', 'repeatedly', 'replace', 'replacement', 'replicate', 'reply', 'report', 'reposte', 'reprehensible', 'represent', 'representative', 'reproach', 'republic', 'republican', 'reputation', 'req', 'request', 'require', 'requirement', 'reroute', 'res', 'resch', 'resche', 'reschedule', 'rescheduled', 'rescheduling', 'rescue', 'research', 'reseat', 'resend', 'resent', 'reserv', 'reservation', 'reserve', 'reserved', 'reset', 'reside', 'reso', 'resole', 'resolution', 'resolve', 'resort', 'resource', 'respect', 'respectful', 'respond', 'response', 'responsibility', 'responsible', 'responsive', 'responsiveness', 'ressie', 'rest', 'restate', 'restless', 'restore', 'restr', 'restriction', 'restrm', 'restroom', 'restructure', 'result', 'resume', 'retailbagholder', 'retailer', 'retain', 'retard', 'rethink', 'retire', 'retook', 'retract', 'retrain', 'retribution', 'retrieve', 'retrn', 'retroactively', 'rett', 'return', 'retweet', 'retweete', 'reunion', 'reunite', 'reveal', 'revenue', 'reverse', 'revert', 'review', 'revisit', 'revive', 'revs', 'revue', 'reward', 'rez', 'rhonda', 'rhz', 'ri', 'ric', 'rica', 'ricardo', 'richard', 'rick', 'rico', 'ricoh', 'rid', 'ride', 'ridiculous', 'rifle', 'right', 'rikrik', 'rim', 'ring', 'rip', 'ripme', 'ripoff', 'rise', 'risk', 'rita', 'ritacomo', 'rito', 'ritz', 'rival', 'rizzilient', 'rldelahunty', 'rly', 'rmoug', 'rmpkogwu', 'rn', 'rncahill', 'rnd', 'rndtrp', 'rno', 'rnp', 'road', 'roadtrip', 'roadwarrior', 'roanoke', 'roast', 'rob', 'robbogart', 'robcnyc', 'robert', 'robertdwyer', 'robertfor', 'robin', 'robinreda', 'robinson', 'robocall', 'robot', 'robotic', 'robprice', 'robthecameraman', 'robyn', 'roc', 'rock', 'rockie', 'rockingthetweet', 'rockinwellness', 'rockstar', 'rocky', 'rodeo', 'roe', 'roger', 'role', 'roll', 'rollerboard', 'rollercoaster', 'rolling', 'roo', 'rookie', 'room', 'rotten', 'rough', 'round', 'roundtrip', 'route', 'router', 'routine', 'routing', 'row', 'roxydigital', 'royal', 'royally', 'rozana', 'rps', 'rqc', 'rqstd', 'rr', 'rs', 'rsw', 'rt', 'rtrn', 'rtw', 'rub', 'rubber', 'rubbish', 'rude', 'rudely', 'rudeness', 'rudeservice', 'rudest', 'ruin', 'ruiningmy', 'rule', 'rulesshouldbend', 'rum', 'rumor', 'run', 'runaround', 'rundisney', 'runner', 'running', 'runningonthreehoursofsleep', 'runway', 'rush', 'russ', 'russellswrite', 'russia', 'rwrd', 'rx', 'ryand', 'rylietolbert', 'sa', 'sabe', 'sabre', 'sac', 'sacintlairport', 'sacramento', 'sad', 'sadden', 'saddening', 'sadie', 'sadly', 'safari', 'safe', 'safely', 'safety', 'safetyconcern', 'safetyfirst', 'saga', 'sagerooski', 'saharasam', 'saianel', 'saidi', 'sail', 'sailor', 'saipan', 'sal', 'salad', 'sale', 'salem', 'salisbury', 'sally', 'salt', 'salvage', 'sam', 'samantha', 'samartzi', 'samchampion', 'sample', 'samsonite', 'san', 'sand', 'sandiego', 'sandra', 'sandwich', 'sanfrancisco', 'sanitize', 'sanitizer', 'sanity', 'santa', 'sao', 'sapphire', 'sarcasm', 'sat', 'satisfaction', 'saturday', 'sauce', 'savannah', 'save', 'saver', 'saving', 'say', 'sb', 'sc', 'scale', 'scam', 'scan', 'scared', 'scatter', 'scavenger', 'scenario', 'scene', 'sch', 'sche', 'schedule', 'scheduling', 'scheme', 'school', 'science', 'scream', 'screen', 'screening', 'screw', 'sd', 'sdf', 'sea', 'sean', 'search', 'season', 'seat', 'seatac', 'seatbelt', 'seating', 'seattle', 'sec', 'second', 'section', 'secure', 'security', 'sedholm', 'see', 'seek', 'seem', 'seg', 'segment', 'select', 'selection', 'self', 'selfie', 'sell', 'send', 'senior', 'sense', 'senseless', 'sensitive', 'sentiment', 'sep', 'separate', 'separately', 'sept', 'september', 'series', 'serious', 'seriously', 'serv', 'serve', 'service', 'servicefail', 'set', 'settle', 'seven', 'several', 'severe', 'severely', 'sexual', 'sexy', 'sf', 'sfo', 'shade', 'shady', 'shake', 'shall', 'shame', 'shameful', 'shameonyou', 'shampoo', 'shannon', 'share', 'shawn', 'shift', 'ship', 'shirt', 'shit', 'shitty', 'shld', 'shock', 'shocked', 'shoddy', 'shoe', 'shopping', 'short', 'shortcoming', 'shortly', 'shot', 'shoulder', 'shouldhaveflowndelta', 'shout', 'shoutout', 'show', 'shrug', 'shuffle', 'shut', 'shuttle', 'shv', 'sick', 'side', 'sigh', 'sight', 'sign', 'signal', 'significant', 'silence', 'silly', 'silver', 'silverairway', 'similar', 'simple', 'simply', 'since', 'sincere', 'sincerely', 'sing', 'singe', 'singer', 'single', 'sink', 'sinus', 'siouxfall', 'sir', 'sis', 'sister', 'sit', 'site', 'siteit', 'sitter', 'sittin', 'sitting', 'sittingontheplane', 'situation', 'six', 'size', 'sized', 'sizer', 'sj', 'sjc', 'sjd', 'sjo', 'sju', 'skateboard', 'ske', 'sked', 'ski', 'skift', 'skiing', 'skill', 'skilled', 'skin', 'skip', 'skipper', 'sky', 'skycap', 'skys', 'skyscanner', 'skytrax', 'slacksoft', 'slap', 'slapintheface', 'slash', 'slaughter', 'slc', 'slcairport', 'sld', 'sledge', 'sleekmoney', 'sleep', 'sleepless', 'sleet', 'slew', 'slide', 'slight', 'slightly', 'slime', 'slip', 'sliver', 'slog', 'sloooooow', 'sloooowresponse', 'slope', 'sloppy', 'slow', 'slowdown', 'slowly', 'slowness', 'sm', 'sma', 'small', 'smart', 'smash', 'smell', 'smelly', 'smf', 'smfh', 'smh', 'smile', 'smisek', 'smitten', 'smm', 'smoke', 'smooooth', 'smooth', 'smoothflight', 'smoothie', 'smoothly', 'smoothtransition', 'smth', 'smugsmirk', 'smusportmgt', 'smybag', 'sna', 'snack', 'snag', 'snapchat', 'sneak', 'sneaky', 'sneverstoppe', 'snobby', 'snoop', 'snow', 'snowball', 'snowboard', 'snowbound', 'snowfall', 'snowforce', 'snowstorm', 'snowwillnevermelt', 'snowy', 'soak', 'sob', 'sobewff', 'soc', 'social', 'socialtantrum', 'sock', 'sodone', 'soft', 'software', 'solid', 'solo', 'solution', 'solve', 'somebody', 'somehow', 'someone', 'something', 'sometime', 'sometimes', 'somewhat', 'somewhere', 'son', 'song', 'soon', 'soooo', 'sop', 'sorry', 'sorrynotsorry', 'sort', 'sorta', 'sos', 'sound', 'sour', 'south', 'southern', 'southw', 'southwest', 'southwestair', 'southwestairline', 'space', 'spaced', 'spagnuolo', 'spam', 'spanish', 'spare', 'speak', 'spec', 'special', 'specialist', 'specialolympic', 'specific', 'specifically', 'specify', 'spectacular', 'speed', 'speedy', 'spell', 'spelling', 'spend', 'spending', 'spf', 'spiced', 'spill', 'spin', 'spirit', 'spiritairline', 'spiritairpr', 'spirited', 'spite', 'split', 'splitting', 'spoil', 'sponsor', 'sponsorship', 'spontaneously', 'spook', 'spooky', 'sporadically', 'sport', 'sportsbiz', 'spot', 'spotify', 'spotty', 'spousal', 'sprawl', 'spread', 'spreadtheword', 'spring', 'sprinkle', 'sprint', 'spruce', 'spvsr', 'square', 'squashed', 'squawk', 'squish', 'sre', 'srq', 'srsly', 'srv', 'srvc', 'st', 'stable', 'stacey', 'stacy', 'stacycrossb', 'staduim', 'staff', 'staffer', 'stair', 'stall', 'stand', 'standard', 'standby', 'standbye', 'standing', 'star', 'staralliance', 'starbuck', 'stare', 'start', 'starve', 'stat', 'state', 'statement', 'station', 'status', 'stay', 'steal', 'steamboat', 'steel', 'stellar', 'step', 'stewardess', 'sti', 'stick', 'sticker', 'still', 'stillnobag', 'stillwaite', 'stink', 'stl', 'stndby', 'stock', 'stocker', 'stoke', 'stone', 'stop', 'store', 'storm', 'story', 'stow', 'straight', 'straighten', 'strand', 'strange', 'stranger', 'strategy', 'streaming', 'street', 'stress', 'stressful', 'stretch', 'strike', 'strip', 'strive', 'stroller', 'strong', 'strongly', 'struggle', 'stt', 'stuck', 'student', 'stuff', 'stun', 'stupid', 'style', 'submit', 'subpar', 'success', 'suck', 'sudden', 'suffer', 'suggest', 'suggestion', 'suicide', 'suit', 'suitcase', 'summer', 'sun', 'sunday', 'sunglass', 'sunny', 'sunrise', 'sunset', 'sunshine', 'super', 'superior', 'supervisor', 'superyan', 'supply', 'support', 'suppose', 'supposedly', 'sure', 'surely', 'surgery', 'surly', 'surprise', 'surprised', 'survey', 'survive', 'suspect', 'svc', 'sw', 'swa', 'swadiversity', 'swag', 'swap', 'swear', 'sweet', 'sweetheart', 'sweetingr', 'switch', 'sxm', 'sydney', 'sylvie', 'sympathetic', 'sympathy', 'syracuse', 'sys', 'system', 'ta', 'tab', 'table', 'tablet', 'tag', 'tail', 'tailwind', 'take', 'takeoff', 'talent', 'talk', 'tamara', 'tammy', 'tampa', 'tank', 'tape', 'target', 'tarmac', 'tarmack', 'taste', 'tatianake', 'tax', 'taxi', 'taylor', 'tb', 'tcf', 'te', 'tea', 'teach', 'team', 'tear', 'tech', 'technical', 'technically', 'technology', 'teen', 'tel', 'telephone', 'television', 'tell', 'temp', 'temperature', 'ten', 'term', 'terminal', 'terrible', 'terribleservice', 'terribly', 'terrific', 'terry', 'test', 'texas', 'text', 'texte', 'tfw', 'th', 'thank', 'thankful', 'thankfully', 'thanks', 'thankyou', 'thanx', 'theacademy', 'theellenshow', 'theft', 'thenationaluae', 'thenewamerican', 'therefore', 'thewayoftheid', 'theworst', 'thick', 'thin', 'thing', 'think', 'thinking', 'third', 'thirty', 'thnx', 'tho', 'thoma', 'though', 'thought', 'thousand', 'thparty', 'thread', 'threaten', 'three', 'throughout', 'throw', 'thru', 'thur', 'thursday', 'thus', 'thx', 'tick', 'ticket', 'tide', 'tight', 'til', 'till', 'time', 'timely', 'tiny', 'tip', 'tire', 'tired', 'tiredofwaite', 'tisk', 'tix', 'tixs', 'tjtmo', 'tjycqh', 'tk', 'tke', 'tks', 'tkt', 'tkts', 'tkvmhbkec', 'tlc', 'tld', 'tlh', 'tmm', 'tmr', 'tmrw', 'tmw', 'tnx', 'toby', 'tock', 'today', 'toddler', 'together', 'toilet', 'toiletry', 'tok', 'token', 'tokyo', 'told', 'toledo', 'tolerable', 'toll', 'tollfree', 'tom', 'tomorrow', 'tomrw', 'ton', 'tone', 'tonic', 'tonight', 'tonite', 'tonne', 'tonysimsmma', 'tool', 'toolittletoolate', 'tooooo', 'toothpaste', 'top', 'toplay', 'topnew', 'topping', 'tori', 'toronto', 'torture', 'tortured', 'tos', 'toss', 'total', 'totalfail', 'totally', 'totallyconfuse', 'touch', 'touchdown', 'touching', 'tough', 'toughtomakeplan', 'tour', 'tourist', 'toward', 'towards', 'tower', 'town', 'toyingwithouremotion', 'tpa', 'tpallini', 'trace', 'track', 'tracker', 'tracking', 'trade', 'trading', 'tradition', 'traditionally', 'traffic', 'train', 'training', 'transaction', 'transactional', 'transatlantic', 'transcontinental', 'transfer', 'transferable', 'transit', 'transition', 'translation', 'transparency', 'transparent', 'transport', 'transportation', 'trap', 'trappedhouston', 'trash', 'travel', 'travelbank', 'traveler', 'travelfail', 'travelhelp', 'travelingwithsmallkid', 'traveller', 'travelocity', 'traveloneworld', 'travelproblem', 'travelpulse', 'travelzoo', 'travi', 'travisamex', 'tray', 'treasure', 'treat', 'treatment', 'tree', 'treenut', 'tremendous', 'tremendously', 'triage', 'trial', 'tribute', 'trick', 'trickle', 'triflight', 'trip', 'tripitpro', 'tripofalifetime', 'trite', 'trivia', 'trivialize', 'trk', 'tropic', 'troubadour', 'trouble', 'troubleshoot', 'troy', 'tru', 'truck', 'true', 'trueblue', 'truebluecolor', 'truebluelove', 'truebluemember', 'truebluepoint', 'truly', 'trump', 'trust', 'truth', 'truthful', 'trv', 'trvl', 'try', 'tryin', 'tryn', 'tryna', 'ts', 'tsa', 'tsaprecheck', 'tsk', 'ttg', 'tuck', 'tucson', 'tue', 'tuesday', 'tuftsenergyconf', 'tulsa', 'tumitravel', 'tune', 'turbulence', 'turkish', 'turn', 'turnaround', 'turrible', 'tus', 'tux', 'tv', 'tvs', 'tweak', 'tweet', 'tweetin', 'twelve', 'twenty', 'twice', 'twiiter', 'twin', 'twist', 'twitter', 'twitterhug', 'two', 'twtr', 'tx', 'txfd', 'txt', 'txte', 'ty', 'type', 'typical', 'typically', 'typo', 'tyr', 'tys', 'tysvm', 'tyvm', 'ua', 'ual', 'ubetter', 'uctraveladvisor', 'ucvnilmb', 'ud', 'udub', 'ugh', 'uh', 'uhuh', 'uk', 'ultimately', 'um', 'umm', 'umosaicmecrazy', 'un', 'unable', 'unacceptable', 'unaccomidate', 'unaccompanied', 'unaccounte', 'unamerican', 'unanswered', 'unansweredquestion', 'unanticipated', 'unapologetic', 'unavailable', 'unavoidable', 'unaware', 'unbalanced', 'unbelievable', 'unbelievably', 'uncalled', 'uncaring', 'uncertainty', 'uncharacteristic', 'uncle', 'uncomfortable', 'uncompromise', 'unconscionable', 'uncontrollable', 'uncontrollably', 'uncool', 'uncvsduke', 'und', 'undefined', 'undergo', 'undermine', 'underserved', 'understaffe', 'understaffed', 'understaffing', 'understand', 'understandable', 'understandably', 'understanding', 'understatement', 'underweight', 'undetermined', 'undie', 'undignified', 'undo', 'undrstnd', 'undue', 'unemployment', 'unexpactable', 'unexpected', 'unexplained', 'unfair', 'unfamiliar', 'unfold', 'unfollowe', 'unforeseeable', 'unfortunate', 'unfortunately', 'unfriendly', 'unfriendlyskie', 'unhappy', 'unhappycustomer', 'unhappytraveler', 'unheard', 'unhelpful', 'unhelpfulness', 'uniform', 'uninformed', 'unite', 'united', 'unitedagainstunited', 'unitedairline', 'unitedairlinessuck', 'unitedairlinessux', 'unitedappeal', 'unitedbreaksguitar', 'unitedfail', 'unitedfirst', 'unitedflightsever', 'unitedflyerhd', 'unitedhatesusall', 'unitedsuck', 'unitedsucksdick', 'unitedvusa', 'unitedwithivy', 'unitedworstever', 'universalorl', 'university', 'unknowledgeable', 'unknown', 'unless', 'unlike', 'unlikely', 'unload', 'unlucky', 'unmanned', 'unmet', 'unmonitored', 'unmove', 'unnecessarily', 'unnecessary', 'unnoticed', 'uno', 'unorganized', 'unplanned', 'unpleasant', 'unplease', 'unprecedented', 'unpredictable', 'unprepared', 'unproductive', 'unprofessional', 'unprofessionally', 'unreal', 'unreasonable', 'unrelate', 'unreliable', 'unrivalle', 'unsafe', 'unsat', 'unscheduled', 'unsecured', 'unserved', 'unsettling', 'unspecified', 'unsuccessful', 'unsuitable', 'unsure', 'unsympathetic', 'unt', 'untd', 'untrue', 'untruthful', 'untz', 'unusable', 'unused', 'unusual', 'unveil', 'unwilling', 'unwise', 'upc', 'upcoming', 'update', 'upgd', 'upgrade', 'upgrademe', 'uphold', 'uplink', 'upload', 'upon', 'uppp', 'upset', 'upsetting', 'upstate', 'upwherewebelong', 'ur', 'urge', 'urgency', 'urgent', 'urgently', 'urself', 'usa', 'usable', 'usage', 'usair', 'usaireay', 'usairhead', 'usairsuck', 'usairway', 'usairways', 'usairwayscenter', 'usairwaysfail', 'usairwaysfailscustomer', 'usairwaysfflyer', 'usairwaysmobile', 'usairwayssuck', 'usaiway', 'usatoday', 'usaw', 'usb', 'usdelay', 'use', 'useful', 'usele', 'useless', 'user', 'username', 'usnavy', 'usual', 'usually', 'usurious', 'usxlon', 'utah', 'utdalla', 'ute', 'utevgw', 'utmost', 'utterly', 'uvf', 'uw', 'uwon', 'ux', 'uxzj', 'va', 'vabeatsjblue', 'vaca', 'vacate', 'vacatime', 'vacation', 'vacationfail', 'vacay', 'vague', 'vail', 'vainglorygame', 'valentine', 'valentinesday', 'valid', 'validity', 'vallarta', 'valley', 'valuable', 'value', 'van', 'vancouver', 'vanessaannz', 'vanish', 'vanity', 'vape', 'various', 'vary', 'vastly', 'vbrq', 'vc', 'vcp', 'vday', 'vebeen', 'veer', 'veg', 'vegan', 'vegas', 'vegetarian', 'veggie', 'vein', 'velcro', 'velour', 'velourlive', 'venezuela', 'vent', 'ventilation', 'venture', 'verbiage', 'verification', 'verify', 'verizonwireless', 'vermont', 'versa', 'versace', 'version', 'versus', 'veryloyalcustomer', 'vet', 'veteran', 'vetr', 'via', 'viable', 'vibe', 'vibrant', 'vice', 'vicky', 'victim', 'vida', 'video', 'vieg', 'vieque', 'view', 'vigil', 'vile', 'village', 'vincenzolandino', 'vincesview', 'vindictive', 'vineyard', 'vino', 'vinyl', 'vinylvegas', 'violation', 'vip', 'vipliveinthevieyard', 'vipswagbag', 'viraltech', 'virgin', 'virginamerica', 'virginatlantic', 'virginia', 'virginmedia', 'virtual', 'visa', 'visible', 'visibly', 'vision', 'visit', 'visor', 'visualclubconcept', 'vital', 'vm', 'vmsg', 'vnmb', 'vocab', 'voice', 'voicemail', 'void', 'volkswagen', 'volt', 'volume', 'voluntarily', 'volunteer', 'vomit', 'vote', 'voucher', 'vow', 'vp', 'vrm', 'vs', 'vsffrd', 'vuelo', 'vulnerable', 'vx', 'vxsafetydance', 'vyil', 'wa', 'waa', 'wack', 'wage', 'wager', 'wail', 'wait', 'waitin', 'waiting', 'waitingagain', 'waitingforbag', 'waitinginphilly', 'waitingonapilot', 'waive', 'waiver', 'waivethefee', 'wake', 'wakinginmemphis', 'walk', 'walkway', 'wall', 'wallet', 'wallstreet', 'wallstslumlord', 'waltdisneyworld', 'walton', 'wamo', 'wander', 'wanna', 'wannaa', 'wannagohome', 'want', 'wantcharge', 'wantmymoneyback', 'ward', 'warehouse', 'warm', 'warmth', 'warn', 'warning', 'warrant', 'warrior', 'washington', 'wasila', 'waste', 'wastedeffort', 'wastedtime', 'wasteoftime', 'wat', 'watch', 'watching', 'wate', 'water', 'waterbury', 'watson', 'wave', 'way', 'wayne', 'wd', 'wdw', 'weak', 'weakservice', 'weaktea', 'wear', 'weary', 'weasel', 'weather', 'weatherless', 'weave', 'web', 'webbernatural', 'weblink', 'webs', 'website', 'wed', 'wedding', 'wednesday', 'wedontcarebecauseyoupaidalready', 'week', 'weekday', 'weekend', 'weeklycommuteonaa', 'weigh', 'weight', 'weird', 'welcome', 'welfare', 'well', 'welldone', 'wellplaye', 'welp', 'wemosaictogether', 'wen', 'wendell', 'wendi', 'wentook', 'werenot', 'werenotincalianymore', 'werin', 'wernicke', 'west', 'westchester', 'western', 'westjet', 'westpalmbeachbound', 'wet', 'wether', 'wewantcomp', 'wewanttoknow', 'wewillsee', 'weyburn', 'whack', 'whammie', 'whatacluster', 'whatajoke', 'whatever', 'whatfrozenpipe', 'whatgive', 'whatsoever', 'whatstheholdup', 'whch', 'wheel', 'wheelchair', 'wheelchairs', 'wheelsup', 'wheeze', 'whenever', 'whenitsnowsitpour', 'whereas', 'whereismybag', 'whereisthelove', 'wheresmyrefund', 'wheresthecustomerserviceat', 'wheresthepilot', 'whether', 'whichever', 'whichisworsedenordfw', 'whilst', 'whip', 'whiplash', 'whiskey', 'whisper', 'white', 'whitterbug', 'whoa', 'whoever', 'whole', 'wholly', 'whoooo', 'whoot', 'whose', 'whrsthecoach', 'wht', 'whyabcwhy', 'whyairtravelsuck', 'whyareyouyelle', 'whybeaaff', 'whydidntiflysouthwest', 'whyfly', 'whyisusairalwaysdelaye', 'whyjeff', 'whyyounoloveme', 'whyyy', 'wi', 'wichita', 'wide', 'wife', 'wifey', 'wifi', 'wifiless', 'wikipearl', 'wilco', 'william', 'willie', 'willing', 'wilmington', 'wilson', 'win', 'wind', 'windchill', 'window', 'wine', 'wing', 'wink', 'winkwink', 'winner', 'winnipeg', 'winston', 'winter', 'winterop', 'winterstorm', 'winterweather', 'winwin', 'wipe', 'wire', 'wireless', 'wise', 'wiser', 'wish', 'wishmyflightwaslonger', 'wit', 'within', 'without', 'witness', 'witty', 'wiyh', 'wk', 'wknd', 'wkrb', 'wks', 'wlcm', 'wld', 'wmcactionnew', 'wmn', 'wn', 'wnqvm', 'wo', 'woase', 'woaw', 'woeful', 'woman', 'wonder', 'wonderful', 'wonderfully', 'wong', 'wonke', 'woo', 'woodland', 'woof', 'woohoo', 'word', 'work', 'workaround', 'worker', 'working', 'workout', 'worksnicely', 'world', 'worldwide', 'worried', 'worrisome', 'worry', 'worse', 'worst', 'worstairline', 'worstairlineever', 'worstairlineinamerica', 'worstcustomerservice', 'worstcustomerserviceever', 'worstever', 'worstflight', 'worstflightever', 'worstthingever', 'worsttraveldayever', 'worsttripofmylife', 'worth', 'worthless', 'worthy', 'would', 'woulda', 'wouldt', 'wound', 'wow', 'wpg', 'wrap', 'wrath', 'wreck', 'wrench', 'wrestle', 'write', 'wrong', 'wrongansw', 'wrongfully', 'wrongiswrong', 'ws', 'wsj', 'wsjplus', 'wtf', 'wtfodd', 'wth', 'wtop', 'wtw', 'wudda', 'wut', 'wwr', 'wx', 'wylie', 'wyome', 'xaowkv', 'xb', 'xd', 'xdaily', 'xgfs', 'xjare', 'xklrog', 'xld', 'xmas', 'xna', 'xox', 'xoxo', 'xt', 'xweekly', 'xx', 'xxx', 'xzmscw', 'ya', 'yaayy', 'yard', 'yasss', 'yay', 'yayayay', 'yb', 'ybv', 'yday', 'yea', 'yeah', 'year', 'yearly', 'yearslate', 'yeehaw', 'yeg', 'yell', 'yellow', 'yep', 'yepuse', 'yer', 'yes', 'yeseniahernandez', 'yessir', 'yest', 'yesterday', 'yet', 'yhz', 'yike', 'yo', 'yoga', 'yogurt', 'york', 'youareonyourown', 'youdidit', 'young', 'youragentshavenoclue', 'yourairlinesuck', 'youredoingitwrong', 'youretheworst', 'yourlocalnyer', 'yourock', 'yourphonesystemsuck', 'yousuck', 'yout', 'youth', 'yow', 'yr', 'yrs', 'ystday', 'ystrdy', 'yucki', 'yul', 'yuma', 'yup', 'yvonne', 'yvonneokaka', 'yvr', 'yxe', 'yxu', 'yyc', 'yyj', 'yyz', 'yyzua', 'yzxfe', 'za', 'zack', 'zakkohane', 'zero', 'zfv', 'zgoqoxjbqy', 'zip', 'zkatcher', 'zombie', 'zone', 'zoom', 'zrh', 'zuke', 'zurich']\n",
      "(10248, 5000)\n"
     ]
    }
   ],
   "source": [
    "#\n",
    "# Use TfidVectorizer next\n",
    "#\n",
    "from sklearn.feature_extraction.text import TfidfVectorizer\n",
    "tfid_vectorizer = TfidfVectorizer(analyzer = \"word\",   \\\n",
    "                             tokenizer = None,    \\\n",
    "                             preprocessor = None, \\\n",
    "                             stop_words = None,   \\\n",
    "                             max_features = 5000)\n",
    "X = tfid_vectorizer.fit_transform(x_train)\n",
    "print(tfid_vectorizer.get_feature_names())\n",
    "print(X.shape)"
   ]
  },
  {
   "cell_type": "markdown",
   "metadata": {},
   "source": [
    "5. Fit and evaluate model using both type of vectorization. **(6+6 Marks)**\n",
    "\n"
   ]
  },
  {
   "cell_type": "code",
   "execution_count": 125,
   "metadata": {},
   "outputs": [
    {
     "name": "stdout",
     "output_type": "stream",
     "text": [
      "Training the random forest...\n"
     ]
    },
    {
     "name": "stderr",
     "output_type": "stream",
     "text": [
      "[Parallel(n_jobs=-1)]: Using backend ThreadingBackend with 4 concurrent workers.\n"
     ]
    },
    {
     "name": "stdout",
     "output_type": "stream",
     "text": [
      "building tree 1 of 100\n",
      "building tree 2 of 100\n",
      "building tree 3 of 100\n",
      "building tree 4 of 100\n",
      "building tree 5 of 100\n",
      "building tree 6 of 100\n",
      "building tree 7 of 100\n",
      "building tree 8 of 100\n",
      "building tree 9 of 100\n",
      "building tree 10 of 100\n",
      "building tree 11 of 100\n",
      "building tree 12 of 100\n",
      "building tree 13 of 100\n",
      "building tree 14 of 100\n",
      "building tree 15 of 100\n",
      "building tree 16 of 100\n",
      "building tree 17 of 100\n",
      "building tree 18 of 100\n",
      "building tree 19 of 100\n",
      "building tree 20 of 100\n",
      "building tree 21 of 100\n",
      "building tree 22 of 100\n",
      "building tree 23 of 100\n",
      "building tree 24 of 100\n",
      "building tree 25 of 100\n",
      "building tree 26 of 100\n",
      "building tree 27 of 100\n",
      "building tree 28 of 100\n",
      "building tree 29 of 100\n",
      "building tree 30 of 100\n",
      "building tree 31 of 100\n",
      "building tree 32 of 100\n",
      "building tree 33 of 100\n",
      "building tree 34 of 100\n",
      "building tree 35 of 100\n",
      "building tree 36 of 100\n"
     ]
    },
    {
     "name": "stderr",
     "output_type": "stream",
     "text": [
      "[Parallel(n_jobs=-1)]: Done  33 tasks      | elapsed:    8.6s\n"
     ]
    },
    {
     "name": "stdout",
     "output_type": "stream",
     "text": [
      "building tree 37 of 100\n",
      "building tree 38 of 100\n",
      "building tree 39 of 100\n",
      "building tree 40 of 100\n",
      "building tree 41 of 100\n",
      "building tree 42 of 100\n",
      "building tree 43 of 100\n",
      "building tree 44 of 100\n",
      "building tree 45 of 100\n",
      "building tree 46 of 100\n",
      "building tree 47 of 100\n",
      "building tree 48 of 100\n",
      "building tree 49 of 100\n",
      "building tree 50 of 100\n",
      "building tree 51 of 100\n",
      "building tree 52 of 100\n",
      "building tree 53 of 100\n",
      "building tree 54 of 100\n",
      "building tree 55 of 100\n",
      "building tree 56 of 100\n",
      "building tree 57 of 100\n",
      "building tree 58 of 100\n",
      "building tree 59 of 100\n",
      "building tree 60 of 100\n",
      "building tree 61 of 100\n",
      "building tree 62 of 100\n",
      "building tree 63 of 100\n",
      "building tree 64 of 100\n",
      "building tree 65 of 100\n",
      "building tree 66 of 100\n",
      "building tree 67 of 100\n",
      "building tree 68 of 100\n",
      "building tree 69 of 100\n",
      "building tree 70 of 100\n",
      "building tree 71 of 100\n",
      "building tree 72 of 100\n",
      "building tree 73 of 100\n",
      "building tree 74 of 100\n",
      "building tree 75 of 100\n",
      "building tree 76 of 100\n",
      "building tree 77 of 100\n",
      "building tree 78 of 100\n",
      "building tree 79 of 100\n",
      "building tree 80 of 100\n",
      "building tree 81 of 100\n",
      "building tree 82 of 100\n",
      "building tree 83 of 100\n",
      "building tree 84 of 100\n",
      "building tree 85 of 100\n",
      "building tree 86 of 100\n",
      "building tree 87 of 100\n",
      "building tree 88 of 100\n",
      "building tree 89 of 100\n",
      "building tree 90 of 100\n",
      "building tree 91 of 100\n",
      "building tree 92 of 100\n",
      "building tree 93 of 100\n",
      "building tree 94 of 100\n",
      "building tree 95 of 100\n",
      "building tree 96 of 100\n",
      "building tree 97 of 100\n",
      "building tree 98 of 100\n",
      "building tree 99 of 100\n",
      "building tree 100 of 100\n"
     ]
    },
    {
     "name": "stderr",
     "output_type": "stream",
     "text": [
      "[Parallel(n_jobs=-1)]: Done 100 out of 100 | elapsed:   25.5s finished\n"
     ]
    },
    {
     "name": "stdout",
     "output_type": "stream",
     "text": [
      "RandomForestClassifier(bootstrap=True, ccp_alpha=0.0, class_weight=None,\n",
      "                       criterion='gini', max_depth=None, max_features='auto',\n",
      "                       max_leaf_nodes=None, max_samples=None,\n",
      "                       min_impurity_decrease=0.0, min_impurity_split=None,\n",
      "                       min_samples_leaf=1, min_samples_split=2,\n",
      "                       min_weight_fraction_leaf=0.0, n_estimators=100,\n",
      "                       n_jobs=-1, oob_score=False, random_state=None, verbose=2,\n",
      "                       warm_start=False)\n"
     ]
    },
    {
     "name": "stderr",
     "output_type": "stream",
     "text": [
      "[Parallel(n_jobs=-1)]: Using backend LokyBackend with 4 concurrent workers.\n",
      "[Parallel(n_jobs=-1)]: Done  33 tasks      | elapsed:   12.8s\n",
      "[Parallel(n_jobs=-1)]: Done 100 out of 100 | elapsed:   30.1s finished\n",
      "[Parallel(n_jobs=4)]: Using backend ThreadingBackend with 4 concurrent workers.\n",
      "[Parallel(n_jobs=4)]: Done  33 tasks      | elapsed:    0.0s\n",
      "[Parallel(n_jobs=4)]: Done 100 out of 100 | elapsed:    0.0s finished\n",
      "[Parallel(n_jobs=-1)]: Using backend LokyBackend with 4 concurrent workers.\n",
      "[Parallel(n_jobs=-1)]: Done  33 tasks      | elapsed:    9.9s\n",
      "[Parallel(n_jobs=-1)]: Done 100 out of 100 | elapsed:   26.9s finished\n",
      "[Parallel(n_jobs=4)]: Using backend ThreadingBackend with 4 concurrent workers.\n",
      "[Parallel(n_jobs=4)]: Done  33 tasks      | elapsed:    0.0s\n",
      "[Parallel(n_jobs=4)]: Done 100 out of 100 | elapsed:    0.0s finished\n",
      "[Parallel(n_jobs=-1)]: Using backend LokyBackend with 4 concurrent workers.\n",
      "[Parallel(n_jobs=-1)]: Done  33 tasks      | elapsed:   10.0s\n",
      "[Parallel(n_jobs=-1)]: Done 100 out of 100 | elapsed:   27.5s finished\n",
      "[Parallel(n_jobs=4)]: Using backend ThreadingBackend with 4 concurrent workers.\n",
      "[Parallel(n_jobs=4)]: Done  33 tasks      | elapsed:    0.0s\n",
      "[Parallel(n_jobs=4)]: Done 100 out of 100 | elapsed:    0.0s finished\n",
      "[Parallel(n_jobs=-1)]: Using backend LokyBackend with 4 concurrent workers.\n",
      "[Parallel(n_jobs=-1)]: Done  33 tasks      | elapsed:   10.2s\n",
      "[Parallel(n_jobs=-1)]: Done 100 out of 100 | elapsed:   26.9s finished\n",
      "[Parallel(n_jobs=4)]: Using backend ThreadingBackend with 4 concurrent workers.\n",
      "[Parallel(n_jobs=4)]: Done  33 tasks      | elapsed:    0.0s\n",
      "[Parallel(n_jobs=4)]: Done 100 out of 100 | elapsed:    0.0s finished\n",
      "[Parallel(n_jobs=-1)]: Using backend LokyBackend with 4 concurrent workers.\n",
      "[Parallel(n_jobs=-1)]: Done  33 tasks      | elapsed:    9.6s\n",
      "[Parallel(n_jobs=-1)]: Done 100 out of 100 | elapsed:   26.7s finished\n",
      "[Parallel(n_jobs=4)]: Using backend ThreadingBackend with 4 concurrent workers.\n",
      "[Parallel(n_jobs=4)]: Done  33 tasks      | elapsed:    0.0s\n",
      "[Parallel(n_jobs=4)]: Done 100 out of 100 | elapsed:    0.0s finished\n",
      "[Parallel(n_jobs=-1)]: Using backend LokyBackend with 4 concurrent workers.\n",
      "[Parallel(n_jobs=-1)]: Done  33 tasks      | elapsed:    9.7s\n",
      "[Parallel(n_jobs=-1)]: Done 100 out of 100 | elapsed:   26.9s finished\n",
      "[Parallel(n_jobs=4)]: Using backend ThreadingBackend with 4 concurrent workers.\n",
      "[Parallel(n_jobs=4)]: Done  33 tasks      | elapsed:    0.0s\n",
      "[Parallel(n_jobs=4)]: Done 100 out of 100 | elapsed:    0.0s finished\n",
      "[Parallel(n_jobs=-1)]: Using backend LokyBackend with 4 concurrent workers.\n",
      "[Parallel(n_jobs=-1)]: Done  33 tasks      | elapsed:    9.7s\n",
      "[Parallel(n_jobs=-1)]: Done 100 out of 100 | elapsed:   27.7s finished\n",
      "[Parallel(n_jobs=4)]: Using backend ThreadingBackend with 4 concurrent workers.\n",
      "[Parallel(n_jobs=4)]: Done  33 tasks      | elapsed:    0.0s\n",
      "[Parallel(n_jobs=4)]: Done 100 out of 100 | elapsed:    0.0s finished\n",
      "[Parallel(n_jobs=-1)]: Using backend LokyBackend with 4 concurrent workers.\n",
      "[Parallel(n_jobs=-1)]: Done  33 tasks      | elapsed:   10.1s\n",
      "[Parallel(n_jobs=-1)]: Done 100 out of 100 | elapsed:   28.1s finished\n",
      "[Parallel(n_jobs=4)]: Using backend ThreadingBackend with 4 concurrent workers.\n",
      "[Parallel(n_jobs=4)]: Done  33 tasks      | elapsed:    0.0s\n",
      "[Parallel(n_jobs=4)]: Done 100 out of 100 | elapsed:    0.0s finished\n",
      "[Parallel(n_jobs=-1)]: Using backend LokyBackend with 4 concurrent workers.\n",
      "[Parallel(n_jobs=-1)]: Done  33 tasks      | elapsed:   10.3s\n",
      "[Parallel(n_jobs=-1)]: Done 100 out of 100 | elapsed:   26.9s finished\n",
      "[Parallel(n_jobs=4)]: Using backend ThreadingBackend with 4 concurrent workers.\n",
      "[Parallel(n_jobs=4)]: Done  33 tasks      | elapsed:    0.0s\n",
      "[Parallel(n_jobs=4)]: Done 100 out of 100 | elapsed:    0.0s finished\n",
      "[Parallel(n_jobs=-1)]: Using backend LokyBackend with 4 concurrent workers.\n",
      "[Parallel(n_jobs=-1)]: Done  33 tasks      | elapsed:    9.4s\n",
      "[Parallel(n_jobs=-1)]: Done 100 out of 100 | elapsed:   26.8s finished\n",
      "[Parallel(n_jobs=4)]: Using backend ThreadingBackend with 4 concurrent workers.\n",
      "[Parallel(n_jobs=4)]: Done  33 tasks      | elapsed:    0.0s\n"
     ]
    },
    {
     "name": "stdout",
     "output_type": "stream",
     "text": [
      "0.7551708269817073\n"
     ]
    },
    {
     "name": "stderr",
     "output_type": "stream",
     "text": [
      "[Parallel(n_jobs=4)]: Done 100 out of 100 | elapsed:    0.0s finished\n"
     ]
    }
   ],
   "source": [
    "from sklearn.ensemble import RandomForestClassifier\n",
    "from sklearn.model_selection import cross_val_score\n",
    "import numpy as np\n",
    "# Initialize a Random Forest classifier with 100 trees\n",
    "forest = RandomForestClassifier(verbose=2,n_jobs=-1,n_estimators = 100) \n",
    "# Fit the forest to the training set, using the bag of words as features and the sentiment labels as the response variable\n",
    "#\n",
    "print (\"Training the random forest...\")\n",
    "forest = forest.fit( train_data_features, y_train )\n",
    "# random forest performance through cross vaidation \n",
    "print (forest)\n",
    "print (np.mean(cross_val_score(forest,train_data_features,y_train,cv=10)))"
   ]
  },
  {
   "cell_type": "code",
   "execution_count": 126,
   "metadata": {},
   "outputs": [
    {
     "name": "stderr",
     "output_type": "stream",
     "text": [
      "[Parallel(n_jobs=4)]: Using backend ThreadingBackend with 4 concurrent workers.\n",
      "[Parallel(n_jobs=4)]: Done  33 tasks      | elapsed:    0.0s\n"
     ]
    },
    {
     "name": "stdout",
     "output_type": "stream",
     "text": [
      "['positive' 'negative' 'positive' ... 'negative' 'positive' 'negative']\n"
     ]
    },
    {
     "name": "stderr",
     "output_type": "stream",
     "text": [
      "[Parallel(n_jobs=4)]: Done 100 out of 100 | elapsed:    0.3s finished\n"
     ]
    }
   ],
   "source": [
    "# Get a bag of words for the test set, and convert to a numpy array\n",
    "test_data_features = count_vectorizer.transform(x_test)\n",
    "test_data_features = test_data_features.toarray()\n",
    "\n",
    "# Use the random forest to make sentiment label predictions\n",
    "result = forest.predict(test_data_features)\n",
    "print (result)\n"
   ]
  },
  {
   "cell_type": "code",
   "execution_count": 127,
   "metadata": {},
   "outputs": [
    {
     "name": "stderr",
     "output_type": "stream",
     "text": [
      "[Parallel(n_jobs=-1)]: Using backend LokyBackend with 4 concurrent workers.\n",
      "[Parallel(n_jobs=-1)]: Done  33 tasks      | elapsed:   10.0s\n",
      "[Parallel(n_jobs=-1)]: Done 100 out of 100 | elapsed:   27.1s finished\n",
      "[Parallel(n_jobs=4)]: Using backend ThreadingBackend with 4 concurrent workers.\n",
      "[Parallel(n_jobs=4)]: Done  33 tasks      | elapsed:    0.0s\n",
      "[Parallel(n_jobs=4)]: Done 100 out of 100 | elapsed:    0.0s finished\n",
      "[Parallel(n_jobs=-1)]: Using backend LokyBackend with 4 concurrent workers.\n",
      "[Parallel(n_jobs=-1)]: Done  33 tasks      | elapsed:   10.0s\n",
      "[Parallel(n_jobs=-1)]: Done 100 out of 100 | elapsed:   26.4s finished\n",
      "[Parallel(n_jobs=4)]: Using backend ThreadingBackend with 4 concurrent workers.\n",
      "[Parallel(n_jobs=4)]: Done  33 tasks      | elapsed:    0.0s\n",
      "[Parallel(n_jobs=4)]: Done 100 out of 100 | elapsed:    0.0s finished\n",
      "[Parallel(n_jobs=-1)]: Using backend LokyBackend with 4 concurrent workers.\n",
      "[Parallel(n_jobs=-1)]: Done  33 tasks      | elapsed:    9.4s\n",
      "[Parallel(n_jobs=-1)]: Done 100 out of 100 | elapsed:   26.5s finished\n",
      "[Parallel(n_jobs=4)]: Using backend ThreadingBackend with 4 concurrent workers.\n",
      "[Parallel(n_jobs=4)]: Done  33 tasks      | elapsed:    0.0s\n",
      "[Parallel(n_jobs=4)]: Done 100 out of 100 | elapsed:    0.0s finished\n",
      "[Parallel(n_jobs=-1)]: Using backend LokyBackend with 4 concurrent workers.\n",
      "[Parallel(n_jobs=-1)]: Done  33 tasks      | elapsed:    9.5s\n",
      "[Parallel(n_jobs=-1)]: Done 100 out of 100 | elapsed:   26.4s finished\n",
      "[Parallel(n_jobs=4)]: Using backend ThreadingBackend with 4 concurrent workers.\n",
      "[Parallel(n_jobs=4)]: Done  33 tasks      | elapsed:    0.0s\n",
      "[Parallel(n_jobs=4)]: Done 100 out of 100 | elapsed:    0.0s finished\n",
      "[Parallel(n_jobs=-1)]: Using backend LokyBackend with 4 concurrent workers.\n",
      "[Parallel(n_jobs=-1)]: Done  33 tasks      | elapsed:    9.4s\n",
      "[Parallel(n_jobs=-1)]: Done 100 out of 100 | elapsed:   26.3s finished\n",
      "[Parallel(n_jobs=4)]: Using backend ThreadingBackend with 4 concurrent workers.\n",
      "[Parallel(n_jobs=4)]: Done  33 tasks      | elapsed:    0.0s\n",
      "[Parallel(n_jobs=4)]: Done 100 out of 100 | elapsed:    0.0s finished\n",
      "[Parallel(n_jobs=-1)]: Using backend LokyBackend with 4 concurrent workers.\n",
      "[Parallel(n_jobs=-1)]: Done  33 tasks      | elapsed:   10.2s\n",
      "[Parallel(n_jobs=-1)]: Done 100 out of 100 | elapsed:   27.5s finished\n",
      "[Parallel(n_jobs=4)]: Using backend ThreadingBackend with 4 concurrent workers.\n",
      "[Parallel(n_jobs=4)]: Done  33 tasks      | elapsed:    0.0s\n",
      "[Parallel(n_jobs=4)]: Done 100 out of 100 | elapsed:    0.0s finished\n",
      "[Parallel(n_jobs=-1)]: Using backend LokyBackend with 4 concurrent workers.\n",
      "[Parallel(n_jobs=-1)]: Done  33 tasks      | elapsed:    9.9s\n",
      "[Parallel(n_jobs=-1)]: Done 100 out of 100 | elapsed:   27.0s finished\n",
      "[Parallel(n_jobs=4)]: Using backend ThreadingBackend with 4 concurrent workers.\n",
      "[Parallel(n_jobs=4)]: Done  33 tasks      | elapsed:    0.0s\n",
      "[Parallel(n_jobs=4)]: Done 100 out of 100 | elapsed:    0.0s finished\n",
      "[Parallel(n_jobs=-1)]: Using backend LokyBackend with 4 concurrent workers.\n",
      "[Parallel(n_jobs=-1)]: Done  33 tasks      | elapsed:    9.7s\n",
      "[Parallel(n_jobs=-1)]: Done 100 out of 100 | elapsed:   26.8s finished\n",
      "[Parallel(n_jobs=4)]: Using backend ThreadingBackend with 4 concurrent workers.\n",
      "[Parallel(n_jobs=4)]: Done  33 tasks      | elapsed:    0.0s\n",
      "[Parallel(n_jobs=4)]: Done 100 out of 100 | elapsed:    0.0s finished\n",
      "[Parallel(n_jobs=-1)]: Using backend LokyBackend with 4 concurrent workers.\n",
      "[Parallel(n_jobs=-1)]: Done  33 tasks      | elapsed:    9.4s\n",
      "[Parallel(n_jobs=-1)]: Done 100 out of 100 | elapsed:   25.6s finished\n",
      "[Parallel(n_jobs=4)]: Using backend ThreadingBackend with 4 concurrent workers.\n",
      "[Parallel(n_jobs=4)]: Done  33 tasks      | elapsed:    0.0s\n",
      "[Parallel(n_jobs=4)]: Done 100 out of 100 | elapsed:    0.0s finished\n",
      "[Parallel(n_jobs=-1)]: Using backend LokyBackend with 4 concurrent workers.\n",
      "[Parallel(n_jobs=-1)]: Done  33 tasks      | elapsed:    9.2s\n",
      "[Parallel(n_jobs=-1)]: Done 100 out of 100 | elapsed:   26.4s finished\n",
      "[Parallel(n_jobs=4)]: Using backend ThreadingBackend with 4 concurrent workers.\n",
      "[Parallel(n_jobs=4)]: Done  33 tasks      | elapsed:    0.0s\n",
      "[Parallel(n_jobs=4)]: Done 100 out of 100 | elapsed:    0.0s finished\n"
     ]
    },
    {
     "name": "stdout",
     "output_type": "stream",
     "text": [
      "Train Accuracy score :  0.7553662347560975\n",
      "Test Accuracy score :  0.7566029143897997\n",
      "\n",
      "Confusion Matrix\n",
      "[[2483  184   74]\n",
      " [ 420  428   88]\n",
      " [ 189  114  412]]\n",
      "\n",
      "\n",
      "              precision    recall  f1-score   support\n",
      "\n",
      "    negative      0.803     0.906     0.851      2741\n",
      "     neutral      0.590     0.457     0.515       936\n",
      "    positive      0.718     0.576     0.639       715\n",
      "\n",
      "    accuracy                          0.757      4392\n",
      "   macro avg      0.703     0.646     0.669      4392\n",
      "weighted avg      0.744     0.757     0.745      4392\n",
      "\n"
     ]
    }
   ],
   "source": [
    "print(\"Train Accuracy score : \", np.mean(cross_val_score(forest,train_data_features,y_train,cv=10)))\n",
    "print(\"Test Accuracy score : \",  accuracy_score(y_test, result))\n",
    "print(\"\")\n",
    "print('Confusion Matrix')\n",
    "\n",
    "# Print the confusion matrix\n",
    "print(confusion_matrix(y_test, result))\n",
    "print()\n",
    "print()\n",
    "# Print the precision and recall, among other metrics\n",
    "print(classification_report(y_test, result, digits=3))"
   ]
  },
  {
   "cell_type": "code",
   "execution_count": 128,
   "metadata": {},
   "outputs": [
    {
     "name": "stdout",
     "output_type": "stream",
     "text": [
      "Training the random forest...\n",
      "building tree 1 of 100building tree 2 of 100building tree 3 of 100\n",
      "building tree 4 of 100\n",
      "\n",
      "\n",
      "building tree 5 of 100building tree 6 of 100"
     ]
    },
    {
     "name": "stderr",
     "output_type": "stream",
     "text": [
      "[Parallel(n_jobs=-1)]: Using backend ThreadingBackend with 4 concurrent workers.\n"
     ]
    },
    {
     "name": "stdout",
     "output_type": "stream",
     "text": [
      "\n",
      "\n",
      "building tree 7 of 100\n",
      "building tree 8 of 100\n",
      "building tree 9 of 100\n",
      "building tree 10 of 100\n",
      "building tree 11 of 100\n",
      "building tree 12 of 100\n",
      "building tree 13 of 100\n",
      "building tree 14 of 100\n",
      "building tree 15 of 100\n",
      "building tree 16 of 100\n",
      "building tree 17 of 100\n",
      "building tree 18 of 100\n",
      "building tree 19 of 100\n",
      "building tree 20 of 100\n",
      "building tree 21 of 100\n",
      "building tree 22 of 100\n",
      "building tree 23 of 100\n",
      "building tree 24 of 100\n",
      "building tree 25 of 100\n",
      "building tree 26 of 100\n",
      "building tree 27 of 100\n",
      "building tree 28 of 100\n",
      "building tree 29 of 100\n",
      "building tree 30 of 100\n",
      "building tree 31 of 100\n",
      "building tree 32 of 100\n",
      "building tree 33 of 100\n",
      "building tree 34 of 100\n",
      "building tree 35 of 100\n",
      "building tree 36 of 100\n"
     ]
    },
    {
     "name": "stderr",
     "output_type": "stream",
     "text": [
      "[Parallel(n_jobs=-1)]: Done  33 tasks      | elapsed:    1.1s\n"
     ]
    },
    {
     "name": "stdout",
     "output_type": "stream",
     "text": [
      "building tree 37 of 100building tree 38 of 100\n",
      "\n",
      "building tree 39 of 100\n",
      "building tree 40 of 100\n",
      "building tree 41 of 100\n",
      "building tree 42 of 100\n",
      "building tree 43 of 100\n",
      "building tree 44 of 100\n",
      "building tree 45 of 100\n",
      "building tree 46 of 100\n",
      "building tree 47 of 100\n",
      "building tree 48 of 100\n",
      "building tree 49 of 100\n",
      "building tree 50 of 100\n",
      "building tree 51 of 100\n",
      "building tree 52 of 100\n",
      "building tree 53 of 100\n",
      "building tree 54 of 100\n",
      "building tree 55 of 100\n",
      "building tree 56 of 100\n",
      "building tree 57 of 100\n",
      "building tree 58 of 100\n",
      "building tree 59 of 100\n",
      "building tree 60 of 100\n",
      "building tree 61 of 100\n",
      "building tree 62 of 100\n",
      "building tree 63 of 100\n",
      "building tree 64 of 100\n",
      "building tree 65 of 100\n",
      "building tree 66 of 100\n",
      "building tree 67 of 100\n",
      "building tree 68 of 100\n",
      "building tree 69 of 100\n",
      "building tree 70 of 100\n",
      "building tree 71 of 100\n",
      "building tree 72 of 100\n",
      "building tree 73 of 100\n",
      "building tree 74 of 100\n",
      "building tree 75 of 100\n",
      "building tree 76 of 100\n",
      "building tree 77 of 100\n",
      "building tree 78 of 100\n",
      "building tree 79 of 100\n",
      "building tree 80 of 100\n",
      "building tree 81 of 100\n",
      "building tree 82 of 100\n",
      "building tree 83 of 100\n",
      "building tree 84 of 100\n",
      "building tree 85 of 100\n",
      "building tree 86 of 100\n",
      "building tree 87 of 100\n",
      "building tree 88 of 100\n",
      "building tree 89 of 100\n",
      "building tree 90 of 100\n",
      "building tree 91 of 100\n",
      "building tree 92 of 100\n",
      "building tree 93 of 100\n",
      "building tree 94 of 100\n",
      "building tree 95 of 100\n",
      "building tree 96 of 100\n",
      "building tree 97 of 100\n",
      "building tree 98 of 100\n",
      "building tree 99 of 100\n",
      "building tree 100 of 100\n",
      "RandomForestClassifier(bootstrap=True, ccp_alpha=0.0, class_weight=None,\n",
      "                       criterion='gini', max_depth=None, max_features='auto',\n",
      "                       max_leaf_nodes=None, max_samples=None,\n",
      "                       min_impurity_decrease=0.0, min_impurity_split=None,\n",
      "                       min_samples_leaf=1, min_samples_split=2,\n",
      "                       min_weight_fraction_leaf=0.0, n_estimators=100,\n",
      "                       n_jobs=-1, oob_score=False, random_state=None, verbose=2,\n",
      "                       warm_start=False)\n"
     ]
    },
    {
     "name": "stderr",
     "output_type": "stream",
     "text": [
      "[Parallel(n_jobs=-1)]: Done 100 out of 100 | elapsed:    3.1s finished\n",
      "[Parallel(n_jobs=-1)]: Using backend LokyBackend with 4 concurrent workers.\n",
      "[Parallel(n_jobs=-1)]: Done  58 tasks      | elapsed:    2.3s\n",
      "[Parallel(n_jobs=-1)]: Done 100 out of 100 | elapsed:    3.7s finished\n",
      "[Parallel(n_jobs=4)]: Using backend ThreadingBackend with 4 concurrent workers.\n",
      "[Parallel(n_jobs=4)]: Done  33 tasks      | elapsed:    0.0s\n",
      "[Parallel(n_jobs=4)]: Done 100 out of 100 | elapsed:    0.0s finished\n",
      "[Parallel(n_jobs=-1)]: Using backend LokyBackend with 4 concurrent workers.\n",
      "[Parallel(n_jobs=-1)]: Done  58 tasks      | elapsed:    2.3s\n",
      "[Parallel(n_jobs=-1)]: Done 100 out of 100 | elapsed:    3.7s finished\n",
      "[Parallel(n_jobs=4)]: Using backend ThreadingBackend with 4 concurrent workers.\n",
      "[Parallel(n_jobs=4)]: Done  33 tasks      | elapsed:    0.0s\n",
      "[Parallel(n_jobs=4)]: Done 100 out of 100 | elapsed:    0.0s finished\n",
      "[Parallel(n_jobs=-1)]: Using backend LokyBackend with 4 concurrent workers.\n",
      "[Parallel(n_jobs=-1)]: Done  58 tasks      | elapsed:    2.3s\n",
      "[Parallel(n_jobs=-1)]: Done 100 out of 100 | elapsed:    3.7s finished\n",
      "[Parallel(n_jobs=4)]: Using backend ThreadingBackend with 4 concurrent workers.\n",
      "[Parallel(n_jobs=4)]: Done  33 tasks      | elapsed:    0.0s\n",
      "[Parallel(n_jobs=4)]: Done 100 out of 100 | elapsed:    0.0s finished\n",
      "[Parallel(n_jobs=-1)]: Using backend LokyBackend with 4 concurrent workers.\n",
      "[Parallel(n_jobs=-1)]: Done  58 tasks      | elapsed:    2.3s\n",
      "[Parallel(n_jobs=-1)]: Done 100 out of 100 | elapsed:    3.8s finished\n",
      "[Parallel(n_jobs=4)]: Using backend ThreadingBackend with 4 concurrent workers.\n",
      "[Parallel(n_jobs=4)]: Done  33 tasks      | elapsed:    0.0s\n",
      "[Parallel(n_jobs=4)]: Done 100 out of 100 | elapsed:    0.0s finished\n",
      "[Parallel(n_jobs=-1)]: Using backend LokyBackend with 4 concurrent workers.\n",
      "[Parallel(n_jobs=-1)]: Done  58 tasks      | elapsed:    2.2s\n",
      "[Parallel(n_jobs=-1)]: Done 100 out of 100 | elapsed:    3.6s finished\n",
      "[Parallel(n_jobs=4)]: Using backend ThreadingBackend with 4 concurrent workers.\n",
      "[Parallel(n_jobs=4)]: Done  33 tasks      | elapsed:    0.0s\n",
      "[Parallel(n_jobs=4)]: Done 100 out of 100 | elapsed:    0.0s finished\n",
      "[Parallel(n_jobs=-1)]: Using backend LokyBackend with 4 concurrent workers.\n",
      "[Parallel(n_jobs=-1)]: Done  58 tasks      | elapsed:    2.3s\n",
      "[Parallel(n_jobs=-1)]: Done 100 out of 100 | elapsed:    3.7s finished\n",
      "[Parallel(n_jobs=4)]: Using backend ThreadingBackend with 4 concurrent workers.\n",
      "[Parallel(n_jobs=4)]: Done  33 tasks      | elapsed:    0.0s\n",
      "[Parallel(n_jobs=4)]: Done 100 out of 100 | elapsed:    0.0s finished\n",
      "[Parallel(n_jobs=-1)]: Using backend LokyBackend with 4 concurrent workers.\n",
      "[Parallel(n_jobs=-1)]: Done  58 tasks      | elapsed:    2.2s\n",
      "[Parallel(n_jobs=-1)]: Done 100 out of 100 | elapsed:    3.6s finished\n",
      "[Parallel(n_jobs=4)]: Using backend ThreadingBackend with 4 concurrent workers.\n",
      "[Parallel(n_jobs=4)]: Done  33 tasks      | elapsed:    0.0s\n",
      "[Parallel(n_jobs=4)]: Done 100 out of 100 | elapsed:    0.0s finished\n",
      "[Parallel(n_jobs=-1)]: Using backend LokyBackend with 4 concurrent workers.\n",
      "[Parallel(n_jobs=-1)]: Done  58 tasks      | elapsed:    2.3s\n",
      "[Parallel(n_jobs=-1)]: Done 100 out of 100 | elapsed:    3.7s finished\n",
      "[Parallel(n_jobs=4)]: Using backend ThreadingBackend with 4 concurrent workers.\n",
      "[Parallel(n_jobs=4)]: Done  33 tasks      | elapsed:    0.0s\n",
      "[Parallel(n_jobs=4)]: Done 100 out of 100 | elapsed:    0.0s finished\n",
      "[Parallel(n_jobs=-1)]: Using backend LokyBackend with 4 concurrent workers.\n",
      "[Parallel(n_jobs=-1)]: Done  58 tasks      | elapsed:    2.3s\n",
      "[Parallel(n_jobs=-1)]: Done 100 out of 100 | elapsed:    3.6s finished\n",
      "[Parallel(n_jobs=4)]: Using backend ThreadingBackend with 4 concurrent workers.\n",
      "[Parallel(n_jobs=4)]: Done  33 tasks      | elapsed:    0.0s\n",
      "[Parallel(n_jobs=4)]: Done 100 out of 100 | elapsed:    0.0s finished\n",
      "[Parallel(n_jobs=-1)]: Using backend LokyBackend with 4 concurrent workers.\n",
      "[Parallel(n_jobs=-1)]: Done  58 tasks      | elapsed:    2.3s\n"
     ]
    },
    {
     "name": "stdout",
     "output_type": "stream",
     "text": [
      "0.7591733993902439\n"
     ]
    },
    {
     "name": "stderr",
     "output_type": "stream",
     "text": [
      "[Parallel(n_jobs=-1)]: Done 100 out of 100 | elapsed:    3.8s finished\n",
      "[Parallel(n_jobs=4)]: Using backend ThreadingBackend with 4 concurrent workers.\n",
      "[Parallel(n_jobs=4)]: Done  33 tasks      | elapsed:    0.0s\n",
      "[Parallel(n_jobs=4)]: Done 100 out of 100 | elapsed:    0.0s finished\n"
     ]
    }
   ],
   "source": [
    "from sklearn.ensemble import RandomForestClassifier\n",
    "from sklearn.model_selection import cross_val_score\n",
    "import numpy as np\n",
    "# Initialize a Random Forest classifier with 100 trees\n",
    "forest = RandomForestClassifier(verbose=2,n_jobs=-1,n_estimators = 100) \n",
    "# Fit the forest to the training set, using the bag of words as \n",
    "# features and the sentiment labels as the response variable\n",
    "#\n",
    "print (\"Training the random forest...\")\n",
    "forest = forest.fit( X, y_train )\n",
    "# random forest performance through cross vaidation \n",
    "print (forest)\n",
    "print (np.mean(cross_val_score(forest,X,y_train,cv=10)))"
   ]
  },
  {
   "cell_type": "code",
   "execution_count": 129,
   "metadata": {},
   "outputs": [
    {
     "name": "stderr",
     "output_type": "stream",
     "text": [
      "[Parallel(n_jobs=4)]: Using backend ThreadingBackend with 4 concurrent workers.\n",
      "[Parallel(n_jobs=4)]: Done  33 tasks      | elapsed:    0.0s\n"
     ]
    },
    {
     "name": "stdout",
     "output_type": "stream",
     "text": [
      "['positive' 'negative' 'negative' ... 'positive' 'positive' 'negative']\n"
     ]
    },
    {
     "name": "stderr",
     "output_type": "stream",
     "text": [
      "[Parallel(n_jobs=4)]: Done 100 out of 100 | elapsed:    0.3s finished\n"
     ]
    }
   ],
   "source": [
    "# Get a bag of words for the test set, and convert to a numpy array\n",
    "test_data_features = tfid_vectorizer.transform(x_test)\n",
    "test_data_features = test_data_features.toarray()\n",
    "\n",
    "# Use the random forest to make sentiment label predictions\n",
    "result = forest.predict(test_data_features)\n",
    "print (result)\n"
   ]
  },
  {
   "cell_type": "code",
   "execution_count": 132,
   "metadata": {},
   "outputs": [
    {
     "name": "stderr",
     "output_type": "stream",
     "text": [
      "[Parallel(n_jobs=-1)]: Using backend LokyBackend with 4 concurrent workers.\n",
      "[Parallel(n_jobs=-1)]: Done  58 tasks      | elapsed:    2.6s\n",
      "[Parallel(n_jobs=-1)]: Done 100 out of 100 | elapsed:    4.0s finished\n",
      "[Parallel(n_jobs=4)]: Using backend ThreadingBackend with 4 concurrent workers.\n",
      "[Parallel(n_jobs=4)]: Done  33 tasks      | elapsed:    0.0s\n",
      "[Parallel(n_jobs=4)]: Done 100 out of 100 | elapsed:    0.0s finished\n",
      "[Parallel(n_jobs=-1)]: Using backend LokyBackend with 4 concurrent workers.\n",
      "[Parallel(n_jobs=-1)]: Done  58 tasks      | elapsed:    2.4s\n",
      "[Parallel(n_jobs=-1)]: Done 100 out of 100 | elapsed:    3.9s finished\n",
      "[Parallel(n_jobs=4)]: Using backend ThreadingBackend with 4 concurrent workers.\n",
      "[Parallel(n_jobs=4)]: Done  33 tasks      | elapsed:    0.0s\n",
      "[Parallel(n_jobs=4)]: Done 100 out of 100 | elapsed:    0.0s finished\n",
      "[Parallel(n_jobs=-1)]: Using backend LokyBackend with 4 concurrent workers.\n",
      "[Parallel(n_jobs=-1)]: Done  58 tasks      | elapsed:    2.4s\n",
      "[Parallel(n_jobs=-1)]: Done 100 out of 100 | elapsed:    3.9s finished\n",
      "[Parallel(n_jobs=4)]: Using backend ThreadingBackend with 4 concurrent workers.\n",
      "[Parallel(n_jobs=4)]: Done  33 tasks      | elapsed:    0.0s\n",
      "[Parallel(n_jobs=4)]: Done 100 out of 100 | elapsed:    0.0s finished\n",
      "[Parallel(n_jobs=-1)]: Using backend LokyBackend with 4 concurrent workers.\n",
      "[Parallel(n_jobs=-1)]: Done  58 tasks      | elapsed:    2.4s\n",
      "[Parallel(n_jobs=-1)]: Done 100 out of 100 | elapsed:    3.9s finished\n",
      "[Parallel(n_jobs=4)]: Using backend ThreadingBackend with 4 concurrent workers.\n",
      "[Parallel(n_jobs=4)]: Done  33 tasks      | elapsed:    0.0s\n",
      "[Parallel(n_jobs=4)]: Done 100 out of 100 | elapsed:    0.0s finished\n",
      "[Parallel(n_jobs=-1)]: Using backend LokyBackend with 4 concurrent workers.\n",
      "[Parallel(n_jobs=-1)]: Done  58 tasks      | elapsed:    2.3s\n",
      "[Parallel(n_jobs=-1)]: Done 100 out of 100 | elapsed:    3.7s finished\n",
      "[Parallel(n_jobs=4)]: Using backend ThreadingBackend with 4 concurrent workers.\n",
      "[Parallel(n_jobs=4)]: Done  33 tasks      | elapsed:    0.0s\n",
      "[Parallel(n_jobs=4)]: Done 100 out of 100 | elapsed:    0.0s finished\n",
      "[Parallel(n_jobs=-1)]: Using backend LokyBackend with 4 concurrent workers.\n",
      "[Parallel(n_jobs=-1)]: Done  58 tasks      | elapsed:    2.3s\n",
      "[Parallel(n_jobs=-1)]: Done 100 out of 100 | elapsed:    3.7s finished\n",
      "[Parallel(n_jobs=4)]: Using backend ThreadingBackend with 4 concurrent workers.\n",
      "[Parallel(n_jobs=4)]: Done  33 tasks      | elapsed:    0.0s\n",
      "[Parallel(n_jobs=4)]: Done 100 out of 100 | elapsed:    0.0s finished\n",
      "[Parallel(n_jobs=-1)]: Using backend LokyBackend with 4 concurrent workers.\n",
      "[Parallel(n_jobs=-1)]: Done  58 tasks      | elapsed:    2.3s\n",
      "[Parallel(n_jobs=-1)]: Done 100 out of 100 | elapsed:    3.7s finished\n",
      "[Parallel(n_jobs=4)]: Using backend ThreadingBackend with 4 concurrent workers.\n",
      "[Parallel(n_jobs=4)]: Done  33 tasks      | elapsed:    0.0s\n",
      "[Parallel(n_jobs=4)]: Done 100 out of 100 | elapsed:    0.0s finished\n",
      "[Parallel(n_jobs=-1)]: Using backend LokyBackend with 4 concurrent workers.\n",
      "[Parallel(n_jobs=-1)]: Done  58 tasks      | elapsed:    2.4s\n",
      "[Parallel(n_jobs=-1)]: Done 100 out of 100 | elapsed:    3.9s finished\n",
      "[Parallel(n_jobs=4)]: Using backend ThreadingBackend with 4 concurrent workers.\n",
      "[Parallel(n_jobs=4)]: Done  33 tasks      | elapsed:    0.0s\n",
      "[Parallel(n_jobs=4)]: Done 100 out of 100 | elapsed:    0.0s finished\n",
      "[Parallel(n_jobs=-1)]: Using backend LokyBackend with 4 concurrent workers.\n",
      "[Parallel(n_jobs=-1)]: Done  58 tasks      | elapsed:    2.3s\n",
      "[Parallel(n_jobs=-1)]: Done 100 out of 100 | elapsed:    3.8s finished\n",
      "[Parallel(n_jobs=4)]: Using backend ThreadingBackend with 4 concurrent workers.\n",
      "[Parallel(n_jobs=4)]: Done  33 tasks      | elapsed:    0.0s\n",
      "[Parallel(n_jobs=4)]: Done 100 out of 100 | elapsed:    0.0s finished\n",
      "[Parallel(n_jobs=-1)]: Using backend LokyBackend with 4 concurrent workers.\n",
      "[Parallel(n_jobs=-1)]: Done  58 tasks      | elapsed:    2.4s\n",
      "[Parallel(n_jobs=-1)]: Done 100 out of 100 | elapsed:    3.8s finished\n",
      "[Parallel(n_jobs=4)]: Using backend ThreadingBackend with 4 concurrent workers.\n",
      "[Parallel(n_jobs=4)]: Done  33 tasks      | elapsed:    0.0s\n",
      "[Parallel(n_jobs=4)]: Done 100 out of 100 | elapsed:    0.0s finished\n"
     ]
    },
    {
     "name": "stdout",
     "output_type": "stream",
     "text": [
      "Train Accuracy score :  0.75507421875\n",
      "Test Accuracy score :  0.7600182149362478\n",
      "\n",
      "Confusion Matrix\n",
      "[[2591  104   46]\n",
      " [ 497  365   74]\n",
      " [ 254   79  382]]\n",
      "\n",
      "\n",
      "              precision    recall  f1-score   support\n",
      "\n",
      "    negative      0.775     0.945     0.852      2741\n",
      "     neutral      0.666     0.390     0.492       936\n",
      "    positive      0.761     0.534     0.628       715\n",
      "\n",
      "    accuracy                          0.760      4392\n",
      "   macro avg      0.734     0.623     0.657      4392\n",
      "weighted avg      0.750     0.760     0.739      4392\n",
      "\n"
     ]
    }
   ],
   "source": [
    "print(\"Train Accuracy score : \", np.mean(cross_val_score(forest,X,y_train,cv=10)))\n",
    "print(\"Test Accuracy score : \",  accuracy_score(y_test, result))\n",
    "print(\"\")\n",
    "print('Confusion Matrix')\n",
    "\n",
    "# Print the confusion matrix\n",
    "print(confusion_matrix(y_test, result))\n",
    "print()\n",
    "print()\n",
    "# Print the precision and recall, among other metrics\n",
    "print(classification_report(y_test, result, digits=3))"
   ]
  },
  {
   "cell_type": "markdown",
   "metadata": {},
   "source": [
    "6. Summarize your understanding of the application of Various Pre-processing and Vectorization and performance of your model on this dataset. **(8 Marks)**"
   ]
  },
  {
   "cell_type": "markdown",
   "metadata": {},
   "source": [
    "#### SUMMARY "
   ]
  },
  {
   "cell_type": "markdown",
   "metadata": {},
   "source": [
    "Pre-processing the text is important to remove unwanted characters and words that might unnecessarily increase the processing time and/or confuse the model. The steps in preprocessing include removal of HTML tags, non-ASCII characters, numbers and stop-words. Numbers have little meaning in sentiment analysis and similarly stop words can be removed without altering the meaning of the text. Lemmatizing is more compute intensive but more accurate than simple stemming. It helps preserve the original meaning of the text.\n",
    "\n",
    "Vectorizing is a technique to extract more contextual information about the words in the text. TFID reflects how important a word is to a document in a collection or corpus whereas count vectorization simply counts the number of times a word appears in a document. Max features was set to 5000 for both vectorizers. Both TFID vectorization and Count vectorization produced similar Test Accuracy results **0.760 Vs 0.757** respectively, in the current project.\n",
    "\n",
    "Average Precision **(0.734)** was slightly higher for TFID vectorization as compared to Count Vectorization **(0.703)**, whereas   Recall and F1-score were slightly lower for TFID vectorization **(0.623,  0.657)** as compared to Count Vectorization **(0.646, 0.669)**.\n",
    "\n"
   ]
  }
 ],
 "metadata": {
  "colab": {
   "collapsed_sections": [],
   "name": "Plant_Seedlings_Image_Classification.ipynb",
   "provenance": []
  },
  "kernelspec": {
   "display_name": "Python 3",
   "language": "python",
   "name": "python3"
  },
  "language_info": {
   "codemirror_mode": {
    "name": "ipython",
    "version": 3
   },
   "file_extension": ".py",
   "mimetype": "text/x-python",
   "name": "python",
   "nbconvert_exporter": "python",
   "pygments_lexer": "ipython3",
   "version": "3.7.6"
  }
 },
 "nbformat": 4,
 "nbformat_minor": 1
}
